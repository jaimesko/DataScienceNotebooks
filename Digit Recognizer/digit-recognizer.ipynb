{
 "cells": [
  {
   "cell_type": "code",
   "execution_count": 1,
   "id": "74ed59e0",
   "metadata": {
    "_cell_guid": "b1076dfc-b9ad-4769-8c92-a6c4dae69d19",
    "_uuid": "8f2839f25d086af736a60e9eeb907d3b93b6e0e5",
    "execution": {
     "iopub.execute_input": "2023-04-14T22:50:49.449492Z",
     "iopub.status.busy": "2023-04-14T22:50:49.448932Z",
     "iopub.status.idle": "2023-04-14T22:50:49.473201Z",
     "shell.execute_reply": "2023-04-14T22:50:49.472334Z"
    },
    "papermill": {
     "duration": 0.048173,
     "end_time": "2023-04-14T22:50:49.479317",
     "exception": false,
     "start_time": "2023-04-14T22:50:49.431144",
     "status": "completed"
    },
    "tags": []
   },
   "outputs": [
    {
     "name": "stdout",
     "output_type": "stream",
     "text": [
      "/kaggle/input/digit-recognizer/sample_submission.csv\n",
      "/kaggle/input/digit-recognizer/train.csv\n",
      "/kaggle/input/digit-recognizer/test.csv\n"
     ]
    }
   ],
   "source": [
    "# This Python 3 environment comes with many helpful analytics libraries installed\n",
    "# It is defined by the kaggle/python Docker image: https://github.com/kaggle/docker-python\n",
    "# For example, here's several helpful packages to load\n",
    "\n",
    "import numpy as np # linear algebra\n",
    "import pandas as pd # data processing, CSV file I/O (e.g. pd.read_csv)\n",
    "\n",
    "# Input data files are available in the read-only \"../input/\" directory\n",
    "# For example, running this (by clicking run or pressing Shift+Enter) will list all files under the input directory\n",
    "\n",
    "import os\n",
    "for dirname, _, filenames in os.walk('/kaggle/input'):\n",
    "    for filename in filenames:\n",
    "        print(os.path.join(dirname, filename))\n",
    "\n",
    "# You can write up to 20GB to the current directory (/kaggle/working/) that gets preserved as output when you create a version using \"Save & Run All\" \n",
    "# You can also write temporary files to /kaggle/temp/, but they won't be saved outside of the current session"
   ]
  },
  {
   "cell_type": "markdown",
   "id": "02450c7a",
   "metadata": {
    "papermill": {
     "duration": 0.011777,
     "end_time": "2023-04-14T22:50:49.503892",
     "exception": false,
     "start_time": "2023-04-14T22:50:49.492115",
     "status": "completed"
    },
    "tags": []
   },
   "source": [
    "# Competition and Data\n",
    "https://www.kaggle.com/competitions/digit-recognizer/overview"
   ]
  },
  {
   "cell_type": "markdown",
   "id": "8d282a67",
   "metadata": {
    "papermill": {
     "duration": 0.011753,
     "end_time": "2023-04-14T22:50:49.527544",
     "exception": false,
     "start_time": "2023-04-14T22:50:49.515791",
     "status": "completed"
    },
    "tags": []
   },
   "source": [
    "The data files train.csv and test.csv contain gray-scale images of hand-drawn digits, from zero through nine.\n",
    "\n",
    "Each image is 28 pixels in height and 28 pixels in width, for a total of 784 pixels in total. Each pixel has a single pixel-value associated with it, indicating the lightness or darkness of that pixel, with higher numbers meaning darker. This pixel-value is an integer between 0 and 255, inclusive.\n",
    "\n",
    "The training data set, (train.csv), has 785 columns. The first column, called \"label\", is the digit that was drawn by the user. The rest of the columns contain the pixel-values of the associated image.\n",
    "\n",
    "Each pixel column in the training set has a name like pixelx, where x is an integer between 0 and 783, inclusive. To locate this pixel on the image, suppose that we have decomposed x as x = i * 28 + j, where i and j are integers between 0 and 27, inclusive. Then pixelx is located on row i and column j of a 28 x 28 matrix, (indexing by zero).\n",
    "\n",
    "For example, pixel31 indicates the pixel that is in the fourth column from the left, and the second row from the top, as in the ascii-diagram below.\n",
    "\n",
    "Visually, if we omit the \"pixel\" prefix, the pixels make up the image like this:\n",
    "\n",
    "000 001 002 003 ... 026 027\n",
    "028 029 030 031 ... 054 055\n",
    "056 057 058 059 ... 082 083\n",
    " |   |   |   |  ...  |   |\n",
    "728 729 730 731 ... 754 755\n",
    "756 757 758 759 ... 782 783 \n",
    "The test data set, (test.csv), is the same as the training set, except that it does not contain the \"label\" column.\n",
    "\n",
    "Your submission file should be in the following format: For each of the 28000 images in the test set, output a single line containing the ImageId and the digit you predict. For example, if you predict that the first image is of a 3, the second image is of a 7, and the third image is of a 8, then your submission file would look like:\n",
    "\n",
    "ImageId,Label\n",
    "1,3\n",
    "2,7\n",
    "3,8 \n",
    "(27997 more lines)\n",
    "The evaluation metric for this contest is the categorization accuracy, or the proportion of test images that are correctly classified. For example, a categorization accuracy of 0.97 indicates that you have correctly classified all but 3% of the images."
   ]
  },
  {
   "cell_type": "markdown",
   "id": "b2e6ff80",
   "metadata": {
    "papermill": {
     "duration": 0.012547,
     "end_time": "2023-04-14T22:50:49.553827",
     "exception": false,
     "start_time": "2023-04-14T22:50:49.541280",
     "status": "completed"
    },
    "tags": []
   },
   "source": [
    "# Setup"
   ]
  },
  {
   "cell_type": "code",
   "execution_count": 2,
   "id": "3499a1c1",
   "metadata": {
    "execution": {
     "iopub.execute_input": "2023-04-14T22:50:49.580296Z",
     "iopub.status.busy": "2023-04-14T22:50:49.579513Z",
     "iopub.status.idle": "2023-04-14T22:50:54.607495Z",
     "shell.execute_reply": "2023-04-14T22:50:54.606564Z"
    },
    "papermill": {
     "duration": 5.043913,
     "end_time": "2023-04-14T22:50:54.609853",
     "exception": false,
     "start_time": "2023-04-14T22:50:49.565940",
     "status": "completed"
    },
    "tags": []
   },
   "outputs": [],
   "source": [
    "import matplotlib.pyplot as plt\n",
    "%matplotlib inline\n",
    "import seaborn as sns\n",
    "import tensorflow as tf\n",
    "\n",
    "import warnings \n",
    "warnings.filterwarnings('ignore')"
   ]
  },
  {
   "cell_type": "code",
   "execution_count": 3,
   "id": "49eb1003",
   "metadata": {
    "execution": {
     "iopub.execute_input": "2023-04-14T22:50:54.630329Z",
     "iopub.status.busy": "2023-04-14T22:50:54.629846Z",
     "iopub.status.idle": "2023-04-14T22:50:54.635242Z",
     "shell.execute_reply": "2023-04-14T22:50:54.634322Z"
    },
    "papermill": {
     "duration": 0.017164,
     "end_time": "2023-04-14T22:50:54.637156",
     "exception": false,
     "start_time": "2023-04-14T22:50:54.619992",
     "status": "completed"
    },
    "tags": []
   },
   "outputs": [],
   "source": [
    "import random\n",
    "def set_seed(seed=42):\n",
    "    random.seed(seed)\n",
    "    np.random.seed(seed)\n",
    "    tf.random.set_seed(seed)\n",
    "    os.environ['PYTHONHASHSEED'] = str(seed)\n",
    "    os.environ['TF_DETERMINISTIC_OPS'] = '1'"
   ]
  },
  {
   "cell_type": "code",
   "execution_count": 4,
   "id": "2dba0451",
   "metadata": {
    "execution": {
     "iopub.execute_input": "2023-04-14T22:50:54.656027Z",
     "iopub.status.busy": "2023-04-14T22:50:54.654483Z",
     "iopub.status.idle": "2023-04-14T22:50:59.223414Z",
     "shell.execute_reply": "2023-04-14T22:50:59.222447Z"
    },
    "papermill": {
     "duration": 4.580467,
     "end_time": "2023-04-14T22:50:59.225862",
     "exception": false,
     "start_time": "2023-04-14T22:50:54.645395",
     "status": "completed"
    },
    "tags": []
   },
   "outputs": [],
   "source": [
    "train_path = \"/kaggle/input/digit-recognizer/train.csv\"\n",
    "train_data = pd.read_csv(train_path)\n",
    "test_path = \"/kaggle/input/digit-recognizer/test.csv\"\n",
    "test_data = pd.read_csv(test_path)"
   ]
  },
  {
   "cell_type": "code",
   "execution_count": 5,
   "id": "15caacac",
   "metadata": {
    "execution": {
     "iopub.execute_input": "2023-04-14T22:50:59.245804Z",
     "iopub.status.busy": "2023-04-14T22:50:59.244125Z",
     "iopub.status.idle": "2023-04-14T22:50:59.250367Z",
     "shell.execute_reply": "2023-04-14T22:50:59.249329Z"
    },
    "papermill": {
     "duration": 0.018665,
     "end_time": "2023-04-14T22:50:59.253237",
     "exception": false,
     "start_time": "2023-04-14T22:50:59.234572",
     "status": "completed"
    },
    "tags": []
   },
   "outputs": [
    {
     "name": "stdout",
     "output_type": "stream",
     "text": [
      "(42000, 785)\n",
      "(28000, 784)\n"
     ]
    }
   ],
   "source": [
    "# test.csv has doesn't have true target values.\n",
    "print(train_data.shape)\n",
    "print(test_data.shape)\n",
    "\n",
    "# rename test_data to pred_data\n",
    "pred_data = test_data"
   ]
  },
  {
   "cell_type": "markdown",
   "id": "b3199bec",
   "metadata": {
    "papermill": {
     "duration": 0.008041,
     "end_time": "2023-04-14T22:50:59.269387",
     "exception": false,
     "start_time": "2023-04-14T22:50:59.261346",
     "status": "completed"
    },
    "tags": []
   },
   "source": [
    "# Exploratory Data Analysis"
   ]
  },
  {
   "cell_type": "code",
   "execution_count": 6,
   "id": "47f18168",
   "metadata": {
    "execution": {
     "iopub.execute_input": "2023-04-14T22:50:59.286837Z",
     "iopub.status.busy": "2023-04-14T22:50:59.286577Z",
     "iopub.status.idle": "2023-04-14T22:50:59.376838Z",
     "shell.execute_reply": "2023-04-14T22:50:59.375833Z"
    },
    "papermill": {
     "duration": 0.101847,
     "end_time": "2023-04-14T22:50:59.379409",
     "exception": false,
     "start_time": "2023-04-14T22:50:59.277562",
     "status": "completed"
    },
    "tags": []
   },
   "outputs": [
    {
     "data": {
      "text/plain": [
       "(28000, 784)"
      ]
     },
     "execution_count": 6,
     "metadata": {},
     "output_type": "execute_result"
    }
   ],
   "source": [
    "train_images = train_data.drop(columns=[\"label\"], inplace=False)\n",
    "train_labels = train_data.label\n",
    "\n",
    "test_images = test_data\n",
    "test_data.shape"
   ]
  },
  {
   "cell_type": "code",
   "execution_count": 7,
   "id": "2a6cb6eb",
   "metadata": {
    "execution": {
     "iopub.execute_input": "2023-04-14T22:50:59.398206Z",
     "iopub.status.busy": "2023-04-14T22:50:59.397483Z",
     "iopub.status.idle": "2023-04-14T22:50:59.406042Z",
     "shell.execute_reply": "2023-04-14T22:50:59.405027Z"
    },
    "papermill": {
     "duration": 0.021065,
     "end_time": "2023-04-14T22:50:59.409031",
     "exception": false,
     "start_time": "2023-04-14T22:50:59.387966",
     "status": "completed"
    },
    "tags": []
   },
   "outputs": [
    {
     "data": {
      "text/plain": [
       "1    4684\n",
       "7    4401\n",
       "3    4351\n",
       "9    4188\n",
       "2    4177\n",
       "6    4137\n",
       "0    4132\n",
       "4    4072\n",
       "8    4063\n",
       "5    3795\n",
       "Name: label, dtype: int64"
      ]
     },
     "execution_count": 7,
     "metadata": {},
     "output_type": "execute_result"
    }
   ],
   "source": [
    "# Images per digit\n",
    "train_labels.value_counts()"
   ]
  },
  {
   "cell_type": "code",
   "execution_count": 8,
   "id": "3d862c89",
   "metadata": {
    "execution": {
     "iopub.execute_input": "2023-04-14T22:50:59.426927Z",
     "iopub.status.busy": "2023-04-14T22:50:59.426676Z",
     "iopub.status.idle": "2023-04-14T22:50:59.463980Z",
     "shell.execute_reply": "2023-04-14T22:50:59.463180Z"
    },
    "papermill": {
     "duration": 0.048596,
     "end_time": "2023-04-14T22:50:59.465986",
     "exception": false,
     "start_time": "2023-04-14T22:50:59.417390",
     "status": "completed"
    },
    "tags": []
   },
   "outputs": [
    {
     "data": {
      "text/plain": [
       "255"
      ]
     },
     "execution_count": 8,
     "metadata": {},
     "output_type": "execute_result"
    }
   ],
   "source": [
    "# Maximum pixel value\n",
    "train_images.to_numpy().max()"
   ]
  },
  {
   "cell_type": "code",
   "execution_count": 9,
   "id": "8512b53d",
   "metadata": {
    "execution": {
     "iopub.execute_input": "2023-04-14T22:50:59.484085Z",
     "iopub.status.busy": "2023-04-14T22:50:59.483833Z",
     "iopub.status.idle": "2023-04-14T22:50:59.673387Z",
     "shell.execute_reply": "2023-04-14T22:50:59.672405Z"
    },
    "papermill": {
     "duration": 0.2014,
     "end_time": "2023-04-14T22:50:59.675891",
     "exception": false,
     "start_time": "2023-04-14T22:50:59.474491",
     "status": "completed"
    },
    "tags": []
   },
   "outputs": [],
   "source": [
    "# Normalize\n",
    "train_images /= 255\n",
    "test_images /= 255"
   ]
  },
  {
   "cell_type": "code",
   "execution_count": 10,
   "id": "dd1a7c99",
   "metadata": {
    "execution": {
     "iopub.execute_input": "2023-04-14T22:50:59.696493Z",
     "iopub.status.busy": "2023-04-14T22:50:59.696174Z",
     "iopub.status.idle": "2023-04-14T22:50:59.906259Z",
     "shell.execute_reply": "2023-04-14T22:50:59.905327Z"
    },
    "papermill": {
     "duration": 0.222454,
     "end_time": "2023-04-14T22:50:59.908371",
     "exception": false,
     "start_time": "2023-04-14T22:50:59.685917",
     "status": "completed"
    },
    "tags": []
   },
   "outputs": [
    {
     "data": {
      "image/png": "[encoded data removed]",
      "text/plain": [
       "<Figure size 432x288 with 1 Axes>"
      ]
     },
     "metadata": {
      "needs_background": "light"
     },
     "output_type": "display_data"
    }
   ],
   "source": [
    "def show_image(index, images):\n",
    "    image = images.iloc[index].to_numpy().reshape(28, 28)\n",
    "    plt.figure()\n",
    "    plt.imshow(image)\n",
    "    plt.show()\n",
    "    \n",
    "show_image(9, train_images)"
   ]
  },
  {
   "cell_type": "markdown",
   "id": "b32a26f4",
   "metadata": {
    "papermill": {
     "duration": 0.008508,
     "end_time": "2023-04-14T22:50:59.926179",
     "exception": false,
     "start_time": "2023-04-14T22:50:59.917671",
     "status": "completed"
    },
    "tags": []
   },
   "source": [
    "# Training, Validation, Test Sets\n",
    "The validation set will be created from the training set when fitting the models. <br>\n",
    "Cross-validation is not necessary for large datasets."
   ]
  },
  {
   "cell_type": "code",
   "execution_count": 11,
   "id": "802953be",
   "metadata": {
    "execution": {
     "iopub.execute_input": "2023-04-14T22:50:59.945852Z",
     "iopub.status.busy": "2023-04-14T22:50:59.944381Z",
     "iopub.status.idle": "2023-04-14T22:51:00.470594Z",
     "shell.execute_reply": "2023-04-14T22:51:00.469469Z"
    },
    "papermill": {
     "duration": 0.538183,
     "end_time": "2023-04-14T22:51:00.473046",
     "exception": false,
     "start_time": "2023-04-14T22:50:59.934863",
     "status": "completed"
    },
    "tags": []
   },
   "outputs": [],
   "source": [
    "from sklearn.model_selection import train_test_split\n",
    "\n",
    "X_train, X_test, y_train, y_test = train_test_split(train_images, train_labels, test_size=0.1, random_state=42)"
   ]
  },
  {
   "cell_type": "code",
   "execution_count": 12,
   "id": "62f37554",
   "metadata": {
    "execution": {
     "iopub.execute_input": "2023-04-14T22:51:00.493622Z",
     "iopub.status.busy": "2023-04-14T22:51:00.491979Z",
     "iopub.status.idle": "2023-04-14T22:51:00.498371Z",
     "shell.execute_reply": "2023-04-14T22:51:00.497475Z"
    },
    "papermill": {
     "duration": 0.018304,
     "end_time": "2023-04-14T22:51:00.500468",
     "exception": false,
     "start_time": "2023-04-14T22:51:00.482164",
     "status": "completed"
    },
    "tags": []
   },
   "outputs": [],
   "source": [
    "import matplotlib.pyplot as plt\n",
    "\n",
    "def plot_loss(history):\n",
    "    \n",
    "    # get training and validation losses from the history object\n",
    "    train_loss = history.history['loss']\n",
    "    val_loss = history.history['val_loss']\n",
    "\n",
    "    # plot the training and validation losses\n",
    "    plt.plot(train_loss, label='Training Loss')\n",
    "    plt.plot(val_loss, label='Validation Loss')\n",
    "    plt.xlabel('Epoch')\n",
    "    plt.ylabel('Loss')\n",
    "    plt.legend()\n",
    "    plt.show()"
   ]
  },
  {
   "cell_type": "code",
   "execution_count": 13,
   "id": "666035aa",
   "metadata": {
    "execution": {
     "iopub.execute_input": "2023-04-14T22:51:00.518745Z",
     "iopub.status.busy": "2023-04-14T22:51:00.518474Z",
     "iopub.status.idle": "2023-04-14T22:51:00.522693Z",
     "shell.execute_reply": "2023-04-14T22:51:00.521713Z"
    },
    "papermill": {
     "duration": 0.015882,
     "end_time": "2023-04-14T22:51:00.524972",
     "exception": false,
     "start_time": "2023-04-14T22:51:00.509090",
     "status": "completed"
    },
    "tags": []
   },
   "outputs": [],
   "source": [
    "# https://stats.stackexchange.com/questions/181/how-to-choose-the-number-of-hidden-layers-and-nodes-in-a-feedforward-neural-netw"
   ]
  },
  {
   "cell_type": "markdown",
   "id": "1b158701",
   "metadata": {
    "execution": {
     "iopub.execute_input": "2022-09-20T23:05:09.024658Z",
     "iopub.status.busy": "2022-09-20T23:05:09.023763Z",
     "iopub.status.idle": "2022-09-20T23:05:09.028842Z",
     "shell.execute_reply": "2022-09-20T23:05:09.027821Z",
     "shell.execute_reply.started": "2022-09-20T23:05:09.024614Z"
    },
    "papermill": {
     "duration": 0.008424,
     "end_time": "2023-04-14T22:51:00.542048",
     "exception": false,
     "start_time": "2023-04-14T22:51:00.533624",
     "status": "completed"
    },
    "tags": []
   },
   "source": [
    "# ANN/FNN"
   ]
  },
  {
   "cell_type": "code",
   "execution_count": 14,
   "id": "3f36b7e1",
   "metadata": {
    "execution": {
     "iopub.execute_input": "2023-04-14T22:51:00.560306Z",
     "iopub.status.busy": "2023-04-14T22:51:00.560052Z",
     "iopub.status.idle": "2023-04-14T22:51:04.031024Z",
     "shell.execute_reply": "2023-04-14T22:51:04.029971Z"
    },
    "papermill": {
     "duration": 3.4824,
     "end_time": "2023-04-14T22:51:04.033102",
     "exception": false,
     "start_time": "2023-04-14T22:51:00.550702",
     "status": "completed"
    },
    "tags": []
   },
   "outputs": [
    {
     "name": "stdout",
     "output_type": "stream",
     "text": [
      "Model: \"sequential\"\n",
      "_________________________________________________________________\n",
      "Layer (type)                 Output Shape              Param #   \n",
      "=================================================================\n",
      "dense (Dense)                (None, 784)               615440    \n",
      "_________________________________________________________________\n",
      "dropout (Dropout)            (None, 784)               0         \n",
      "_________________________________________________________________\n",
      "dense_1 (Dense)              (None, 10)                7850      \n",
      "=================================================================\n",
      "Total params: 623,290\n",
      "Trainable params: 623,290\n",
      "Non-trainable params: 0\n",
      "_________________________________________________________________\n"
     ]
    }
   ],
   "source": [
    "model_fnn = tf.keras.Sequential([\n",
    "    tf.keras.layers.Dense(784, activation='relu', input_shape=[784]),\n",
    "    tf.keras.layers.Dropout(0.2),\n",
    "    tf.keras.layers.Dense(10, activation='softmax')\n",
    "])\n",
    "\n",
    "model_fnn.compile(optimizer='adam',\n",
    "             loss='sparse_categorical_crossentropy',\n",
    "             metrics=[\"accuracy\"])\n",
    "\n",
    "model_fnn.summary()"
   ]
  },
  {
   "cell_type": "code",
   "execution_count": 15,
   "id": "ccde3ebf",
   "metadata": {
    "execution": {
     "iopub.execute_input": "2023-04-14T22:51:04.053811Z",
     "iopub.status.busy": "2023-04-14T22:51:04.052209Z",
     "iopub.status.idle": "2023-04-14T22:51:46.064644Z",
     "shell.execute_reply": "2023-04-14T22:51:46.063681Z"
    },
    "papermill": {
     "duration": 42.025162,
     "end_time": "2023-04-14T22:51:46.067285",
     "exception": false,
     "start_time": "2023-04-14T22:51:04.042123",
     "status": "completed"
    },
    "tags": []
   },
   "outputs": [
    {
     "name": "stdout",
     "output_type": "stream",
     "text": [
      "Epoch 1/25\n",
      "945/945 [==============================] - 3s 2ms/step - loss: 0.2690 - accuracy: 0.9194 - val_loss: 0.1367 - val_accuracy: 0.9612\n",
      "Epoch 2/25\n",
      "945/945 [==============================] - 2s 2ms/step - loss: 0.1134 - accuracy: 0.9646 - val_loss: 0.1071 - val_accuracy: 0.9679\n",
      "Epoch 3/25\n",
      "945/945 [==============================] - 2s 2ms/step - loss: 0.0751 - accuracy: 0.9764 - val_loss: 0.1091 - val_accuracy: 0.9696\n",
      "Epoch 4/25\n",
      "945/945 [==============================] - 2s 2ms/step - loss: 0.0565 - accuracy: 0.9826 - val_loss: 0.1127 - val_accuracy: 0.9672\n",
      "Epoch 5/25\n",
      "945/945 [==============================] - 2s 2ms/step - loss: 0.0449 - accuracy: 0.9855 - val_loss: 0.1033 - val_accuracy: 0.9720\n",
      "Epoch 6/25\n",
      "945/945 [==============================] - 2s 2ms/step - loss: 0.0347 - accuracy: 0.9885 - val_loss: 0.1215 - val_accuracy: 0.9704\n",
      "Epoch 7/25\n",
      "945/945 [==============================] - 2s 2ms/step - loss: 0.0283 - accuracy: 0.9910 - val_loss: 0.1245 - val_accuracy: 0.9683\n",
      "Epoch 8/25\n",
      "945/945 [==============================] - 2s 2ms/step - loss: 0.0243 - accuracy: 0.9925 - val_loss: 0.1186 - val_accuracy: 0.9709\n",
      "Epoch 9/25\n",
      "945/945 [==============================] - 2s 2ms/step - loss: 0.0247 - accuracy: 0.9914 - val_loss: 0.1123 - val_accuracy: 0.9735\n",
      "Epoch 10/25\n",
      "945/945 [==============================] - 2s 2ms/step - loss: 0.0207 - accuracy: 0.9930 - val_loss: 0.1369 - val_accuracy: 0.9698\n"
     ]
    }
   ],
   "source": [
    "callbacks = [\n",
    "    tf.keras.callbacks.EarlyStopping(patience=5),\n",
    "    tf.keras.callbacks.ModelCheckpoint(filepath='best_fnn', monitor='val_loss', mode='min', save_best_only=True)\n",
    "]\n",
    "\n",
    "history_fnn = model_fnn.fit(X_train, y_train, epochs=25, validation_split=0.2, callbacks=callbacks)\n",
    "best_fnn = tf.keras.models.load_model('best_fnn')"
   ]
  },
  {
   "cell_type": "code",
   "execution_count": 16,
   "id": "afd77eac",
   "metadata": {
    "execution": {
     "iopub.execute_input": "2023-04-14T22:51:46.121556Z",
     "iopub.status.busy": "2023-04-14T22:51:46.121237Z",
     "iopub.status.idle": "2023-04-14T22:51:46.304212Z",
     "shell.execute_reply": "2023-04-14T22:51:46.303341Z"
    },
    "papermill": {
     "duration": 0.211034,
     "end_time": "2023-04-14T22:51:46.306340",
     "exception": false,
     "start_time": "2023-04-14T22:51:46.095306",
     "status": "completed"
    },
    "tags": []
   },
   "outputs": [
    {
     "data": {
      "image/png": "[encoded data removed]",
      "text/plain": [
       "<Figure size 432x288 with 1 Axes>"
      ]
     },
     "metadata": {
      "needs_background": "light"
     },
     "output_type": "display_data"
    }
   ],
   "source": [
    "plot_loss(history=history_fnn)"
   ]
  },
  {
   "cell_type": "markdown",
   "id": "cec80ed5",
   "metadata": {
    "papermill": {
     "duration": 0.025004,
     "end_time": "2023-04-14T22:51:46.357457",
     "exception": false,
     "start_time": "2023-04-14T22:51:46.332453",
     "status": "completed"
    },
    "tags": []
   },
   "source": [
    "# CNN"
   ]
  },
  {
   "cell_type": "code",
   "execution_count": 17,
   "id": "703e21bb",
   "metadata": {
    "execution": {
     "iopub.execute_input": "2023-04-14T22:51:46.408988Z",
     "iopub.status.busy": "2023-04-14T22:51:46.408707Z",
     "iopub.status.idle": "2023-04-14T22:51:46.413928Z",
     "shell.execute_reply": "2023-04-14T22:51:46.413021Z"
    },
    "papermill": {
     "duration": 0.033412,
     "end_time": "2023-04-14T22:51:46.416012",
     "exception": false,
     "start_time": "2023-04-14T22:51:46.382600",
     "status": "completed"
    },
    "tags": []
   },
   "outputs": [
    {
     "name": "stdout",
     "output_type": "stream",
     "text": [
      "(37800, 28, 28, 1)\n"
     ]
    }
   ],
   "source": [
    "X_train_cnn = X_train.values.reshape(-1, 28, 28, 1)\n",
    "X_test_cnn = X_test.values.reshape(-1, 28, 28, 1)\n",
    "print(X_train_cnn.shape)"
   ]
  },
  {
   "cell_type": "code",
   "execution_count": 18,
   "id": "48c5bd40",
   "metadata": {
    "execution": {
     "iopub.execute_input": "2023-04-14T22:51:46.468258Z",
     "iopub.status.busy": "2023-04-14T22:51:46.467480Z",
     "iopub.status.idle": "2023-04-14T22:51:46.533884Z",
     "shell.execute_reply": "2023-04-14T22:51:46.532775Z"
    },
    "papermill": {
     "duration": 0.094913,
     "end_time": "2023-04-14T22:51:46.536176",
     "exception": false,
     "start_time": "2023-04-14T22:51:46.441263",
     "status": "completed"
    },
    "tags": []
   },
   "outputs": [
    {
     "name": "stdout",
     "output_type": "stream",
     "text": [
      "(4200, 28, 28, 1)\n",
      "(4200,)\n",
      "Model: \"sequential_1\"\n",
      "_________________________________________________________________\n",
      "Layer (type)                 Output Shape              Param #   \n",
      "=================================================================\n",
      "conv2d (Conv2D)              (None, 28, 28, 32)        320       \n",
      "_________________________________________________________________\n",
      "max_pooling2d (MaxPooling2D) (None, 14, 14, 32)        0         \n",
      "_________________________________________________________________\n",
      "conv2d_1 (Conv2D)            (None, 14, 14, 64)        18496     \n",
      "_________________________________________________________________\n",
      "max_pooling2d_1 (MaxPooling2 (None, 7, 7, 64)          0         \n",
      "_________________________________________________________________\n",
      "conv2d_2 (Conv2D)            (None, 7, 7, 128)         73856     \n",
      "_________________________________________________________________\n",
      "max_pooling2d_2 (MaxPooling2 (None, 3, 3, 128)         0         \n",
      "_________________________________________________________________\n",
      "flatten (Flatten)            (None, 1152)              0         \n",
      "_________________________________________________________________\n",
      "dense_2 (Dense)              (None, 6)                 6918      \n",
      "_________________________________________________________________\n",
      "dense_3 (Dense)              (None, 10)                70        \n",
      "=================================================================\n",
      "Total params: 99,660\n",
      "Trainable params: 99,660\n",
      "Non-trainable params: 0\n",
      "_________________________________________________________________\n"
     ]
    }
   ],
   "source": [
    "model_cnn = tf.keras.Sequential([\n",
    "    \n",
    "    tf.keras.layers.Conv2D(filters=32, kernel_size=3, activation='relu', padding='same', input_shape=(28, 28, 1)),\n",
    "    tf.keras.layers.MaxPool2D(),\n",
    "    \n",
    "    tf.keras.layers.Conv2D(filters=64, kernel_size=3, activation='relu', padding='same'),\n",
    "    tf.keras.layers.MaxPool2D(),\n",
    "    \n",
    "    tf.keras.layers.Conv2D(filters=128, kernel_size=3, activation='relu', padding='same'),\n",
    "    tf.keras.layers.MaxPool2D(),\n",
    "    \n",
    "    tf.keras.layers.Flatten(),\n",
    "    tf.keras.layers.Dense(units=6, activation='relu'),\n",
    "    tf.keras.layers.Dense(units=10, activation='softmax')\n",
    "])\n",
    "\n",
    "model_cnn.compile(optimizer='adam',\n",
    "             loss='sparse_categorical_crossentropy',\n",
    "             metrics=[\"accuracy\"])\n",
    "\n",
    "print(X_test_cnn.shape)\n",
    "print(y_test.shape)\n",
    "model_cnn.summary()"
   ]
  },
  {
   "cell_type": "code",
   "execution_count": 19,
   "id": "4f31db2d",
   "metadata": {
    "execution": {
     "iopub.execute_input": "2023-04-14T22:51:46.589594Z",
     "iopub.status.busy": "2023-04-14T22:51:46.589198Z",
     "iopub.status.idle": "2023-04-14T22:53:09.532209Z",
     "shell.execute_reply": "2023-04-14T22:53:09.531240Z"
    },
    "papermill": {
     "duration": 82.9727,
     "end_time": "2023-04-14T22:53:09.535286",
     "exception": false,
     "start_time": "2023-04-14T22:51:46.562586",
     "status": "completed"
    },
    "tags": []
   },
   "outputs": [
    {
     "name": "stdout",
     "output_type": "stream",
     "text": [
      "Epoch 1/25\n",
      "945/945 [==============================] - 9s 4ms/step - loss: 0.7507 - accuracy: 0.7318 - val_loss: 0.1995 - val_accuracy: 0.9501\n",
      "Epoch 2/25\n",
      "945/945 [==============================] - 3s 3ms/step - loss: 0.1333 - accuracy: 0.9622 - val_loss: 0.1158 - val_accuracy: 0.9681\n",
      "Epoch 3/25\n",
      "945/945 [==============================] - 3s 3ms/step - loss: 0.0871 - accuracy: 0.9743 - val_loss: 0.0926 - val_accuracy: 0.9741\n",
      "Epoch 4/25\n",
      "945/945 [==============================] - 3s 3ms/step - loss: 0.0594 - accuracy: 0.9822 - val_loss: 0.0738 - val_accuracy: 0.9792\n",
      "Epoch 5/25\n",
      "945/945 [==============================] - 3s 3ms/step - loss: 0.0432 - accuracy: 0.9875 - val_loss: 0.0765 - val_accuracy: 0.9776\n",
      "Epoch 6/25\n",
      "945/945 [==============================] - 3s 3ms/step - loss: 0.0364 - accuracy: 0.9889 - val_loss: 0.0738 - val_accuracy: 0.9798\n",
      "Epoch 7/25\n",
      "945/945 [==============================] - 3s 3ms/step - loss: 0.0253 - accuracy: 0.9919 - val_loss: 0.0611 - val_accuracy: 0.9837\n",
      "Epoch 8/25\n",
      "945/945 [==============================] - 3s 3ms/step - loss: 0.0227 - accuracy: 0.9926 - val_loss: 0.0809 - val_accuracy: 0.9796\n",
      "Epoch 9/25\n",
      "945/945 [==============================] - 3s 3ms/step - loss: 0.0185 - accuracy: 0.9941 - val_loss: 0.0794 - val_accuracy: 0.9823\n",
      "Epoch 10/25\n",
      "945/945 [==============================] - 3s 3ms/step - loss: 0.0159 - accuracy: 0.9948 - val_loss: 0.0747 - val_accuracy: 0.9831\n",
      "Epoch 11/25\n",
      "945/945 [==============================] - 3s 3ms/step - loss: 0.0146 - accuracy: 0.9953 - val_loss: 0.0866 - val_accuracy: 0.9798\n",
      "Epoch 12/25\n",
      "945/945 [==============================] - 3s 3ms/step - loss: 0.0123 - accuracy: 0.9963 - val_loss: 0.0691 - val_accuracy: 0.9865\n"
     ]
    }
   ],
   "source": [
    "callbacks = [\n",
    "    tf.keras.callbacks.EarlyStopping(patience=5),\n",
    "    tf.keras.callbacks.ModelCheckpoint(filepath='best_cnn', monitor='val_loss', mode='min', save_best_only=True)\n",
    "]\n",
    "\n",
    "history_cnn = model_cnn.fit(X_train_cnn, y_train, epochs=25, validation_split=0.2, callbacks=callbacks)\n",
    "\n",
    "best_cnn = tf.keras.models.load_model('best_cnn')"
   ]
  },
  {
   "cell_type": "code",
   "execution_count": 20,
   "id": "455540e0",
   "metadata": {
    "execution": {
     "iopub.execute_input": "2023-04-14T22:53:09.650455Z",
     "iopub.status.busy": "2023-04-14T22:53:09.649795Z",
     "iopub.status.idle": "2023-04-14T22:53:10.109674Z",
     "shell.execute_reply": "2023-04-14T22:53:10.108714Z"
    },
    "papermill": {
     "duration": 0.519134,
     "end_time": "2023-04-14T22:53:10.111765",
     "exception": false,
     "start_time": "2023-04-14T22:53:09.592631",
     "status": "completed"
    },
    "tags": []
   },
   "outputs": [
    {
     "data": {
      "image/png": "[encoded data removed]",
      "text/plain": [
       "<Figure size 432x288 with 1 Axes>"
      ]
     },
     "metadata": {
      "needs_background": "light"
     },
     "output_type": "display_data"
    }
   ],
   "source": [
    "plot_loss(history=history_cnn)"
   ]
  },
  {
   "cell_type": "markdown",
   "id": "70d9ccb0",
   "metadata": {
    "papermill": {
     "duration": 0.056536,
     "end_time": "2023-04-14T22:53:10.225128",
     "exception": false,
     "start_time": "2023-04-14T22:53:10.168592",
     "status": "completed"
    },
    "tags": []
   },
   "source": [
    "# CCN with pretrained base"
   ]
  },
  {
   "cell_type": "code",
   "execution_count": 21,
   "id": "4c06baf4",
   "metadata": {
    "execution": {
     "iopub.execute_input": "2023-04-14T22:53:10.340331Z",
     "iopub.status.busy": "2023-04-14T22:53:10.339974Z",
     "iopub.status.idle": "2023-04-14T22:53:10.770551Z",
     "shell.execute_reply": "2023-04-14T22:53:10.769487Z"
    },
    "papermill": {
     "duration": 0.49099,
     "end_time": "2023-04-14T22:53:10.772740",
     "exception": false,
     "start_time": "2023-04-14T22:53:10.281750",
     "status": "completed"
    },
    "tags": []
   },
   "outputs": [
    {
     "data": {
      "text/plain": [
       "TensorShape([37800, 32, 32, 3])"
      ]
     },
     "execution_count": 21,
     "metadata": {},
     "output_type": "execute_result"
    }
   ],
   "source": [
    "def preprocess_rgb(data):\n",
    "    data = data.values.reshape(-1, 28, 28)\n",
    "    data = tf.image.grayscale_to_rgb(tf.expand_dims(data, axis=-1)) # -1 vs 3\n",
    "    data = tf.image.resize_with_pad(data, 32, 32)\n",
    "    return data\n",
    "\n",
    "X_train_pt = preprocess_rgb(X_train)\n",
    "X_test_pt = preprocess_rgb(X_test)\n",
    "X_train_pt.shape"
   ]
  },
  {
   "cell_type": "code",
   "execution_count": 22,
   "id": "c59bbbcb",
   "metadata": {
    "execution": {
     "iopub.execute_input": "2023-04-14T22:53:10.888198Z",
     "iopub.status.busy": "2023-04-14T22:53:10.887886Z",
     "iopub.status.idle": "2023-04-14T22:53:13.376479Z",
     "shell.execute_reply": "2023-04-14T22:53:13.375477Z"
    },
    "papermill": {
     "duration": 2.548648,
     "end_time": "2023-04-14T22:53:13.378838",
     "exception": false,
     "start_time": "2023-04-14T22:53:10.830190",
     "status": "completed"
    },
    "tags": []
   },
   "outputs": [
    {
     "name": "stdout",
     "output_type": "stream",
     "text": [
      "Downloading data from https://storage.googleapis.com/tensorflow/keras-applications/vgg16/vgg16_weights_tf_dim_ordering_tf_kernels_notop.h5\n",
      "58892288/58889256 [==============================] - 2s 0us/step\n",
      "58900480/58889256 [==============================] - 2s 0us/step\n"
     ]
    }
   ],
   "source": [
    "pretrained_base = tf.keras.applications.VGG16(input_shape=(32, 32, 3), weights='imagenet', include_top=False)\n",
    "pretrained_base.trainable = False"
   ]
  },
  {
   "cell_type": "code",
   "execution_count": 23,
   "id": "7734723a",
   "metadata": {
    "execution": {
     "iopub.execute_input": "2023-04-14T22:53:13.499091Z",
     "iopub.status.busy": "2023-04-14T22:53:13.498208Z",
     "iopub.status.idle": "2023-04-14T22:53:13.580085Z",
     "shell.execute_reply": "2023-04-14T22:53:13.579092Z"
    },
    "papermill": {
     "duration": 0.144493,
     "end_time": "2023-04-14T22:53:13.582935",
     "exception": false,
     "start_time": "2023-04-14T22:53:13.438442",
     "status": "completed"
    },
    "tags": []
   },
   "outputs": [
    {
     "name": "stdout",
     "output_type": "stream",
     "text": [
      "Model: \"sequential_2\"\n",
      "_________________________________________________________________\n",
      "Layer (type)                 Output Shape              Param #   \n",
      "=================================================================\n",
      "vgg16 (Functional)           (None, 1, 1, 512)         14714688  \n",
      "_________________________________________________________________\n",
      "flatten_1 (Flatten)          (None, 512)               0         \n",
      "_________________________________________________________________\n",
      "dropout_1 (Dropout)          (None, 512)               0         \n",
      "_________________________________________________________________\n",
      "dense_4 (Dense)              (None, 512)               262656    \n",
      "_________________________________________________________________\n",
      "dropout_2 (Dropout)          (None, 512)               0         \n",
      "_________________________________________________________________\n",
      "dense_5 (Dense)              (None, 10)                5130      \n",
      "=================================================================\n",
      "Total params: 14,982,474\n",
      "Trainable params: 267,786\n",
      "Non-trainable params: 14,714,688\n",
      "_________________________________________________________________\n"
     ]
    }
   ],
   "source": [
    "model_pt = tf.keras.Sequential([\n",
    "    pretrained_base,\n",
    "    tf.keras.layers.Flatten(),\n",
    "    \n",
    "    tf.keras.layers.Dropout(0.1),\n",
    "    tf.keras.layers.Dense(512, activation='relu'),\n",
    "    tf.keras.layers.Dropout(0.1),\n",
    "    \n",
    "    tf.keras.layers.Dense(10, activation='softmax')\n",
    "])\n",
    "\n",
    "model_pt.compile(optimizer='adam',\n",
    "             loss='sparse_categorical_crossentropy',\n",
    "             metrics=[\"accuracy\"])\n",
    "\n",
    "model_pt.summary()"
   ]
  },
  {
   "cell_type": "code",
   "execution_count": 24,
   "id": "2e969147",
   "metadata": {
    "execution": {
     "iopub.execute_input": "2023-04-14T22:53:13.704837Z",
     "iopub.status.busy": "2023-04-14T22:53:13.704133Z",
     "iopub.status.idle": "2023-04-14T22:57:37.407637Z",
     "shell.execute_reply": "2023-04-14T22:57:37.406658Z"
    },
    "papermill": {
     "duration": 263.767232,
     "end_time": "2023-04-14T22:57:37.410643",
     "exception": false,
     "start_time": "2023-04-14T22:53:13.643411",
     "status": "completed"
    },
    "tags": []
   },
   "outputs": [
    {
     "name": "stdout",
     "output_type": "stream",
     "text": [
      "Epoch 1/25\n",
      "945/945 [==============================] - 10s 10ms/step - loss: 0.4158 - accuracy: 0.8660 - val_loss: 0.2020 - val_accuracy: 0.9364\n",
      "Epoch 2/25\n",
      "945/945 [==============================] - 8s 8ms/step - loss: 0.2352 - accuracy: 0.9224 - val_loss: 0.1652 - val_accuracy: 0.9471\n",
      "Epoch 3/25\n",
      "945/945 [==============================] - 8s 8ms/step - loss: 0.2075 - accuracy: 0.9304 - val_loss: 0.1753 - val_accuracy: 0.9444\n",
      "Epoch 4/25\n",
      "945/945 [==============================] - 8s 8ms/step - loss: 0.1903 - accuracy: 0.9360 - val_loss: 0.1452 - val_accuracy: 0.9529\n",
      "Epoch 5/25\n",
      "945/945 [==============================] - 8s 8ms/step - loss: 0.1762 - accuracy: 0.9422 - val_loss: 0.1376 - val_accuracy: 0.9538\n",
      "Epoch 6/25\n",
      "945/945 [==============================] - 8s 8ms/step - loss: 0.1643 - accuracy: 0.9442 - val_loss: 0.1313 - val_accuracy: 0.9554\n",
      "Epoch 7/25\n",
      "945/945 [==============================] - 8s 8ms/step - loss: 0.1579 - accuracy: 0.9468 - val_loss: 0.1347 - val_accuracy: 0.9542\n",
      "Epoch 8/25\n",
      "945/945 [==============================] - 8s 8ms/step - loss: 0.1516 - accuracy: 0.9486 - val_loss: 0.1216 - val_accuracy: 0.9626\n",
      "Epoch 9/25\n",
      "945/945 [==============================] - 8s 8ms/step - loss: 0.1426 - accuracy: 0.9520 - val_loss: 0.1302 - val_accuracy: 0.9577\n",
      "Epoch 10/25\n",
      "945/945 [==============================] - 8s 8ms/step - loss: 0.1365 - accuracy: 0.9534 - val_loss: 0.1276 - val_accuracy: 0.9607\n",
      "Epoch 11/25\n",
      "945/945 [==============================] - 8s 8ms/step - loss: 0.1338 - accuracy: 0.9543 - val_loss: 0.1340 - val_accuracy: 0.9562\n",
      "Epoch 12/25\n",
      "945/945 [==============================] - 8s 8ms/step - loss: 0.1307 - accuracy: 0.9554 - val_loss: 0.1192 - val_accuracy: 0.9622\n",
      "Epoch 13/25\n",
      "945/945 [==============================] - 8s 8ms/step - loss: 0.1275 - accuracy: 0.9557 - val_loss: 0.1188 - val_accuracy: 0.9628\n",
      "Epoch 14/25\n",
      "945/945 [==============================] - 8s 8ms/step - loss: 0.1194 - accuracy: 0.9606 - val_loss: 0.1258 - val_accuracy: 0.9591\n",
      "Epoch 15/25\n",
      "945/945 [==============================] - 8s 8ms/step - loss: 0.1181 - accuracy: 0.9614 - val_loss: 0.1125 - val_accuracy: 0.9651\n",
      "Epoch 16/25\n",
      "945/945 [==============================] - 8s 8ms/step - loss: 0.1150 - accuracy: 0.9620 - val_loss: 0.1151 - val_accuracy: 0.9632\n",
      "Epoch 17/25\n",
      "945/945 [==============================] - 8s 8ms/step - loss: 0.1109 - accuracy: 0.9625 - val_loss: 0.1213 - val_accuracy: 0.9627\n",
      "Epoch 18/25\n",
      "945/945 [==============================] - 8s 8ms/step - loss: 0.1098 - accuracy: 0.9624 - val_loss: 0.1101 - val_accuracy: 0.9649\n",
      "Epoch 19/25\n",
      "945/945 [==============================] - 8s 8ms/step - loss: 0.1082 - accuracy: 0.9629 - val_loss: 0.1222 - val_accuracy: 0.9614\n",
      "Epoch 20/25\n",
      "945/945 [==============================] - 8s 8ms/step - loss: 0.1054 - accuracy: 0.9629 - val_loss: 0.1087 - val_accuracy: 0.9667\n",
      "Epoch 21/25\n",
      "945/945 [==============================] - 8s 8ms/step - loss: 0.1004 - accuracy: 0.9654 - val_loss: 0.1049 - val_accuracy: 0.9679\n",
      "Epoch 22/25\n",
      "945/945 [==============================] - 8s 8ms/step - loss: 0.1021 - accuracy: 0.9644 - val_loss: 0.1151 - val_accuracy: 0.9655\n",
      "Epoch 23/25\n",
      "945/945 [==============================] - 8s 8ms/step - loss: 0.0984 - accuracy: 0.9658 - val_loss: 0.1115 - val_accuracy: 0.9660\n",
      "Epoch 24/25\n",
      "945/945 [==============================] - 8s 8ms/step - loss: 0.0939 - accuracy: 0.9672 - val_loss: 0.1097 - val_accuracy: 0.9640\n",
      "Epoch 25/25\n",
      "945/945 [==============================] - 8s 8ms/step - loss: 0.0930 - accuracy: 0.9676 - val_loss: 0.1163 - val_accuracy: 0.9639\n"
     ]
    }
   ],
   "source": [
    "callbacks = [\n",
    "    tf.keras.callbacks.EarlyStopping(patience=5),\n",
    "    tf.keras.callbacks.ModelCheckpoint(filepath='best_pt', monitor='val_loss', mode='min', save_best_only=True)\n",
    "]\n",
    "\n",
    "history_pt = model_pt.fit(X_train_pt, y_train, epochs=25, validation_split=0.2, callbacks=callbacks)\n",
    "\n",
    "best_pt = tf.keras.models.load_model('best_pt')"
   ]
  },
  {
   "cell_type": "code",
   "execution_count": 25,
   "id": "ebeb164a",
   "metadata": {
    "execution": {
     "iopub.execute_input": "2023-04-14T22:57:37.840986Z",
     "iopub.status.busy": "2023-04-14T22:57:37.840636Z",
     "iopub.status.idle": "2023-04-14T22:57:38.050361Z",
     "shell.execute_reply": "2023-04-14T22:57:38.049349Z"
    },
    "papermill": {
     "duration": 0.426309,
     "end_time": "2023-04-14T22:57:38.052540",
     "exception": false,
     "start_time": "2023-04-14T22:57:37.626231",
     "status": "completed"
    },
    "tags": []
   },
   "outputs": [
    {
     "data": {
      "image/png": "[encoded data removed]",
      "text/plain": [
       "<Figure size 432x288 with 1 Axes>"
      ]
     },
     "metadata": {
      "needs_background": "light"
     },
     "output_type": "display_data"
    }
   ],
   "source": [
    "plot_loss(history=history_pt)"
   ]
  },
  {
   "cell_type": "markdown",
   "id": "d809eba5",
   "metadata": {
    "papermill": {
     "duration": 0.212299,
     "end_time": "2023-04-14T22:57:38.477866",
     "exception": false,
     "start_time": "2023-04-14T22:57:38.265567",
     "status": "completed"
    },
    "tags": []
   },
   "source": [
    "# Model comparison"
   ]
  },
  {
   "cell_type": "code",
   "execution_count": 26,
   "id": "06eeac99",
   "metadata": {
    "execution": {
     "iopub.execute_input": "2023-04-14T22:57:39.052501Z",
     "iopub.status.busy": "2023-04-14T22:57:39.052126Z",
     "iopub.status.idle": "2023-04-14T22:57:41.804559Z",
     "shell.execute_reply": "2023-04-14T22:57:41.803652Z"
    },
    "papermill": {
     "duration": 3.062508,
     "end_time": "2023-04-14T22:57:41.806693",
     "exception": false,
     "start_time": "2023-04-14T22:57:38.744185",
     "status": "completed"
    },
    "tags": []
   },
   "outputs": [
    {
     "name": "stdout",
     "output_type": "stream",
     "text": [
      "132/132 [==============================] - 0s 2ms/step - loss: 0.1020 - accuracy: 0.9702\n",
      "132/132 [==============================] - 0s 2ms/step - loss: 0.0615 - accuracy: 0.9843\n",
      "132/132 [==============================] - 1s 9ms/step - loss: 0.0849 - accuracy: 0.9717\n"
     ]
    }
   ],
   "source": [
    "# ANN/FNN\n",
    "test_loss_ann, test_acc_ann = best_fnn.evaluate(X_test, y_test) \n",
    "\n",
    "# CNN\n",
    "test_loss_cnn, test_acc_cnn = best_cnn.evaluate(X_test.values.reshape(-1, 28, 28, 1), y_test) \n",
    "\n",
    "# CNN with Pretrained Base\n",
    "X_test_pt = X_test.values.reshape(-1, 28, 28)\n",
    "X_test_pt = tf.image.grayscale_to_rgb(tf.expand_dims(X_test_pt, axis=-1)) # -1 vs 3\n",
    "X_test_pt = tf.image.resize_with_pad(X_test_pt, 32, 32)\n",
    "test_loss_pt, test_acc_pt = best_pt.evaluate(X_test_pt, y_test) "
   ]
  },
  {
   "cell_type": "markdown",
   "id": "bc0172f4",
   "metadata": {
    "papermill": {
     "duration": 0.213526,
     "end_time": "2023-04-14T22:57:42.235048",
     "exception": false,
     "start_time": "2023-04-14T22:57:42.021522",
     "status": "completed"
    },
    "tags": []
   },
   "source": [
    "# Best Model's (CNN) Metrics "
   ]
  },
  {
   "cell_type": "code",
   "execution_count": 27,
   "id": "a6b9b40c",
   "metadata": {
    "execution": {
     "iopub.execute_input": "2023-04-14T22:57:42.665906Z",
     "iopub.status.busy": "2023-04-14T22:57:42.664853Z",
     "iopub.status.idle": "2023-04-14T22:57:42.946376Z",
     "shell.execute_reply": "2023-04-14T22:57:42.945341Z"
    },
    "papermill": {
     "duration": 0.500235,
     "end_time": "2023-04-14T22:57:42.948701",
     "exception": false,
     "start_time": "2023-04-14T22:57:42.448466",
     "status": "completed"
    },
    "tags": []
   },
   "outputs": [
    {
     "data": {
      "text/plain": [
       "array([8, 1, 9, ..., 7, 7, 5])"
      ]
     },
     "execution_count": 27,
     "metadata": {},
     "output_type": "execute_result"
    }
   ],
   "source": [
    "# Predictions for the CNN\n",
    "pred_test = model_cnn.predict(X_test_cnn)\n",
    "pred_test = np.argmax(pred_test, axis=1)\n",
    "pred_test"
   ]
  },
  {
   "cell_type": "markdown",
   "id": "44d099b6",
   "metadata": {
    "papermill": {
     "duration": 0.215608,
     "end_time": "2023-04-14T22:57:43.429639",
     "exception": false,
     "start_time": "2023-04-14T22:57:43.214031",
     "status": "completed"
    },
    "tags": []
   },
   "source": [
    "## Confusion Matrix"
   ]
  },
  {
   "cell_type": "code",
   "execution_count": 28,
   "id": "06dc4ae4",
   "metadata": {
    "execution": {
     "iopub.execute_input": "2023-04-14T22:57:43.864168Z",
     "iopub.status.busy": "2023-04-14T22:57:43.863808Z",
     "iopub.status.idle": "2023-04-14T22:57:44.394804Z",
     "shell.execute_reply": "2023-04-14T22:57:44.393833Z"
    },
    "papermill": {
     "duration": 0.749952,
     "end_time": "2023-04-14T22:57:44.396924",
     "exception": false,
     "start_time": "2023-04-14T22:57:43.646972",
     "status": "completed"
    },
    "tags": []
   },
   "outputs": [
    {
     "data": {
      "image/png": "[encoded data removed]",
      "text/plain": [
       "<Figure size 720x504 with 2 Axes>"
      ]
     },
     "metadata": {
      "needs_background": "light"
     },
     "output_type": "display_data"
    }
   ],
   "source": [
    "from sklearn.metrics import confusion_matrix\n",
    "\n",
    "cm = confusion_matrix(pred_test, y_test)\n",
    "\n",
    "fig = plt.figure(figsize=(10, 7))\n",
    "ax = sns.heatmap(cm, annot=True, cmap=\"YlGnBu\", fmt='d')\n",
    "ax.set_title(\"Confusion Matrix\")\n",
    "ax.set_ylabel(\"Predicted\")\n",
    "ax.set_xlabel(\"True\")\n",
    "plt.show()"
   ]
  },
  {
   "cell_type": "markdown",
   "id": "1e210540",
   "metadata": {
    "papermill": {
     "duration": 0.212566,
     "end_time": "2023-04-14T22:57:44.825743",
     "exception": false,
     "start_time": "2023-04-14T22:57:44.613177",
     "status": "completed"
    },
    "tags": []
   },
   "source": [
    "## Precision, Recall & F1-scores"
   ]
  },
  {
   "cell_type": "code",
   "execution_count": 29,
   "id": "55e08ec9",
   "metadata": {
    "execution": {
     "iopub.execute_input": "2023-04-14T22:57:45.307189Z",
     "iopub.status.busy": "2023-04-14T22:57:45.306293Z",
     "iopub.status.idle": "2023-04-14T22:57:45.323209Z",
     "shell.execute_reply": "2023-04-14T22:57:45.322083Z"
    },
    "papermill": {
     "duration": 0.282672,
     "end_time": "2023-04-14T22:57:45.325931",
     "exception": false,
     "start_time": "2023-04-14T22:57:45.043259",
     "status": "completed"
    },
    "tags": []
   },
   "outputs": [
    {
     "name": "stdout",
     "output_type": "stream",
     "text": [
      "              precision    recall  f1-score   support\n",
      "\n",
      "           0       0.99      0.99      0.99       408\n",
      "           1       0.99      1.00      0.99       470\n",
      "           2       0.98      0.97      0.98       425\n",
      "           3       0.98      0.98      0.98       503\n",
      "           4       0.98      0.99      0.99       393\n",
      "           5       0.96      0.98      0.97       334\n",
      "           6       1.00      0.98      0.99       408\n",
      "           7       0.99      0.96      0.97       452\n",
      "           8       0.98      0.99      0.99       401\n",
      "           9       0.97      0.99      0.98       406\n",
      "\n",
      "    accuracy                           0.98      4200\n",
      "   macro avg       0.98      0.98      0.98      4200\n",
      "weighted avg       0.98      0.98      0.98      4200\n",
      "\n"
     ]
    }
   ],
   "source": [
    "from sklearn.metrics import classification_report\n",
    "\n",
    "print(classification_report(pred_test, y_test))"
   ]
  },
  {
   "cell_type": "markdown",
   "id": "98735c3d",
   "metadata": {
    "papermill": {
     "duration": 0.218975,
     "end_time": "2023-04-14T22:57:45.758755",
     "exception": false,
     "start_time": "2023-04-14T22:57:45.539780",
     "status": "completed"
    },
    "tags": []
   },
   "source": [
    "# Predictions"
   ]
  },
  {
   "cell_type": "code",
   "execution_count": 30,
   "id": "52a9bb3c",
   "metadata": {
    "execution": {
     "iopub.execute_input": "2023-04-14T22:57:46.186828Z",
     "iopub.status.busy": "2023-04-14T22:57:46.186469Z",
     "iopub.status.idle": "2023-04-14T22:57:47.658574Z",
     "shell.execute_reply": "2023-04-14T22:57:47.657484Z"
    },
    "papermill": {
     "duration": 1.688832,
     "end_time": "2023-04-14T22:57:47.660864",
     "exception": false,
     "start_time": "2023-04-14T22:57:45.972032",
     "status": "completed"
    },
    "tags": []
   },
   "outputs": [
    {
     "data": {
      "text/plain": [
       "array([2, 0, 9, ..., 3, 9, 2])"
      ]
     },
     "execution_count": 30,
     "metadata": {},
     "output_type": "execute_result"
    }
   ],
   "source": [
    "submission_prob = model_cnn.predict(test_data.values.reshape(-1, 28, 28, 1))\n",
    "submission_pred = np.argmax(submission_prob, axis=1)\n",
    "submission_pred"
   ]
  },
  {
   "cell_type": "markdown",
   "id": "b435b5dc",
   "metadata": {
    "papermill": {
     "duration": 0.214309,
     "end_time": "2023-04-14T22:57:48.091721",
     "exception": false,
     "start_time": "2023-04-14T22:57:47.877412",
     "status": "completed"
    },
    "tags": []
   },
   "source": [
    "# Submission"
   ]
  },
  {
   "cell_type": "code",
   "execution_count": 31,
   "id": "a59f58aa",
   "metadata": {
    "execution": {
     "iopub.execute_input": "2023-04-14T22:57:48.629025Z",
     "iopub.status.busy": "2023-04-14T22:57:48.628644Z",
     "iopub.status.idle": "2023-04-14T22:57:48.668362Z",
     "shell.execute_reply": "2023-04-14T22:57:48.667306Z"
    },
    "papermill": {
     "duration": 0.298662,
     "end_time": "2023-04-14T22:57:48.671105",
     "exception": false,
     "start_time": "2023-04-14T22:57:48.372443",
     "status": "completed"
    },
    "tags": []
   },
   "outputs": [],
   "source": [
    "submission = pd.Series(submission_pred, name='Label', index=range(1, len(submission_pred)+1)).to_frame()\n",
    "submission.index.name='ImageId'\n",
    "submission.to_csv(\"submission.csv\")"
   ]
  },
  {
   "cell_type": "markdown",
   "id": "b887a042",
   "metadata": {
    "papermill": {
     "duration": 0.248027,
     "end_time": "2023-04-14T22:57:49.166263",
     "exception": false,
     "start_time": "2023-04-14T22:57:48.918236",
     "status": "completed"
    },
    "tags": []
   },
   "source": [
    "# Prediction Visualizer"
   ]
  },
  {
   "cell_type": "code",
   "execution_count": 32,
   "id": "04e4a5da",
   "metadata": {
    "execution": {
     "iopub.execute_input": "2023-04-14T22:57:49.656095Z",
     "iopub.status.busy": "2023-04-14T22:57:49.655684Z",
     "iopub.status.idle": "2023-04-14T22:57:49.911498Z",
     "shell.execute_reply": "2023-04-14T22:57:49.909009Z"
    },
    "papermill": {
     "duration": 0.50493,
     "end_time": "2023-04-14T22:57:49.918136",
     "exception": false,
     "start_time": "2023-04-14T22:57:49.413206",
     "status": "completed"
    },
    "tags": []
   },
   "outputs": [
    {
     "name": "stdout",
     "output_type": "stream",
     "text": [
      "Prediction: 1\n"
     ]
    },
    {
     "data": {
      "image/png": "[encoded data removed]",
      "text/plain": [
       "<Figure size 432x288 with 1 Axes>"
      ]
     },
     "metadata": {
      "needs_background": "light"
     },
     "output_type": "display_data"
    }
   ],
   "source": [
    "idx = np.random.randint(0, len(submission_pred))\n",
    "print(f'Prediction: {submission_pred[idx]}')\n",
    "show_image(idx, test_images)"
   ]
  },
  {
   "cell_type": "markdown",
   "id": "f899f5ab",
   "metadata": {
    "papermill": {
     "duration": 0.213564,
     "end_time": "2023-04-14T22:57:50.484896",
     "exception": false,
     "start_time": "2023-04-14T22:57:50.271332",
     "status": "completed"
    },
    "tags": []
   },
   "source": [
    "# Ways to improve: \n",
    "* Pruning\n",
    "* Synthetic data & oversampling"
   ]
  }
 ],
 "metadata": {
  "kernelspec": {
   "display_name": "Python 3",
   "language": "python",
   "name": "python3"
  },
  "language_info": {
   "codemirror_mode": {
    "name": "ipython",
    "version": 3
   },
   "file_extension": ".py",
   "mimetype": "text/x-python",
   "name": "python",
   "nbconvert_exporter": "python",
   "pygments_lexer": "ipython3",
   "version": "3.7.12"
  },
  "papermill": {
   "default_parameters": {},
   "duration": 432.58576,
   "end_time": "2023-04-14T22:57:54.352264",
   "environment_variables": {},
   "exception": null,
   "input_path": "__notebook__.ipynb",
   "output_path": "__notebook__.ipynb",
   "parameters": {},
   "start_time": "2023-04-14T22:50:41.766504",
   "version": "2.3.4"
  }
 },
 "nbformat": 4,
 "nbformat_minor": 5
}
