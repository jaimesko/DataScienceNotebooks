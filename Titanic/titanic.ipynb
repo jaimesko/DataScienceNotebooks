{
 "cells": [
  {
   "cell_type": "code",
   "execution_count": 1,
   "id": "c724601a",
   "metadata": {
    "_cell_guid": "b1076dfc-b9ad-4769-8c92-a6c4dae69d19",
    "_uuid": "8f2839f25d086af736a60e9eeb907d3b93b6e0e5",
    "execution": {
     "iopub.execute_input": "2023-04-14T23:01:11.429570Z",
     "iopub.status.busy": "2023-04-14T23:01:11.428708Z",
     "iopub.status.idle": "2023-04-14T23:01:11.444599Z",
     "shell.execute_reply": "2023-04-14T23:01:11.443293Z"
    },
    "papermill": {
     "duration": 0.044978,
     "end_time": "2023-04-14T23:01:11.447639",
     "exception": false,
     "start_time": "2023-04-14T23:01:11.402661",
     "status": "completed"
    },
    "tags": []
   },
   "outputs": [
    {
     "name": "stdout",
     "output_type": "stream",
     "text": [
      "/kaggle/input/titanic/train.csv\n",
      "/kaggle/input/titanic/test.csv\n",
      "/kaggle/input/titanic/gender_submission.csv\n"
     ]
    }
   ],
   "source": [
    "# This Python 3 environment comes with many helpful analytics libraries installed\n",
    "# It is defined by the kaggle/python Docker image: https://github.com/kaggle/docker-python\n",
    "\n",
    "# Input data files are available in the read-only \"../input/\" directory\n",
    "# For example, running this (by clicking run or pressing Shift+Enter) will list all files under the input directory\n",
    "\n",
    "import os\n",
    "for dirname, _, filenames in os.walk('/kaggle/input'):\n",
    "    for filename in filenames:\n",
    "        print(os.path.join(dirname, filename))\n",
    "\n",
    "# You can write up to 20GB to the current directory (/kaggle/working/) that gets preserved as output when you create a version using \"Save & Run All\" \n",
    "# You can also write temporary files to /kaggle/temp/, but they won't be saved outside of the current session"
   ]
  },
  {
   "cell_type": "markdown",
   "id": "67b0ced3",
   "metadata": {
    "papermill": {
     "duration": 0.021578,
     "end_time": "2023-04-14T23:01:11.493563",
     "exception": false,
     "start_time": "2023-04-14T23:01:11.471985",
     "status": "completed"
    },
    "tags": []
   },
   "source": [
    "# Competition and Data:\n",
    "https://www.kaggle.com/competitions/titanic/overview/description "
   ]
  },
  {
   "cell_type": "markdown",
   "id": "edb00864",
   "metadata": {
    "papermill": {
     "duration": 0.021362,
     "end_time": "2023-04-14T23:01:11.537271",
     "exception": false,
     "start_time": "2023-04-14T23:01:11.515909",
     "status": "completed"
    },
    "tags": []
   },
   "source": [
    "# Setup"
   ]
  },
  {
   "cell_type": "code",
   "execution_count": 2,
   "id": "a0b9f481",
   "metadata": {
    "execution": {
     "iopub.execute_input": "2023-04-14T23:01:11.583225Z",
     "iopub.status.busy": "2023-04-14T23:01:11.582782Z",
     "iopub.status.idle": "2023-04-14T23:01:21.321886Z",
     "shell.execute_reply": "2023-04-14T23:01:21.320451Z"
    },
    "papermill": {
     "duration": 9.765775,
     "end_time": "2023-04-14T23:01:21.325006",
     "exception": false,
     "start_time": "2023-04-14T23:01:11.559231",
     "status": "completed"
    },
    "tags": []
   },
   "outputs": [],
   "source": [
    "import os\n",
    "import random\n",
    "\n",
    "from scipy import stats\n",
    "import pandas as pd\n",
    "import numpy as np\n",
    "import tensorflow as tf\n",
    "\n",
    "import seaborn as sns\n",
    "import matplotlib.pyplot as plt\n",
    "%matplotlib inline"
   ]
  },
  {
   "cell_type": "code",
   "execution_count": 3,
   "id": "d69d69e8",
   "metadata": {
    "execution": {
     "iopub.execute_input": "2023-04-14T23:01:21.373273Z",
     "iopub.status.busy": "2023-04-14T23:01:21.372379Z",
     "iopub.status.idle": "2023-04-14T23:01:21.379562Z",
     "shell.execute_reply": "2023-04-14T23:01:21.378144Z"
    },
    "papermill": {
     "duration": 0.034508,
     "end_time": "2023-04-14T23:01:21.382376",
     "exception": false,
     "start_time": "2023-04-14T23:01:21.347868",
     "status": "completed"
    },
    "tags": []
   },
   "outputs": [],
   "source": [
    "def random_seeds(seed):\n",
    "    os.environ['PYTHONHASHSEED'] = str(seed)\n",
    "    random.seed(seed)\n",
    "    np.random.seed(seed)\n",
    "    tf.random.set_seed(seed)\n",
    "    \n",
    "random_seeds(0)"
   ]
  },
  {
   "cell_type": "code",
   "execution_count": 4,
   "id": "0862dd5f",
   "metadata": {
    "execution": {
     "iopub.execute_input": "2023-04-14T23:01:21.428543Z",
     "iopub.status.busy": "2023-04-14T23:01:21.427823Z",
     "iopub.status.idle": "2023-04-14T23:01:21.461484Z",
     "shell.execute_reply": "2023-04-14T23:01:21.460152Z"
    },
    "papermill": {
     "duration": 0.060016,
     "end_time": "2023-04-14T23:01:21.464297",
     "exception": false,
     "start_time": "2023-04-14T23:01:21.404281",
     "status": "completed"
    },
    "tags": []
   },
   "outputs": [],
   "source": [
    "train_path = \"/kaggle/input/titanic/train.csv\"\n",
    "train_data = pd.read_csv(train_path)\n",
    "test_path = \"/kaggle/input/titanic/test.csv\"\n",
    "test_data = pd.read_csv(test_path)\n",
    "\n",
    "eng_data = train_data.copy()"
   ]
  },
  {
   "cell_type": "markdown",
   "id": "8b0f32d5",
   "metadata": {
    "papermill": {
     "duration": 0.021722,
     "end_time": "2023-04-14T23:01:21.508381",
     "exception": false,
     "start_time": "2023-04-14T23:01:21.486659",
     "status": "completed"
    },
    "tags": []
   },
   "source": [
    "# Exploratory Data Analysis"
   ]
  },
  {
   "cell_type": "code",
   "execution_count": 5,
   "id": "eb86a1cd",
   "metadata": {
    "execution": {
     "iopub.execute_input": "2023-04-14T23:01:21.555232Z",
     "iopub.status.busy": "2023-04-14T23:01:21.554272Z",
     "iopub.status.idle": "2023-04-14T23:01:21.564635Z",
     "shell.execute_reply": "2023-04-14T23:01:21.563294Z"
    },
    "papermill": {
     "duration": 0.036921,
     "end_time": "2023-04-14T23:01:21.567301",
     "exception": false,
     "start_time": "2023-04-14T23:01:21.530380",
     "status": "completed"
    },
    "tags": []
   },
   "outputs": [
    {
     "data": {
      "text/plain": [
       "Index(['PassengerId', 'Pclass', 'Name', 'Sex', 'Age', 'SibSp', 'Parch',\n",
       "       'Ticket', 'Fare', 'Cabin', 'Embarked'],\n",
       "      dtype='object')"
      ]
     },
     "execution_count": 5,
     "metadata": {},
     "output_type": "execute_result"
    }
   ],
   "source": [
    "# test_data doesn't contain labels, so it cannot actually be used as the test set.\n",
    "pred_data = test_data\n",
    "test_data.columns"
   ]
  },
  {
   "cell_type": "code",
   "execution_count": 6,
   "id": "54f15656",
   "metadata": {
    "execution": {
     "iopub.execute_input": "2023-04-14T23:01:21.613797Z",
     "iopub.status.busy": "2023-04-14T23:01:21.613300Z",
     "iopub.status.idle": "2023-04-14T23:01:21.646477Z",
     "shell.execute_reply": "2023-04-14T23:01:21.645145Z"
    },
    "papermill": {
     "duration": 0.059683,
     "end_time": "2023-04-14T23:01:21.649189",
     "exception": false,
     "start_time": "2023-04-14T23:01:21.589506",
     "status": "completed"
    },
    "tags": []
   },
   "outputs": [
    {
     "data": {
      "text/html": [
       "<div>\n",
       "<style scoped>\n",
       "    .dataframe tbody tr th:only-of-type {\n",
       "        vertical-align: middle;\n",
       "    }\n",
       "\n",
       "    .dataframe tbody tr th {\n",
       "        vertical-align: top;\n",
       "    }\n",
       "\n",
       "    .dataframe thead th {\n",
       "        text-align: right;\n",
       "    }\n",
       "</style>\n",
       "<table border=\"1\" class=\"dataframe\">\n",
       "  <thead>\n",
       "    <tr style=\"text-align: right;\">\n",
       "      <th></th>\n",
       "      <th>PassengerId</th>\n",
       "      <th>Survived</th>\n",
       "      <th>Pclass</th>\n",
       "      <th>Name</th>\n",
       "      <th>Sex</th>\n",
       "      <th>Age</th>\n",
       "      <th>SibSp</th>\n",
       "      <th>Parch</th>\n",
       "      <th>Ticket</th>\n",
       "      <th>Fare</th>\n",
       "      <th>Cabin</th>\n",
       "      <th>Embarked</th>\n",
       "    </tr>\n",
       "  </thead>\n",
       "  <tbody>\n",
       "    <tr>\n",
       "      <th>0</th>\n",
       "      <td>1</td>\n",
       "      <td>0</td>\n",
       "      <td>3</td>\n",
       "      <td>Braund, Mr. Owen Harris</td>\n",
       "      <td>male</td>\n",
       "      <td>22.0</td>\n",
       "      <td>1</td>\n",
       "      <td>0</td>\n",
       "      <td>A/5 21171</td>\n",
       "      <td>7.2500</td>\n",
       "      <td>NaN</td>\n",
       "      <td>S</td>\n",
       "    </tr>\n",
       "    <tr>\n",
       "      <th>1</th>\n",
       "      <td>2</td>\n",
       "      <td>1</td>\n",
       "      <td>1</td>\n",
       "      <td>Cumings, Mrs. John Bradley (Florence Briggs Th...</td>\n",
       "      <td>female</td>\n",
       "      <td>38.0</td>\n",
       "      <td>1</td>\n",
       "      <td>0</td>\n",
       "      <td>PC 17599</td>\n",
       "      <td>71.2833</td>\n",
       "      <td>C85</td>\n",
       "      <td>C</td>\n",
       "    </tr>\n",
       "    <tr>\n",
       "      <th>2</th>\n",
       "      <td>3</td>\n",
       "      <td>1</td>\n",
       "      <td>3</td>\n",
       "      <td>Heikkinen, Miss. Laina</td>\n",
       "      <td>female</td>\n",
       "      <td>26.0</td>\n",
       "      <td>0</td>\n",
       "      <td>0</td>\n",
       "      <td>STON/O2. 3101282</td>\n",
       "      <td>7.9250</td>\n",
       "      <td>NaN</td>\n",
       "      <td>S</td>\n",
       "    </tr>\n",
       "    <tr>\n",
       "      <th>3</th>\n",
       "      <td>4</td>\n",
       "      <td>1</td>\n",
       "      <td>1</td>\n",
       "      <td>Futrelle, Mrs. Jacques Heath (Lily May Peel)</td>\n",
       "      <td>female</td>\n",
       "      <td>35.0</td>\n",
       "      <td>1</td>\n",
       "      <td>0</td>\n",
       "      <td>113803</td>\n",
       "      <td>53.1000</td>\n",
       "      <td>C123</td>\n",
       "      <td>S</td>\n",
       "    </tr>\n",
       "    <tr>\n",
       "      <th>4</th>\n",
       "      <td>5</td>\n",
       "      <td>0</td>\n",
       "      <td>3</td>\n",
       "      <td>Allen, Mr. William Henry</td>\n",
       "      <td>male</td>\n",
       "      <td>35.0</td>\n",
       "      <td>0</td>\n",
       "      <td>0</td>\n",
       "      <td>373450</td>\n",
       "      <td>8.0500</td>\n",
       "      <td>NaN</td>\n",
       "      <td>S</td>\n",
       "    </tr>\n",
       "  </tbody>\n",
       "</table>\n",
       "</div>"
      ],
      "text/plain": [
       "   PassengerId  Survived  Pclass  \\\n",
       "0            1         0       3   \n",
       "1            2         1       1   \n",
       "2            3         1       3   \n",
       "3            4         1       1   \n",
       "4            5         0       3   \n",
       "\n",
       "                                                Name     Sex   Age  SibSp  \\\n",
       "0                            Braund, Mr. Owen Harris    male  22.0      1   \n",
       "1  Cumings, Mrs. John Bradley (Florence Briggs Th...  female  38.0      1   \n",
       "2                             Heikkinen, Miss. Laina  female  26.0      0   \n",
       "3       Futrelle, Mrs. Jacques Heath (Lily May Peel)  female  35.0      1   \n",
       "4                           Allen, Mr. William Henry    male  35.0      0   \n",
       "\n",
       "   Parch            Ticket     Fare Cabin Embarked  \n",
       "0      0         A/5 21171   7.2500   NaN        S  \n",
       "1      0          PC 17599  71.2833   C85        C  \n",
       "2      0  STON/O2. 3101282   7.9250   NaN        S  \n",
       "3      0            113803  53.1000  C123        S  \n",
       "4      0            373450   8.0500   NaN        S  "
      ]
     },
     "execution_count": 6,
     "metadata": {},
     "output_type": "execute_result"
    }
   ],
   "source": [
    "train_data.head()"
   ]
  },
  {
   "cell_type": "code",
   "execution_count": 7,
   "id": "362a53f5",
   "metadata": {
    "execution": {
     "iopub.execute_input": "2023-04-14T23:01:21.696825Z",
     "iopub.status.busy": "2023-04-14T23:01:21.695934Z",
     "iopub.status.idle": "2023-04-14T23:01:21.724325Z",
     "shell.execute_reply": "2023-04-14T23:01:21.722830Z"
    },
    "papermill": {
     "duration": 0.055702,
     "end_time": "2023-04-14T23:01:21.727534",
     "exception": false,
     "start_time": "2023-04-14T23:01:21.671832",
     "status": "completed"
    },
    "tags": []
   },
   "outputs": [
    {
     "name": "stdout",
     "output_type": "stream",
     "text": [
      "<class 'pandas.core.frame.DataFrame'>\n",
      "RangeIndex: 891 entries, 0 to 890\n",
      "Data columns (total 12 columns):\n",
      " #   Column       Non-Null Count  Dtype  \n",
      "---  ------       --------------  -----  \n",
      " 0   PassengerId  891 non-null    int64  \n",
      " 1   Survived     891 non-null    int64  \n",
      " 2   Pclass       891 non-null    int64  \n",
      " 3   Name         891 non-null    object \n",
      " 4   Sex          891 non-null    object \n",
      " 5   Age          714 non-null    float64\n",
      " 6   SibSp        891 non-null    int64  \n",
      " 7   Parch        891 non-null    int64  \n",
      " 8   Ticket       891 non-null    object \n",
      " 9   Fare         891 non-null    float64\n",
      " 10  Cabin        204 non-null    object \n",
      " 11  Embarked     889 non-null    object \n",
      "dtypes: float64(2), int64(5), object(5)\n",
      "memory usage: 83.7+ KB\n"
     ]
    }
   ],
   "source": [
    "train_data.info()"
   ]
  },
  {
   "cell_type": "code",
   "execution_count": 8,
   "id": "8117297d",
   "metadata": {
    "execution": {
     "iopub.execute_input": "2023-04-14T23:01:21.775353Z",
     "iopub.status.busy": "2023-04-14T23:01:21.774892Z",
     "iopub.status.idle": "2023-04-14T23:01:21.813270Z",
     "shell.execute_reply": "2023-04-14T23:01:21.811907Z"
    },
    "papermill": {
     "duration": 0.066323,
     "end_time": "2023-04-14T23:01:21.816318",
     "exception": false,
     "start_time": "2023-04-14T23:01:21.749995",
     "status": "completed"
    },
    "tags": []
   },
   "outputs": [
    {
     "data": {
      "text/html": [
       "<div>\n",
       "<style scoped>\n",
       "    .dataframe tbody tr th:only-of-type {\n",
       "        vertical-align: middle;\n",
       "    }\n",
       "\n",
       "    .dataframe tbody tr th {\n",
       "        vertical-align: top;\n",
       "    }\n",
       "\n",
       "    .dataframe thead th {\n",
       "        text-align: right;\n",
       "    }\n",
       "</style>\n",
       "<table border=\"1\" class=\"dataframe\">\n",
       "  <thead>\n",
       "    <tr style=\"text-align: right;\">\n",
       "      <th></th>\n",
       "      <th>PassengerId</th>\n",
       "      <th>Survived</th>\n",
       "      <th>Pclass</th>\n",
       "      <th>Age</th>\n",
       "      <th>SibSp</th>\n",
       "      <th>Parch</th>\n",
       "      <th>Fare</th>\n",
       "    </tr>\n",
       "  </thead>\n",
       "  <tbody>\n",
       "    <tr>\n",
       "      <th>count</th>\n",
       "      <td>891.000000</td>\n",
       "      <td>891.000000</td>\n",
       "      <td>891.000000</td>\n",
       "      <td>714.000000</td>\n",
       "      <td>891.000000</td>\n",
       "      <td>891.000000</td>\n",
       "      <td>891.000000</td>\n",
       "    </tr>\n",
       "    <tr>\n",
       "      <th>mean</th>\n",
       "      <td>446.000000</td>\n",
       "      <td>0.383838</td>\n",
       "      <td>2.308642</td>\n",
       "      <td>29.699118</td>\n",
       "      <td>0.523008</td>\n",
       "      <td>0.381594</td>\n",
       "      <td>32.204208</td>\n",
       "    </tr>\n",
       "    <tr>\n",
       "      <th>std</th>\n",
       "      <td>257.353842</td>\n",
       "      <td>0.486592</td>\n",
       "      <td>0.836071</td>\n",
       "      <td>14.526497</td>\n",
       "      <td>1.102743</td>\n",
       "      <td>0.806057</td>\n",
       "      <td>49.693429</td>\n",
       "    </tr>\n",
       "    <tr>\n",
       "      <th>min</th>\n",
       "      <td>1.000000</td>\n",
       "      <td>0.000000</td>\n",
       "      <td>1.000000</td>\n",
       "      <td>0.420000</td>\n",
       "      <td>0.000000</td>\n",
       "      <td>0.000000</td>\n",
       "      <td>0.000000</td>\n",
       "    </tr>\n",
       "    <tr>\n",
       "      <th>25%</th>\n",
       "      <td>223.500000</td>\n",
       "      <td>0.000000</td>\n",
       "      <td>2.000000</td>\n",
       "      <td>20.125000</td>\n",
       "      <td>0.000000</td>\n",
       "      <td>0.000000</td>\n",
       "      <td>7.910400</td>\n",
       "    </tr>\n",
       "    <tr>\n",
       "      <th>50%</th>\n",
       "      <td>446.000000</td>\n",
       "      <td>0.000000</td>\n",
       "      <td>3.000000</td>\n",
       "      <td>28.000000</td>\n",
       "      <td>0.000000</td>\n",
       "      <td>0.000000</td>\n",
       "      <td>14.454200</td>\n",
       "    </tr>\n",
       "    <tr>\n",
       "      <th>75%</th>\n",
       "      <td>668.500000</td>\n",
       "      <td>1.000000</td>\n",
       "      <td>3.000000</td>\n",
       "      <td>38.000000</td>\n",
       "      <td>1.000000</td>\n",
       "      <td>0.000000</td>\n",
       "      <td>31.000000</td>\n",
       "    </tr>\n",
       "    <tr>\n",
       "      <th>max</th>\n",
       "      <td>891.000000</td>\n",
       "      <td>1.000000</td>\n",
       "      <td>3.000000</td>\n",
       "      <td>80.000000</td>\n",
       "      <td>8.000000</td>\n",
       "      <td>6.000000</td>\n",
       "      <td>512.329200</td>\n",
       "    </tr>\n",
       "  </tbody>\n",
       "</table>\n",
       "</div>"
      ],
      "text/plain": [
       "       PassengerId    Survived      Pclass         Age       SibSp  \\\n",
       "count   891.000000  891.000000  891.000000  714.000000  891.000000   \n",
       "mean    446.000000    0.383838    2.308642   29.699118    0.523008   \n",
       "std     257.353842    0.486592    0.836071   14.526497    1.102743   \n",
       "min       1.000000    0.000000    1.000000    0.420000    0.000000   \n",
       "25%     223.500000    0.000000    2.000000   20.125000    0.000000   \n",
       "50%     446.000000    0.000000    3.000000   28.000000    0.000000   \n",
       "75%     668.500000    1.000000    3.000000   38.000000    1.000000   \n",
       "max     891.000000    1.000000    3.000000   80.000000    8.000000   \n",
       "\n",
       "            Parch        Fare  \n",
       "count  891.000000  891.000000  \n",
       "mean     0.381594   32.204208  \n",
       "std      0.806057   49.693429  \n",
       "min      0.000000    0.000000  \n",
       "25%      0.000000    7.910400  \n",
       "50%      0.000000   14.454200  \n",
       "75%      0.000000   31.000000  \n",
       "max      6.000000  512.329200  "
      ]
     },
     "execution_count": 8,
     "metadata": {},
     "output_type": "execute_result"
    }
   ],
   "source": [
    "train_data.describe()"
   ]
  },
  {
   "cell_type": "code",
   "execution_count": 9,
   "id": "8c0862c4",
   "metadata": {
    "execution": {
     "iopub.execute_input": "2023-04-14T23:01:21.865247Z",
     "iopub.status.busy": "2023-04-14T23:01:21.864244Z",
     "iopub.status.idle": "2023-04-14T23:01:21.877789Z",
     "shell.execute_reply": "2023-04-14T23:01:21.875753Z"
    },
    "papermill": {
     "duration": 0.041673,
     "end_time": "2023-04-14T23:01:21.880766",
     "exception": false,
     "start_time": "2023-04-14T23:01:21.839093",
     "status": "completed"
    },
    "tags": []
   },
   "outputs": [
    {
     "name": "stdout",
     "output_type": "stream",
     "text": [
      "Numerical columns: ['Age', 'SibSp', 'Parch', 'Fare']\n",
      "Categorical columns: ['Pclass', 'Name', 'Sex', 'Ticket', 'Cabin', 'Embarked']\n",
      "Columns with missing values: ['Age', 'Cabin', 'Embarked']\n"
     ]
    }
   ],
   "source": [
    "numerical_cols = ['Age', 'SibSp', 'Parch', 'Fare']\n",
    "categorical_cols = ['Pclass', 'Name', 'Sex', 'Ticket', 'Cabin', 'Embarked']\n",
    "null_cols = [col for col in train_data.columns if train_data[col].isnull().any()]\n",
    "\n",
    "print(f'Numerical columns: {numerical_cols}')\n",
    "print(f'Categorical columns: {categorical_cols}')\n",
    "print(f'Columns with missing values: {null_cols}')"
   ]
  },
  {
   "cell_type": "markdown",
   "id": "34e466a7",
   "metadata": {
    "papermill": {
     "duration": 0.023413,
     "end_time": "2023-04-14T23:01:21.926967",
     "exception": false,
     "start_time": "2023-04-14T23:01:21.903554",
     "status": "completed"
    },
    "tags": []
   },
   "source": [
    "## Histograms (Numerical Columns)"
   ]
  },
  {
   "cell_type": "code",
   "execution_count": 10,
   "id": "17eec0d5",
   "metadata": {
    "execution": {
     "iopub.execute_input": "2023-04-14T23:01:21.975949Z",
     "iopub.status.busy": "2023-04-14T23:01:21.975186Z",
     "iopub.status.idle": "2023-04-14T23:01:22.838387Z",
     "shell.execute_reply": "2023-04-14T23:01:22.836975Z"
    },
    "papermill": {
     "duration": 0.891261,
     "end_time": "2023-04-14T23:01:22.841831",
     "exception": false,
     "start_time": "2023-04-14T23:01:21.950570",
     "status": "completed"
    },
    "tags": []
   },
   "outputs": [
    {
     "data": {
      "image/png": "[encoded data removed]",
      "text/plain": [
       "<Figure size 2000x1500 with 4 Axes>"
      ]
     },
     "metadata": {},
     "output_type": "display_data"
    }
   ],
   "source": [
    "# fig, axs = plt.subplots(1, 2, sharey=True)\n",
    "# train_data['Age'].plot(kind='hist')\n",
    "train_data.hist(column=numerical_cols, figsize=(20, 15))\n",
    "plt.show()"
   ]
  },
  {
   "cell_type": "markdown",
   "id": "82635393",
   "metadata": {
    "papermill": {
     "duration": 0.023572,
     "end_time": "2023-04-14T23:01:22.889486",
     "exception": false,
     "start_time": "2023-04-14T23:01:22.865914",
     "status": "completed"
    },
    "tags": []
   },
   "source": [
    "## Bar Plots (Categorical Columns)"
   ]
  },
  {
   "cell_type": "code",
   "execution_count": 11,
   "id": "8fd8b208",
   "metadata": {
    "execution": {
     "iopub.execute_input": "2023-04-14T23:01:22.939292Z",
     "iopub.status.busy": "2023-04-14T23:01:22.938852Z",
     "iopub.status.idle": "2023-04-14T23:01:23.372255Z",
     "shell.execute_reply": "2023-04-14T23:01:23.370805Z"
    },
    "papermill": {
     "duration": 0.462299,
     "end_time": "2023-04-14T23:01:23.375298",
     "exception": false,
     "start_time": "2023-04-14T23:01:22.912999",
     "status": "completed"
    },
    "tags": []
   },
   "outputs": [
    {
     "data": {
      "text/plain": [
       "<AxesSubplot:ylabel='Survived'>"
      ]
     },
     "execution_count": 11,
     "metadata": {},
     "output_type": "execute_result"
    },
    {
     "data": {
      "image/png": "[encoded data removed]",
      "text/plain": [
       "<Figure size 640x480 with 1 Axes>"
      ]
     },
     "metadata": {},
     "output_type": "display_data"
    }
   ],
   "source": [
    "# train_data['Survived'].value_counts().plot(kind='bar')\n",
    "sns.barplot(x=train_data['Survived'].value_counts().index, y=train_data['Survived'].value_counts())"
   ]
  },
  {
   "cell_type": "code",
   "execution_count": 12,
   "id": "f335b1ec",
   "metadata": {
    "execution": {
     "iopub.execute_input": "2023-04-14T23:01:23.426155Z",
     "iopub.status.busy": "2023-04-14T23:01:23.425217Z",
     "iopub.status.idle": "2023-04-14T23:01:59.840616Z",
     "shell.execute_reply": "2023-04-14T23:01:59.839151Z"
    },
    "papermill": {
     "duration": 36.470689,
     "end_time": "2023-04-14T23:01:59.870128",
     "exception": false,
     "start_time": "2023-04-14T23:01:23.399439",
     "status": "completed"
    },
    "tags": []
   },
   "outputs": [
    {
     "data": {
      "image/png": "[encoded data removed]",
      "text/plain": [
       "<Figure size 2000x3000 with 6 Axes>"
      ]
     },
     "metadata": {},
     "output_type": "display_data"
    }
   ],
   "source": [
    "fig, axs = plt.subplots(3, 2, figsize=(20, 30))#, sharey=True)\n",
    "ax = axs.ravel()\n",
    "for i, col in enumerate(categorical_cols):\n",
    "#     train_data[col].value_counts().plot(kind='bar', ax=ax[i], title=col)\n",
    "    sns.barplot(x=train_data[col].value_counts().index, y=train_data[col].value_counts(), ax=ax[i])"
   ]
  },
  {
   "cell_type": "markdown",
   "id": "14045319",
   "metadata": {
    "papermill": {
     "duration": 0.025622,
     "end_time": "2023-04-14T23:01:59.922678",
     "exception": false,
     "start_time": "2023-04-14T23:01:59.897056",
     "status": "completed"
    },
    "tags": []
   },
   "source": [
    "## Pivot Tables: Numerical Columns"
   ]
  },
  {
   "cell_type": "code",
   "execution_count": 13,
   "id": "7827f575",
   "metadata": {
    "execution": {
     "iopub.execute_input": "2023-04-14T23:01:59.977358Z",
     "iopub.status.busy": "2023-04-14T23:01:59.976930Z",
     "iopub.status.idle": "2023-04-14T23:02:00.001093Z",
     "shell.execute_reply": "2023-04-14T23:01:59.999780Z"
    },
    "papermill": {
     "duration": 0.05527,
     "end_time": "2023-04-14T23:02:00.003900",
     "exception": false,
     "start_time": "2023-04-14T23:01:59.948630",
     "status": "completed"
    },
    "tags": []
   },
   "outputs": [
    {
     "data": {
      "text/html": [
       "<div>\n",
       "<style scoped>\n",
       "    .dataframe tbody tr th:only-of-type {\n",
       "        vertical-align: middle;\n",
       "    }\n",
       "\n",
       "    .dataframe tbody tr th {\n",
       "        vertical-align: top;\n",
       "    }\n",
       "\n",
       "    .dataframe thead th {\n",
       "        text-align: right;\n",
       "    }\n",
       "</style>\n",
       "<table border=\"1\" class=\"dataframe\">\n",
       "  <thead>\n",
       "    <tr style=\"text-align: right;\">\n",
       "      <th></th>\n",
       "      <th>Age</th>\n",
       "      <th>Fare</th>\n",
       "      <th>Parch</th>\n",
       "      <th>SibSp</th>\n",
       "    </tr>\n",
       "    <tr>\n",
       "      <th>Survived</th>\n",
       "      <th></th>\n",
       "      <th></th>\n",
       "      <th></th>\n",
       "      <th></th>\n",
       "    </tr>\n",
       "  </thead>\n",
       "  <tbody>\n",
       "    <tr>\n",
       "      <th>0</th>\n",
       "      <td>30.626179</td>\n",
       "      <td>22.117887</td>\n",
       "      <td>0.329690</td>\n",
       "      <td>0.553734</td>\n",
       "    </tr>\n",
       "    <tr>\n",
       "      <th>1</th>\n",
       "      <td>28.343690</td>\n",
       "      <td>48.395408</td>\n",
       "      <td>0.464912</td>\n",
       "      <td>0.473684</td>\n",
       "    </tr>\n",
       "  </tbody>\n",
       "</table>\n",
       "</div>"
      ],
      "text/plain": [
       "                Age       Fare     Parch     SibSp\n",
       "Survived                                          \n",
       "0         30.626179  22.117887  0.329690  0.553734\n",
       "1         28.343690  48.395408  0.464912  0.473684"
      ]
     },
     "execution_count": 13,
     "metadata": {},
     "output_type": "execute_result"
    }
   ],
   "source": [
    "eng_data.pivot_table(index='Survived', values=numerical_cols)"
   ]
  },
  {
   "cell_type": "code",
   "execution_count": 14,
   "id": "2f0df2a5",
   "metadata": {
    "execution": {
     "iopub.execute_input": "2023-04-14T23:02:00.058962Z",
     "iopub.status.busy": "2023-04-14T23:02:00.058090Z",
     "iopub.status.idle": "2023-04-14T23:02:00.081004Z",
     "shell.execute_reply": "2023-04-14T23:02:00.079320Z"
    },
    "papermill": {
     "duration": 0.054043,
     "end_time": "2023-04-14T23:02:00.083996",
     "exception": false,
     "start_time": "2023-04-14T23:02:00.029953",
     "status": "completed"
    },
    "tags": []
   },
   "outputs": [
    {
     "name": "stdout",
     "output_type": "stream",
     "text": [
      "       Survived\n",
      "SibSp          \n",
      "0      0.345395\n",
      "1      0.535885\n",
      "2      0.464286\n",
      "3      0.250000\n",
      "4      0.166667\n",
      "5      0.000000\n",
      "8      0.000000\n",
      "\n",
      "       Survived\n",
      "Parch          \n",
      "0      0.343658\n",
      "1      0.550847\n",
      "2      0.500000\n",
      "3      0.600000\n",
      "4      0.000000\n",
      "5      0.200000\n",
      "6      0.000000\n"
     ]
    }
   ],
   "source": [
    "print(train_data.pivot_table(index='SibSp', values='Survived'))\n",
    "print()\n",
    "print(train_data.pivot_table(index='Parch', values='Survived'))"
   ]
  },
  {
   "cell_type": "markdown",
   "id": "8bec1578",
   "metadata": {
    "papermill": {
     "duration": 0.027058,
     "end_time": "2023-04-14T23:02:00.137394",
     "exception": false,
     "start_time": "2023-04-14T23:02:00.110336",
     "status": "completed"
    },
    "tags": []
   },
   "source": [
    "## Pivot Tables: Categorical columns\n",
    "There are passengers with multiple cabins."
   ]
  },
  {
   "cell_type": "code",
   "execution_count": 15,
   "id": "778ac945",
   "metadata": {
    "execution": {
     "iopub.execute_input": "2023-04-14T23:02:00.191794Z",
     "iopub.status.busy": "2023-04-14T23:02:00.191272Z",
     "iopub.status.idle": "2023-04-14T23:02:00.196762Z",
     "shell.execute_reply": "2023-04-14T23:02:00.195470Z"
    },
    "papermill": {
     "duration": 0.03546,
     "end_time": "2023-04-14T23:02:00.199265",
     "exception": false,
     "start_time": "2023-04-14T23:02:00.163805",
     "status": "completed"
    },
    "tags": []
   },
   "outputs": [],
   "source": [
    "# print(pd.pivot_table(train_data, index = 'Survived', columns = 'Sex', values = 'PassengerId', aggfunc ='count'))\n",
    "# print()\n",
    "# print(pd.pivot_table(train_data, index = 'Survived', columns = 'Pclass', values = 'PassengerId', aggfunc ='count'))\n",
    "# print()\n",
    "# print(pd.pivot_table(train_data, index = 'Survived', columns = 'Embarked', values = 'PassengerId', aggfunc ='count'))"
   ]
  },
  {
   "cell_type": "code",
   "execution_count": 16,
   "id": "815ad961",
   "metadata": {
    "execution": {
     "iopub.execute_input": "2023-04-14T23:02:00.253766Z",
     "iopub.status.busy": "2023-04-14T23:02:00.253227Z",
     "iopub.status.idle": "2023-04-14T23:02:00.288194Z",
     "shell.execute_reply": "2023-04-14T23:02:00.286529Z"
    },
    "papermill": {
     "duration": 0.065014,
     "end_time": "2023-04-14T23:02:00.291120",
     "exception": false,
     "start_time": "2023-04-14T23:02:00.226106",
     "status": "completed"
    },
    "tags": []
   },
   "outputs": [
    {
     "name": "stdout",
     "output_type": "stream",
     "text": [
      "        Survived\n",
      "Sex             \n",
      "female  0.742038\n",
      "male    0.188908\n",
      "\n",
      "        Survived\n",
      "Pclass          \n",
      "1       0.629630\n",
      "2       0.472826\n",
      "3       0.242363\n",
      "\n",
      "          Survived\n",
      "Embarked          \n",
      "C         0.553571\n",
      "Q         0.389610\n",
      "S         0.336957\n"
     ]
    }
   ],
   "source": [
    "print(train_data.pivot_table(index='Sex', values='Survived'))\n",
    "print()\n",
    "print(train_data.pivot_table(index='Pclass', values='Survived'))\n",
    "print()\n",
    "print(train_data.pivot_table(index='Embarked', values='Survived'))\n",
    "# print()\n",
    "# print(train_data.pivot_table(index='cabin_letter', values='Survived'))"
   ]
  },
  {
   "cell_type": "code",
   "execution_count": 17,
   "id": "74c4c1de",
   "metadata": {
    "execution": {
     "iopub.execute_input": "2023-04-14T23:02:00.346873Z",
     "iopub.status.busy": "2023-04-14T23:02:00.346374Z",
     "iopub.status.idle": "2023-04-14T23:02:00.384351Z",
     "shell.execute_reply": "2023-04-14T23:02:00.382426Z"
    },
    "papermill": {
     "duration": 0.068919,
     "end_time": "2023-04-14T23:02:00.387192",
     "exception": false,
     "start_time": "2023-04-14T23:02:00.318273",
     "status": "completed"
    },
    "tags": []
   },
   "outputs": [
    {
     "name": "stdout",
     "output_type": "stream",
     "text": [
      "Pclass         1         2         3\n",
      "Sex                                 \n",
      "female  0.968085  0.921053  0.500000\n",
      "male    0.368852  0.157407  0.135447\n",
      "\n",
      "                 Survived\n",
      "Embarked Pclass          \n",
      "C        1       0.694118\n",
      "         2       0.529412\n",
      "         3       0.378788\n",
      "Q        1       0.500000\n",
      "         2       0.666667\n",
      "         3       0.375000\n",
      "S        1       0.582677\n",
      "         2       0.463415\n",
      "         3       0.189802\n"
     ]
    }
   ],
   "source": [
    "print(train_data.pivot_table(index='Sex', columns='Pclass', values='Survived'))\n",
    "print()\n",
    "print(train_data.pivot_table(index=['Embarked', 'Pclass'], values='Survived'))"
   ]
  },
  {
   "cell_type": "markdown",
   "id": "83b35d4d",
   "metadata": {
    "papermill": {
     "duration": 0.026012,
     "end_time": "2023-04-14T23:02:00.439537",
     "exception": false,
     "start_time": "2023-04-14T23:02:00.413525",
     "status": "completed"
    },
    "tags": []
   },
   "source": [
    "# Feature Engineering"
   ]
  },
  {
   "cell_type": "markdown",
   "id": "8e168616",
   "metadata": {
    "papermill": {
     "duration": 0.026513,
     "end_time": "2023-04-14T23:02:00.492293",
     "exception": false,
     "start_time": "2023-04-14T23:02:00.465780",
     "status": "completed"
    },
    "tags": []
   },
   "source": [
    "## Ticket\n",
    "\n",
    "Some tickets have lettering in addition to the numbers."
   ]
  },
  {
   "cell_type": "markdown",
   "id": "6e4b178d",
   "metadata": {
    "papermill": {
     "duration": 0.025712,
     "end_time": "2023-04-14T23:02:00.544068",
     "exception": false,
     "start_time": "2023-04-14T23:02:00.518356",
     "status": "completed"
    },
    "tags": []
   },
   "source": [
    "### Ticker Number"
   ]
  },
  {
   "cell_type": "code",
   "execution_count": 18,
   "id": "de21cc94",
   "metadata": {
    "execution": {
     "iopub.execute_input": "2023-04-14T23:02:00.600091Z",
     "iopub.status.busy": "2023-04-14T23:02:00.599389Z",
     "iopub.status.idle": "2023-04-14T23:02:00.607224Z",
     "shell.execute_reply": "2023-04-14T23:02:00.606079Z"
    },
    "papermill": {
     "duration": 0.039149,
     "end_time": "2023-04-14T23:02:00.609650",
     "exception": false,
     "start_time": "2023-04-14T23:02:00.570501",
     "status": "completed"
    },
    "tags": []
   },
   "outputs": [],
   "source": [
    "def ticket_num(df, column='Ticket', new_col='ticket_num'):\n",
    "    df[new_col] = df[column].map(lambda t: t.split(' ')[-1])\n",
    "    return df\n",
    "\n",
    "eng_data = ticket_num(eng_data)"
   ]
  },
  {
   "cell_type": "markdown",
   "id": "eb932f6d",
   "metadata": {
    "papermill": {
     "duration": 0.025836,
     "end_time": "2023-04-14T23:02:00.661747",
     "exception": false,
     "start_time": "2023-04-14T23:02:00.635911",
     "status": "completed"
    },
    "tags": []
   },
   "source": [
    "### Numeric Ticket: Boolean"
   ]
  },
  {
   "cell_type": "code",
   "execution_count": 19,
   "id": "e4c14792",
   "metadata": {
    "execution": {
     "iopub.execute_input": "2023-04-14T23:02:00.716153Z",
     "iopub.status.busy": "2023-04-14T23:02:00.715669Z",
     "iopub.status.idle": "2023-04-14T23:02:00.728623Z",
     "shell.execute_reply": "2023-04-14T23:02:00.727360Z"
    },
    "papermill": {
     "duration": 0.043527,
     "end_time": "2023-04-14T23:02:00.731322",
     "exception": false,
     "start_time": "2023-04-14T23:02:00.687795",
     "status": "completed"
    },
    "tags": []
   },
   "outputs": [
    {
     "data": {
      "text/plain": [
       "True     661\n",
       "False    230\n",
       "Name: numeric_ticket, dtype: int64"
      ]
     },
     "execution_count": 19,
     "metadata": {},
     "output_type": "execute_result"
    }
   ],
   "source": [
    "def numeric_ticket(df, column='Ticket', new_col='numeric_ticket'):\n",
    "    df[new_col] = df[column].map(lambda t: t.isnumeric())\n",
    "    return df\n",
    "\n",
    "eng_data = numeric_ticket(eng_data)\n",
    "eng_data['numeric_ticket'].value_counts()"
   ]
  },
  {
   "cell_type": "code",
   "execution_count": 20,
   "id": "a6263853",
   "metadata": {
    "execution": {
     "iopub.execute_input": "2023-04-14T23:02:00.785694Z",
     "iopub.status.busy": "2023-04-14T23:02:00.785227Z",
     "iopub.status.idle": "2023-04-14T23:02:00.814695Z",
     "shell.execute_reply": "2023-04-14T23:02:00.812756Z"
    },
    "papermill": {
     "duration": 0.059941,
     "end_time": "2023-04-14T23:02:00.817400",
     "exception": false,
     "start_time": "2023-04-14T23:02:00.757459",
     "status": "completed"
    },
    "tags": []
   },
   "outputs": [
    {
     "name": "stdout",
     "output_type": "stream",
     "text": [
      "numeric_ticket  False  True\n",
      "Survived                   \n",
      "0                 142   407\n",
      "1                  88   254\n",
      "\n",
      "Percentage that survived:\n",
      "                Survived\n",
      "numeric_ticket          \n",
      "False           0.382609\n",
      "True            0.384266\n"
     ]
    }
   ],
   "source": [
    "print(eng_data.pivot_table(index = 'Survived', columns = 'numeric_ticket', values = 'PassengerId', aggfunc ='count'))\n",
    "print()\n",
    "print('Percentage that survived:')\n",
    "print(eng_data.pivot_table(index='numeric_ticket', values='Survived')) # Percentage that survived"
   ]
  },
  {
   "cell_type": "markdown",
   "id": "6b793db3",
   "metadata": {
    "papermill": {
     "duration": 0.026699,
     "end_time": "2023-04-14T23:02:00.870988",
     "exception": false,
     "start_time": "2023-04-14T23:02:00.844289",
     "status": "completed"
    },
    "tags": []
   },
   "source": [
    "## Cabin\n",
    "\n",
    "Data exploration of the Cabins shows that some passengers can have:\n",
    "* Cabins without a letter.\n",
    "* Cabins without a number.\n",
    "* Multiple cabins.\n",
    "\n",
    "The cabin number could also be looked at."
   ]
  },
  {
   "cell_type": "markdown",
   "id": "3406fbb5",
   "metadata": {
    "papermill": {
     "duration": 0.025794,
     "end_time": "2023-04-14T23:02:00.923593",
     "exception": false,
     "start_time": "2023-04-14T23:02:00.897799",
     "status": "completed"
    },
    "tags": []
   },
   "source": [
    "### Cabin Count"
   ]
  },
  {
   "cell_type": "code",
   "execution_count": 21,
   "id": "d6e94647",
   "metadata": {
    "execution": {
     "iopub.execute_input": "2023-04-14T23:02:00.980103Z",
     "iopub.status.busy": "2023-04-14T23:02:00.979637Z",
     "iopub.status.idle": "2023-04-14T23:02:00.993737Z",
     "shell.execute_reply": "2023-04-14T23:02:00.992329Z"
    },
    "papermill": {
     "duration": 0.046405,
     "end_time": "2023-04-14T23:02:00.996384",
     "exception": false,
     "start_time": "2023-04-14T23:02:00.949979",
     "status": "completed"
    },
    "tags": []
   },
   "outputs": [
    {
     "data": {
      "text/plain": [
       "0    687\n",
       "1    180\n",
       "2     16\n",
       "3      6\n",
       "4      2\n",
       "Name: cabin_count, dtype: int64"
      ]
     },
     "execution_count": 21,
     "metadata": {},
     "output_type": "execute_result"
    }
   ],
   "source": [
    "def cabin_count(df, column='Cabin', new_col='cabin_count'):\n",
    "    df[new_col] = df[column].apply(lambda c: 0 if pd.isna(c) else len(c.split(' ')))\n",
    "    return df\n",
    "\n",
    "eng_data = cabin_count(eng_data)\n",
    "eng_data['cabin_count'].value_counts()"
   ]
  },
  {
   "cell_type": "code",
   "execution_count": 22,
   "id": "d36347bd",
   "metadata": {
    "execution": {
     "iopub.execute_input": "2023-04-14T23:02:01.055493Z",
     "iopub.status.busy": "2023-04-14T23:02:01.055041Z",
     "iopub.status.idle": "2023-04-14T23:02:01.087223Z",
     "shell.execute_reply": "2023-04-14T23:02:01.085562Z"
    },
    "papermill": {
     "duration": 0.065375,
     "end_time": "2023-04-14T23:02:01.089742",
     "exception": false,
     "start_time": "2023-04-14T23:02:01.024367",
     "status": "completed"
    },
    "tags": []
   },
   "outputs": [
    {
     "name": "stdout",
     "output_type": "stream",
     "text": [
      "cabin_count      0      1    2    3    4\n",
      "Survived                                \n",
      "0            481.0   58.0  7.0  3.0  NaN\n",
      "1            206.0  122.0  9.0  3.0  2.0\n",
      "\n",
      "             Survived\n",
      "cabin_count          \n",
      "0            0.299854\n",
      "1            0.677778\n",
      "2            0.562500\n",
      "3            0.500000\n",
      "4            1.000000\n"
     ]
    }
   ],
   "source": [
    "print(eng_data.pivot_table(index = 'Survived', columns = 'cabin_count', values = 'PassengerId', aggfunc ='count'))\n",
    "print()\n",
    "print(eng_data.pivot_table(index = 'cabin_count', values = 'Survived'))"
   ]
  },
  {
   "cell_type": "markdown",
   "id": "b31981b1",
   "metadata": {
    "papermill": {
     "duration": 0.026644,
     "end_time": "2023-04-14T23:02:01.142862",
     "exception": false,
     "start_time": "2023-04-14T23:02:01.116218",
     "status": "completed"
    },
    "tags": []
   },
   "source": [
    "### Cabin Letter"
   ]
  },
  {
   "cell_type": "code",
   "execution_count": 23,
   "id": "0d786071",
   "metadata": {
    "execution": {
     "iopub.execute_input": "2023-04-14T23:02:01.201310Z",
     "iopub.status.busy": "2023-04-14T23:02:01.200380Z",
     "iopub.status.idle": "2023-04-14T23:02:01.216477Z",
     "shell.execute_reply": "2023-04-14T23:02:01.215296Z"
    },
    "papermill": {
     "duration": 0.048887,
     "end_time": "2023-04-14T23:02:01.218941",
     "exception": false,
     "start_time": "2023-04-14T23:02:01.170054",
     "status": "completed"
    },
    "tags": []
   },
   "outputs": [
    {
     "data": {
      "text/plain": [
       "none    687\n",
       "C        51\n",
       "B        36\n",
       "E        32\n",
       "D        32\n",
       "mult     24\n",
       "A        15\n",
       "F         9\n",
       "G         4\n",
       "T         1\n",
       "Name: cabin_letter, dtype: int64"
      ]
     },
     "execution_count": 23,
     "metadata": {},
     "output_type": "execute_result"
    }
   ],
   "source": [
    "def cabin_letter(df, column='Cabin', new_col='cabin_letter'):\n",
    "    \n",
    "    def letter(cabin):\n",
    "        if pd.isna(cabin):\n",
    "            return 'none'\n",
    "        elif len(cabin.split(' ')) == 1:\n",
    "            if cabin.isalnum():\n",
    "                return cabin[0]\n",
    "            elif cabin.isalpha():\n",
    "                return cabin\n",
    "            elif cabin.isnum():\n",
    "                return 'num'\n",
    "        elif len(cabin.split(' ')) > 1:\n",
    "            return 'mult'\n",
    "        \n",
    "    df[new_col] = df[column].apply(letter)\n",
    "    return df\n",
    "\n",
    "eng_data = cabin_letter(eng_data)\n",
    "eng_data['cabin_letter'].value_counts()"
   ]
  },
  {
   "cell_type": "code",
   "execution_count": 24,
   "id": "c181515a",
   "metadata": {
    "execution": {
     "iopub.execute_input": "2023-04-14T23:02:01.278346Z",
     "iopub.status.busy": "2023-04-14T23:02:01.276667Z",
     "iopub.status.idle": "2023-04-14T23:02:01.309483Z",
     "shell.execute_reply": "2023-04-14T23:02:01.307926Z"
    },
    "papermill": {
     "duration": 0.065492,
     "end_time": "2023-04-14T23:02:01.312373",
     "exception": false,
     "start_time": "2023-04-14T23:02:01.246881",
     "status": "completed"
    },
    "tags": []
   },
   "outputs": [
    {
     "name": "stdout",
     "output_type": "stream",
     "text": [
      "cabin_letter    A     B     C     D     E    F    G    T  mult   none\n",
      "Survived                                                             \n",
      "0             8.0   9.0  20.0   8.0   8.0  2.0  2.0  1.0  10.0  481.0\n",
      "1             7.0  27.0  31.0  24.0  24.0  7.0  2.0  NaN  14.0  206.0\n",
      "\n",
      "              Survived\n",
      "cabin_letter          \n",
      "A             0.466667\n",
      "B             0.750000\n",
      "C             0.607843\n",
      "D             0.750000\n",
      "E             0.750000\n",
      "F             0.777778\n",
      "G             0.500000\n",
      "T             0.000000\n",
      "mult          0.583333\n",
      "none          0.299854\n"
     ]
    }
   ],
   "source": [
    "print(eng_data.pivot_table(index = 'Survived', columns = 'cabin_letter', values = 'PassengerId', aggfunc ='count'))\n",
    "print()\n",
    "print(eng_data.pivot_table(index = 'cabin_letter', values = 'Survived'))"
   ]
  },
  {
   "cell_type": "markdown",
   "id": "1de6a864",
   "metadata": {
    "papermill": {
     "duration": 0.026591,
     "end_time": "2023-04-14T23:02:01.365950",
     "exception": false,
     "start_time": "2023-04-14T23:02:01.339359",
     "status": "completed"
    },
    "tags": []
   },
   "source": [
    "## Name Title"
   ]
  },
  {
   "cell_type": "code",
   "execution_count": 25,
   "id": "b7501718",
   "metadata": {
    "execution": {
     "iopub.execute_input": "2023-04-14T23:02:01.421461Z",
     "iopub.status.busy": "2023-04-14T23:02:01.421023Z",
     "iopub.status.idle": "2023-04-14T23:02:01.434226Z",
     "shell.execute_reply": "2023-04-14T23:02:01.433218Z"
    },
    "papermill": {
     "duration": 0.044063,
     "end_time": "2023-04-14T23:02:01.436924",
     "exception": false,
     "start_time": "2023-04-14T23:02:01.392861",
     "status": "completed"
    },
    "tags": []
   },
   "outputs": [
    {
     "data": {
      "text/plain": [
       "Mr.          517\n",
       "Miss.        182\n",
       "Mrs.         125\n",
       "Master.       40\n",
       "Dr.            7\n",
       "Rev.           6\n",
       "Mlle.          2\n",
       "Major.         2\n",
       "Col.           2\n",
       "Countess.      1\n",
       "Capt.          1\n",
       "Ms.            1\n",
       "Sir.           1\n",
       "Lady.          1\n",
       "Mme.           1\n",
       "Don.           1\n",
       "Jonkheer.      1\n",
       "Name: name_title, dtype: int64"
      ]
     },
     "execution_count": 25,
     "metadata": {},
     "output_type": "execute_result"
    }
   ],
   "source": [
    "def name_title(df, name_column='Name', title_column='name_title'):\n",
    "    df[title_column] = df[name_column].str.extract(r'(\\w+\\.)', expand=False)\n",
    "    return df\n",
    "\n",
    "eng_data = name_title(eng_data)\n",
    "eng_data['name_title'].value_counts()"
   ]
  },
  {
   "cell_type": "code",
   "execution_count": 26,
   "id": "4dced9ee",
   "metadata": {
    "execution": {
     "iopub.execute_input": "2023-04-14T23:02:01.493695Z",
     "iopub.status.busy": "2023-04-14T23:02:01.492650Z",
     "iopub.status.idle": "2023-04-14T23:02:01.525728Z",
     "shell.execute_reply": "2023-04-14T23:02:01.523966Z"
    },
    "papermill": {
     "duration": 0.064133,
     "end_time": "2023-04-14T23:02:01.528348",
     "exception": false,
     "start_time": "2023-04-14T23:02:01.464215",
     "status": "completed"
    },
    "tags": []
   },
   "outputs": [
    {
     "name": "stdout",
     "output_type": "stream",
     "text": [
      "name_title  Capt.  Col.  Countess.  Don.  Dr.  Jonkheer.  Lady.  Major.  \\\n",
      "Survived                                                                  \n",
      "0             1.0   1.0        NaN   1.0  4.0        1.0    NaN     1.0   \n",
      "1             NaN   1.0        1.0   NaN  3.0        NaN    1.0     1.0   \n",
      "\n",
      "name_title  Master.  Miss.  Mlle.  Mme.    Mr.  Mrs.  Ms.  Rev.  Sir.  \n",
      "Survived                                                               \n",
      "0              17.0   55.0    NaN   NaN  436.0  26.0  NaN   6.0   NaN  \n",
      "1              23.0  127.0    2.0   1.0   81.0  99.0  1.0   NaN   1.0  \n",
      "\n",
      "            Survived\n",
      "name_title          \n",
      "Capt.       0.000000\n",
      "Col.        0.500000\n",
      "Countess.   1.000000\n",
      "Don.        0.000000\n",
      "Dr.         0.428571\n",
      "Jonkheer.   0.000000\n",
      "Lady.       1.000000\n",
      "Major.      0.500000\n",
      "Master.     0.575000\n",
      "Miss.       0.697802\n",
      "Mlle.       1.000000\n",
      "Mme.        1.000000\n",
      "Mr.         0.156673\n",
      "Mrs.        0.792000\n",
      "Ms.         1.000000\n",
      "Rev.        0.000000\n",
      "Sir.        1.000000\n"
     ]
    }
   ],
   "source": [
    "print(eng_data.pivot_table(index = 'Survived', columns = 'name_title', values = 'PassengerId', aggfunc ='count'))\n",
    "print()\n",
    "print(eng_data.pivot_table(index = 'name_title', values = 'Survived'))"
   ]
  },
  {
   "cell_type": "markdown",
   "id": "fa6145a1",
   "metadata": {
    "papermill": {
     "duration": 0.028045,
     "end_time": "2023-04-14T23:02:01.584087",
     "exception": false,
     "start_time": "2023-04-14T23:02:01.556042",
     "status": "completed"
    },
    "tags": []
   },
   "source": [
    "## Feature crossing: SibSp + Parch"
   ]
  },
  {
   "cell_type": "code",
   "execution_count": 27,
   "id": "8d6d79fd",
   "metadata": {
    "execution": {
     "iopub.execute_input": "2023-04-14T23:02:01.642157Z",
     "iopub.status.busy": "2023-04-14T23:02:01.641355Z",
     "iopub.status.idle": "2023-04-14T23:02:01.653161Z",
     "shell.execute_reply": "2023-04-14T23:02:01.651815Z"
    },
    "papermill": {
     "duration": 0.043696,
     "end_time": "2023-04-14T23:02:01.655753",
     "exception": false,
     "start_time": "2023-04-14T23:02:01.612057",
     "status": "completed"
    },
    "tags": []
   },
   "outputs": [
    {
     "data": {
      "text/plain": [
       "0     537\n",
       "1     161\n",
       "2     102\n",
       "3      29\n",
       "5      22\n",
       "4      15\n",
       "6      12\n",
       "10      7\n",
       "7       6\n",
       "Name: cross, dtype: int64"
      ]
     },
     "execution_count": 27,
     "metadata": {},
     "output_type": "execute_result"
    }
   ],
   "source": [
    "def cross(df, columns=['SibSp', 'Parch'], new_col='cross'):\n",
    "    df[new_col] = df[columns[0]] + df[columns[1]]\n",
    "    return df\n",
    "\n",
    "eng_data = cross(eng_data) \n",
    "eng_data['cross'].value_counts()"
   ]
  },
  {
   "cell_type": "code",
   "execution_count": 28,
   "id": "5dc452fb",
   "metadata": {
    "execution": {
     "iopub.execute_input": "2023-04-14T23:02:01.712077Z",
     "iopub.status.busy": "2023-04-14T23:02:01.711250Z",
     "iopub.status.idle": "2023-04-14T23:02:01.744018Z",
     "shell.execute_reply": "2023-04-14T23:02:01.742201Z"
    },
    "papermill": {
     "duration": 0.06381,
     "end_time": "2023-04-14T23:02:01.746622",
     "exception": false,
     "start_time": "2023-04-14T23:02:01.682812",
     "status": "completed"
    },
    "tags": []
   },
   "outputs": [
    {
     "name": "stdout",
     "output_type": "stream",
     "text": [
      "       Survived\n",
      "cross          \n",
      "0      0.303538\n",
      "1      0.552795\n",
      "2      0.578431\n",
      "3      0.724138\n",
      "4      0.200000\n",
      "5      0.136364\n",
      "6      0.333333\n",
      "7      0.000000\n",
      "10     0.000000\n",
      "\n",
      "       Survived\n",
      "SibSp          \n",
      "0      0.345395\n",
      "1      0.535885\n",
      "2      0.464286\n",
      "3      0.250000\n",
      "4      0.166667\n",
      "5      0.000000\n",
      "8      0.000000\n",
      "\n",
      "       Survived\n",
      "Parch          \n",
      "0      0.343658\n",
      "1      0.550847\n",
      "2      0.500000\n",
      "3      0.600000\n",
      "4      0.000000\n",
      "5      0.200000\n",
      "6      0.000000\n"
     ]
    }
   ],
   "source": [
    "print(eng_data.pivot_table(index='cross', values='Survived'))\n",
    "print()\n",
    "print(eng_data.pivot_table(index='SibSp', values='Survived'))\n",
    "print()\n",
    "print(eng_data.pivot_table(index='Parch', values='Survived'))"
   ]
  },
  {
   "cell_type": "markdown",
   "id": "b6c4edb6",
   "metadata": {
    "papermill": {
     "duration": 0.027122,
     "end_time": "2023-04-14T23:02:01.801504",
     "exception": false,
     "start_time": "2023-04-14T23:02:01.774382",
     "status": "completed"
    },
    "tags": []
   },
   "source": [
    "# Feature Selection"
   ]
  },
  {
   "cell_type": "markdown",
   "id": "f6cd8253",
   "metadata": {
    "papermill": {
     "duration": 0.02751,
     "end_time": "2023-04-14T23:02:01.856283",
     "exception": false,
     "start_time": "2023-04-14T23:02:01.828773",
     "status": "completed"
    },
    "tags": []
   },
   "source": [
    "## Correlation"
   ]
  },
  {
   "cell_type": "code",
   "execution_count": 29,
   "id": "beaf0470",
   "metadata": {
    "execution": {
     "iopub.execute_input": "2023-04-14T23:02:01.912800Z",
     "iopub.status.busy": "2023-04-14T23:02:01.912321Z",
     "iopub.status.idle": "2023-04-14T23:02:01.932102Z",
     "shell.execute_reply": "2023-04-14T23:02:01.930711Z"
    },
    "papermill": {
     "duration": 0.051442,
     "end_time": "2023-04-14T23:02:01.934966",
     "exception": false,
     "start_time": "2023-04-14T23:02:01.883524",
     "status": "completed"
    },
    "tags": []
   },
   "outputs": [
    {
     "data": {
      "text/html": [
       "<div>\n",
       "<style scoped>\n",
       "    .dataframe tbody tr th:only-of-type {\n",
       "        vertical-align: middle;\n",
       "    }\n",
       "\n",
       "    .dataframe tbody tr th {\n",
       "        vertical-align: top;\n",
       "    }\n",
       "\n",
       "    .dataframe thead th {\n",
       "        text-align: right;\n",
       "    }\n",
       "</style>\n",
       "<table border=\"1\" class=\"dataframe\">\n",
       "  <thead>\n",
       "    <tr style=\"text-align: right;\">\n",
       "      <th></th>\n",
       "      <th>Age</th>\n",
       "      <th>SibSp</th>\n",
       "      <th>Parch</th>\n",
       "      <th>Fare</th>\n",
       "      <th>cross</th>\n",
       "      <th>Pclass</th>\n",
       "      <th>Survived</th>\n",
       "    </tr>\n",
       "  </thead>\n",
       "  <tbody>\n",
       "    <tr>\n",
       "      <th>Age</th>\n",
       "      <td>1.000000</td>\n",
       "      <td>-0.308247</td>\n",
       "      <td>-0.189119</td>\n",
       "      <td>0.096067</td>\n",
       "      <td>-0.301914</td>\n",
       "      <td>-0.369226</td>\n",
       "      <td>-0.077221</td>\n",
       "    </tr>\n",
       "    <tr>\n",
       "      <th>SibSp</th>\n",
       "      <td>-0.308247</td>\n",
       "      <td>1.000000</td>\n",
       "      <td>0.414838</td>\n",
       "      <td>0.159651</td>\n",
       "      <td>0.890712</td>\n",
       "      <td>0.083081</td>\n",
       "      <td>-0.035322</td>\n",
       "    </tr>\n",
       "    <tr>\n",
       "      <th>Parch</th>\n",
       "      <td>-0.189119</td>\n",
       "      <td>0.414838</td>\n",
       "      <td>1.000000</td>\n",
       "      <td>0.216225</td>\n",
       "      <td>0.783111</td>\n",
       "      <td>0.018443</td>\n",
       "      <td>0.081629</td>\n",
       "    </tr>\n",
       "    <tr>\n",
       "      <th>Fare</th>\n",
       "      <td>0.096067</td>\n",
       "      <td>0.159651</td>\n",
       "      <td>0.216225</td>\n",
       "      <td>1.000000</td>\n",
       "      <td>0.217138</td>\n",
       "      <td>-0.549500</td>\n",
       "      <td>0.257307</td>\n",
       "    </tr>\n",
       "    <tr>\n",
       "      <th>cross</th>\n",
       "      <td>-0.301914</td>\n",
       "      <td>0.890712</td>\n",
       "      <td>0.783111</td>\n",
       "      <td>0.217138</td>\n",
       "      <td>1.000000</td>\n",
       "      <td>0.065997</td>\n",
       "      <td>0.016639</td>\n",
       "    </tr>\n",
       "    <tr>\n",
       "      <th>Pclass</th>\n",
       "      <td>-0.369226</td>\n",
       "      <td>0.083081</td>\n",
       "      <td>0.018443</td>\n",
       "      <td>-0.549500</td>\n",
       "      <td>0.065997</td>\n",
       "      <td>1.000000</td>\n",
       "      <td>-0.338481</td>\n",
       "    </tr>\n",
       "    <tr>\n",
       "      <th>Survived</th>\n",
       "      <td>-0.077221</td>\n",
       "      <td>-0.035322</td>\n",
       "      <td>0.081629</td>\n",
       "      <td>0.257307</td>\n",
       "      <td>0.016639</td>\n",
       "      <td>-0.338481</td>\n",
       "      <td>1.000000</td>\n",
       "    </tr>\n",
       "  </tbody>\n",
       "</table>\n",
       "</div>"
      ],
      "text/plain": [
       "               Age     SibSp     Parch      Fare     cross    Pclass  Survived\n",
       "Age       1.000000 -0.308247 -0.189119  0.096067 -0.301914 -0.369226 -0.077221\n",
       "SibSp    -0.308247  1.000000  0.414838  0.159651  0.890712  0.083081 -0.035322\n",
       "Parch    -0.189119  0.414838  1.000000  0.216225  0.783111  0.018443  0.081629\n",
       "Fare      0.096067  0.159651  0.216225  1.000000  0.217138 -0.549500  0.257307\n",
       "cross    -0.301914  0.890712  0.783111  0.217138  1.000000  0.065997  0.016639\n",
       "Pclass   -0.369226  0.083081  0.018443 -0.549500  0.065997  1.000000 -0.338481\n",
       "Survived -0.077221 -0.035322  0.081629  0.257307  0.016639 -0.338481  1.000000"
      ]
     },
     "execution_count": 29,
     "metadata": {},
     "output_type": "execute_result"
    }
   ],
   "source": [
    "corr = eng_data[numerical_cols + ['cross', 'Pclass', 'Survived']].corr(method='pearson')\n",
    "corr"
   ]
  },
  {
   "cell_type": "code",
   "execution_count": 30,
   "id": "aa92ac1f",
   "metadata": {
    "execution": {
     "iopub.execute_input": "2023-04-14T23:02:01.992369Z",
     "iopub.status.busy": "2023-04-14T23:02:01.991908Z",
     "iopub.status.idle": "2023-04-14T23:02:02.335333Z",
     "shell.execute_reply": "2023-04-14T23:02:02.334044Z"
    },
    "papermill": {
     "duration": 0.375649,
     "end_time": "2023-04-14T23:02:02.338180",
     "exception": false,
     "start_time": "2023-04-14T23:02:01.962531",
     "status": "completed"
    },
    "tags": []
   },
   "outputs": [
    {
     "data": {
      "text/plain": [
       "<AxesSubplot:>"
      ]
     },
     "execution_count": 30,
     "metadata": {},
     "output_type": "execute_result"
    },
    {
     "data": {
      "image/png": "[encoded data removed]",
      "text/plain": [
       "<Figure size 640x480 with 2 Axes>"
      ]
     },
     "metadata": {},
     "output_type": "display_data"
    }
   ],
   "source": [
    "sns.heatmap(corr)"
   ]
  },
  {
   "cell_type": "markdown",
   "id": "9453517b",
   "metadata": {
    "papermill": {
     "duration": 0.028056,
     "end_time": "2023-04-14T23:02:02.395576",
     "exception": false,
     "start_time": "2023-04-14T23:02:02.367520",
     "status": "completed"
    },
    "tags": []
   },
   "source": [
    "## Mutual Information\n",
    "* from sklearn.feature_selection import mutual_info_classif\n",
    "* Encoding with pd.get_dummies(), OneHotEncoding; s, _ = df[col].factorize(), or LabelEncoding"
   ]
  },
  {
   "cell_type": "code",
   "execution_count": 31,
   "id": "e2189068",
   "metadata": {
    "execution": {
     "iopub.execute_input": "2023-04-14T23:02:02.454204Z",
     "iopub.status.busy": "2023-04-14T23:02:02.452964Z",
     "iopub.status.idle": "2023-04-14T23:02:03.249568Z",
     "shell.execute_reply": "2023-04-14T23:02:03.248453Z"
    },
    "papermill": {
     "duration": 0.829433,
     "end_time": "2023-04-14T23:02:03.252962",
     "exception": false,
     "start_time": "2023-04-14T23:02:02.423529",
     "status": "completed"
    },
    "tags": []
   },
   "outputs": [],
   "source": [
    "from sklearn.feature_selection import mutual_info_classif"
   ]
  },
  {
   "cell_type": "markdown",
   "id": "1723e8ad",
   "metadata": {
    "papermill": {
     "duration": 0.02801,
     "end_time": "2023-04-14T23:02:03.315386",
     "exception": false,
     "start_time": "2023-04-14T23:02:03.287376",
     "status": "completed"
    },
    "tags": []
   },
   "source": [
    "# Preprocessing"
   ]
  },
  {
   "cell_type": "markdown",
   "id": "04f92645",
   "metadata": {
    "papermill": {
     "duration": 0.028251,
     "end_time": "2023-04-14T23:02:03.371806",
     "exception": false,
     "start_time": "2023-04-14T23:02:03.343555",
     "status": "completed"
    },
    "tags": []
   },
   "source": [
    "## Preprocessing Pipeline"
   ]
  },
  {
   "cell_type": "code",
   "execution_count": 32,
   "id": "62cc0963",
   "metadata": {
    "execution": {
     "iopub.execute_input": "2023-04-14T23:02:03.431956Z",
     "iopub.status.busy": "2023-04-14T23:02:03.431493Z",
     "iopub.status.idle": "2023-04-14T23:02:03.437544Z",
     "shell.execute_reply": "2023-04-14T23:02:03.436149Z"
    },
    "papermill": {
     "duration": 0.037741,
     "end_time": "2023-04-14T23:02:03.440014",
     "exception": false,
     "start_time": "2023-04-14T23:02:03.402273",
     "status": "completed"
    },
    "tags": []
   },
   "outputs": [],
   "source": [
    "num_cols = ['Age', 'SibSp', 'Parch', 'Fare']\n",
    "cat_cols = ['Pclass', 'Sex', 'Embarked']\n",
    "eng_cols = ['Ticket', 'Cabin', 'Name']#, 'cross']"
   ]
  },
  {
   "cell_type": "code",
   "execution_count": 33,
   "id": "2664abd8",
   "metadata": {
    "execution": {
     "iopub.execute_input": "2023-04-14T23:02:03.497757Z",
     "iopub.status.busy": "2023-04-14T23:02:03.497259Z",
     "iopub.status.idle": "2023-04-14T23:02:03.502819Z",
     "shell.execute_reply": "2023-04-14T23:02:03.501236Z"
    },
    "papermill": {
     "duration": 0.037728,
     "end_time": "2023-04-14T23:02:03.505740",
     "exception": false,
     "start_time": "2023-04-14T23:02:03.468012",
     "status": "completed"
    },
    "tags": []
   },
   "outputs": [],
   "source": [
    "# from sklearn.feature_selection import SelectKBest, chi2\n",
    "# from sklearn.decomposition import PCA\n",
    "# from sklearn.pipeline import Pipeline\n",
    "# pipeline = Pipeline([('feature_selection', SelectKBest(chi2, k=10)),\n",
    "#     ('dimensionality_reduction', PCA(n_components=2))])"
   ]
  },
  {
   "cell_type": "code",
   "execution_count": 34,
   "id": "4a1dc3d4",
   "metadata": {
    "execution": {
     "iopub.execute_input": "2023-04-14T23:02:03.564987Z",
     "iopub.status.busy": "2023-04-14T23:02:03.564511Z",
     "iopub.status.idle": "2023-04-14T23:02:03.601075Z",
     "shell.execute_reply": "2023-04-14T23:02:03.599522Z"
    },
    "papermill": {
     "duration": 0.070235,
     "end_time": "2023-04-14T23:02:03.604316",
     "exception": false,
     "start_time": "2023-04-14T23:02:03.534081",
     "status": "completed"
    },
    "tags": []
   },
   "outputs": [],
   "source": [
    "# Preprocessing Pipeline\n",
    "from sklearn.pipeline import make_pipeline\n",
    "\n",
    "from sklearn.impute import SimpleImputer\n",
    "from sklearn.preprocessing import FunctionTransformer, OneHotEncoder, LabelEncoder, OrdinalEncoder, StandardScaler\n",
    "# from sklearn.base import BaseEstimator, TransformerMixin\n",
    "\n",
    "num_transformer = make_pipeline(SimpleImputer(strategy='median'), \n",
    "                                      StandardScaler())\n",
    "\n",
    "cat_transformer = make_pipeline(SimpleImputer(strategy='most_frequent'),\n",
    "                                       OneHotEncoder(handle_unknown='ignore'))#'infrequent_if_exist'"
   ]
  },
  {
   "cell_type": "code",
   "execution_count": 35,
   "id": "b8dc3870",
   "metadata": {
    "execution": {
     "iopub.execute_input": "2023-04-14T23:02:03.681102Z",
     "iopub.status.busy": "2023-04-14T23:02:03.679936Z",
     "iopub.status.idle": "2023-04-14T23:02:03.690156Z",
     "shell.execute_reply": "2023-04-14T23:02:03.689204Z"
    },
    "papermill": {
     "duration": 0.048038,
     "end_time": "2023-04-14T23:02:03.692583",
     "exception": false,
     "start_time": "2023-04-14T23:02:03.644545",
     "status": "completed"
    },
    "tags": []
   },
   "outputs": [],
   "source": [
    "# numeric_ticket, name_title, cabin_letter, cross\n",
    "ticket_transformer = make_pipeline(FunctionTransformer(lambda x: x.apply(lambda s: s.str.isnumeric())),\n",
    "                                  OneHotEncoder())\n",
    "\n",
    "title_transformer = make_pipeline(FunctionTransformer(lambda x: x.iloc[:,0].str.extract(r'(\\w+\\.)')),\n",
    "                                  OneHotEncoder(handle_unknown='ignore'))\n",
    "    \n",
    "def letter(cabin):\n",
    "    if pd.isna(cabin):\n",
    "        return 'none'\n",
    "    elif len(cabin.split(' ')) == 1:\n",
    "        if cabin.isalnum():\n",
    "            return cabin[0]\n",
    "        elif cabin.isalpha():\n",
    "            return cabin\n",
    "        elif cabin.isnum():\n",
    "            return 'num'\n",
    "    elif len(cabin.split(' ')) > 1:\n",
    "        return 'mult'\n",
    "\n",
    "cabin_transformer = make_pipeline(FunctionTransformer(lambda x: x.iloc[:,0].apply(letter).values.reshape(-1,1)),\n",
    "                                 OneHotEncoder(handle_unknown='ignore'))"
   ]
  },
  {
   "cell_type": "code",
   "execution_count": 36,
   "id": "8541d540",
   "metadata": {
    "execution": {
     "iopub.execute_input": "2023-04-14T23:02:03.751301Z",
     "iopub.status.busy": "2023-04-14T23:02:03.750105Z",
     "iopub.status.idle": "2023-04-14T23:02:03.767455Z",
     "shell.execute_reply": "2023-04-14T23:02:03.766166Z"
    },
    "papermill": {
     "duration": 0.050022,
     "end_time": "2023-04-14T23:02:03.770542",
     "exception": false,
     "start_time": "2023-04-14T23:02:03.720520",
     "status": "completed"
    },
    "tags": []
   },
   "outputs": [],
   "source": [
    "from sklearn.compose import make_column_transformer\n",
    "\n",
    "# When enclosing the column(s) in a list, \n",
    "# the input to the function in the FunctionTransformer is a dataframe.\n",
    "# Otherwise it is a series\n",
    "preprocessor = make_column_transformer((num_transformer, num_cols),\n",
    "                                       (cat_transformer, cat_cols),\n",
    "                                       (ticket_transformer, ['Ticket']),\n",
    "                                       (cabin_transformer, ['Cabin']),\n",
    "                                       (title_transformer, ['Name']))"
   ]
  },
  {
   "cell_type": "code",
   "execution_count": 37,
   "id": "536ea1bc",
   "metadata": {
    "execution": {
     "iopub.execute_input": "2023-04-14T23:02:03.828685Z",
     "iopub.status.busy": "2023-04-14T23:02:03.828212Z",
     "iopub.status.idle": "2023-04-14T23:02:03.833763Z",
     "shell.execute_reply": "2023-04-14T23:02:03.832416Z"
    },
    "papermill": {
     "duration": 0.037283,
     "end_time": "2023-04-14T23:02:03.836240",
     "exception": false,
     "start_time": "2023-04-14T23:02:03.798957",
     "status": "completed"
    },
    "tags": []
   },
   "outputs": [],
   "source": [
    "def model_pipeline(model, preprocessor_=preprocessor):\n",
    "    return make_pipeline(preprocessor, model)"
   ]
  },
  {
   "cell_type": "markdown",
   "id": "544f24b8",
   "metadata": {
    "papermill": {
     "duration": 0.029109,
     "end_time": "2023-04-14T23:02:03.897111",
     "exception": false,
     "start_time": "2023-04-14T23:02:03.868002",
     "status": "completed"
    },
    "tags": []
   },
   "source": [
    "## Cross-Validation Score"
   ]
  },
  {
   "cell_type": "code",
   "execution_count": 38,
   "id": "f3a48fa7",
   "metadata": {
    "execution": {
     "iopub.execute_input": "2023-04-14T23:02:03.956276Z",
     "iopub.status.busy": "2023-04-14T23:02:03.955267Z",
     "iopub.status.idle": "2023-04-14T23:02:03.962102Z",
     "shell.execute_reply": "2023-04-14T23:02:03.960758Z"
    },
    "papermill": {
     "duration": 0.039334,
     "end_time": "2023-04-14T23:02:03.965070",
     "exception": false,
     "start_time": "2023-04-14T23:02:03.925736",
     "status": "completed"
    },
    "tags": []
   },
   "outputs": [],
   "source": [
    "# This is a small dataset so it is advantageous to use cross validation.\n",
    "def cv_score(pipeline, X, y, cv=5, scoring=['f1', 'roc_auc', 'balanced_accuracy',  'accuracy'][0]):\n",
    "    scores = 1 * cross_val_score(pipeline, X, y, cv=cv, scoring=scoring)\n",
    "    return scores.mean()"
   ]
  },
  {
   "cell_type": "markdown",
   "id": "4361eaba",
   "metadata": {
    "papermill": {
     "duration": 0.027902,
     "end_time": "2023-04-14T23:02:04.021527",
     "exception": false,
     "start_time": "2023-04-14T23:02:03.993625",
     "status": "completed"
    },
    "tags": []
   },
   "source": [
    "## Test Set Evaluation Scores"
   ]
  },
  {
   "cell_type": "code",
   "execution_count": 39,
   "id": "233b986e",
   "metadata": {
    "execution": {
     "iopub.execute_input": "2023-04-14T23:02:04.079593Z",
     "iopub.status.busy": "2023-04-14T23:02:04.079140Z",
     "iopub.status.idle": "2023-04-14T23:02:04.085960Z",
     "shell.execute_reply": "2023-04-14T23:02:04.084925Z"
    },
    "papermill": {
     "duration": 0.038747,
     "end_time": "2023-04-14T23:02:04.088403",
     "exception": false,
     "start_time": "2023-04-14T23:02:04.049656",
     "status": "completed"
    },
    "tags": []
   },
   "outputs": [],
   "source": [
    "from sklearn.metrics import f1_score, roc_auc_score, balanced_accuracy_score\n",
    "\n",
    "def evaluate(model, X, y, metric='f1'):\n",
    "    if metric == 'f1':\n",
    "        return f1_score(y, model.predict(X))\n",
    "    elif metric == 'roc_auc':\n",
    "        y_pred_proba = model.predict_proba(X)[:, 1]\n",
    "        return roc_auc_score(y, y_pred_proba)\n",
    "    elif metric =='accuracy':\n",
    "        return model.score(X, y)\n",
    "    elif metric == 'balanced_accuracy':\n",
    "        return balanced_accuracy_score(y, model.predict(X))"
   ]
  },
  {
   "cell_type": "markdown",
   "id": "4c25c867",
   "metadata": {
    "papermill": {
     "duration": 0.027715,
     "end_time": "2023-04-14T23:02:04.144685",
     "exception": false,
     "start_time": "2023-04-14T23:02:04.116970",
     "status": "completed"
    },
    "tags": []
   },
   "source": [
    "## Hyperparameter Tuning: Grid Search"
   ]
  },
  {
   "cell_type": "code",
   "execution_count": 40,
   "id": "99bae2a3",
   "metadata": {
    "execution": {
     "iopub.execute_input": "2023-04-14T23:02:04.202925Z",
     "iopub.status.busy": "2023-04-14T23:02:04.202063Z",
     "iopub.status.idle": "2023-04-14T23:02:04.207037Z",
     "shell.execute_reply": "2023-04-14T23:02:04.206081Z"
    },
    "papermill": {
     "duration": 0.037076,
     "end_time": "2023-04-14T23:02:04.209606",
     "exception": false,
     "start_time": "2023-04-14T23:02:04.172530",
     "status": "completed"
    },
    "tags": []
   },
   "outputs": [],
   "source": [
    "from sklearn.model_selection import cross_val_score, train_test_split\n",
    "# from sklearn.model_selection import ShuffleSplit, StratifiedShuffleSplit\n",
    "\n",
    "from sklearn.model_selection import GridSearchCV #, HalvingGridSearchCV, RandomizedSearchCV, HalvingRandomSearchCV"
   ]
  },
  {
   "cell_type": "code",
   "execution_count": 41,
   "id": "0b487508",
   "metadata": {
    "execution": {
     "iopub.execute_input": "2023-04-14T23:02:04.268767Z",
     "iopub.status.busy": "2023-04-14T23:02:04.267905Z",
     "iopub.status.idle": "2023-04-14T23:02:04.274352Z",
     "shell.execute_reply": "2023-04-14T23:02:04.273302Z"
    },
    "papermill": {
     "duration": 0.039268,
     "end_time": "2023-04-14T23:02:04.277166",
     "exception": false,
     "start_time": "2023-04-14T23:02:04.237898",
     "status": "completed"
    },
    "tags": []
   },
   "outputs": [],
   "source": [
    "# When using GridSearchCV with Pipelines, use model_name__parameter_name\n",
    "\n",
    "# Add the model name to the parameters\n",
    "def grid_pipe_params(params, model_name):\n",
    "    return {model_name + '__' + key: value for key, value in params.items()}\n",
    "\n",
    "# Remove model_name__ from keys\n",
    "def remove_model_name(params):\n",
    "    return {key.split('__')[1]: value for key, value in params.items()}"
   ]
  },
  {
   "cell_type": "code",
   "execution_count": 42,
   "id": "69a48d2c",
   "metadata": {
    "execution": {
     "iopub.execute_input": "2023-04-14T23:02:04.335426Z",
     "iopub.status.busy": "2023-04-14T23:02:04.334967Z",
     "iopub.status.idle": "2023-04-14T23:02:04.342038Z",
     "shell.execute_reply": "2023-04-14T23:02:04.340595Z"
    },
    "papermill": {
     "duration": 0.038955,
     "end_time": "2023-04-14T23:02:04.344427",
     "exception": false,
     "start_time": "2023-04-14T23:02:04.305472",
     "status": "completed"
    },
    "tags": []
   },
   "outputs": [],
   "source": [
    "# Find the optimum model hyperparameters\n",
    "\n",
    "# def grid_search(model, params, X, y):\n",
    "#     search = HalvingRandomSearchCV(\n",
    "#         estimator=model,\n",
    "#         param_distributions=params,\n",
    "# #         n_iter=10,  # number of parameter settings that are sampled\n",
    "#         scoring=['neg_mean_absolute_error', 'f1', 'accuracy'][2],#'accuracy',\n",
    "#         cv=5,  # number of folds\n",
    "#         n_jobs=-1,  # use all available cores\n",
    "#         random_state=42,\n",
    "#         refit=True\n",
    "#         ).fit(X,y)\n",
    "#     return search\n",
    "\n",
    "def grid_search(model, params, X, y):\n",
    "    search = GridSearchCV(\n",
    "        model, \n",
    "        params, \n",
    "        cv=5, \n",
    "        scoring= ['f1', 'roc_auc', 'balanced_accuracy',  'accuracy'][0],\n",
    "        n_jobs=-1).fit(X, y)\n",
    "    return search"
   ]
  },
  {
   "cell_type": "code",
   "execution_count": 43,
   "id": "84cdc14f",
   "metadata": {
    "execution": {
     "iopub.execute_input": "2023-04-14T23:02:04.403759Z",
     "iopub.status.busy": "2023-04-14T23:02:04.403290Z",
     "iopub.status.idle": "2023-04-14T23:02:04.410754Z",
     "shell.execute_reply": "2023-04-14T23:02:04.409491Z"
    },
    "papermill": {
     "duration": 0.041266,
     "end_time": "2023-04-14T23:02:04.413476",
     "exception": false,
     "start_time": "2023-04-14T23:02:04.372210",
     "status": "completed"
    },
    "tags": []
   },
   "outputs": [],
   "source": [
    "# Combine the grid search related functions defined above\n",
    "def grid_search_hyperparameters(params, model, X, y, model_name=False):\n",
    "    model_name = model_name if model_name else model.steps[-1][0]\n",
    "    params = grid_pipe_params(params, model_name)\n",
    "    search = grid_search(model, params, X, y)\n",
    "    return search\n",
    "\n",
    "def results(best_model) :\n",
    "    hp = remove_model_name(best_model.best_params_)\n",
    "    cross_val = best_model.best_score_\n",
    "    print(f'Best params:{hp}')\n",
    "    print(f'Best cross-val score: {cross_val}')\n",
    "    return hp, cross_val"
   ]
  },
  {
   "cell_type": "markdown",
   "id": "2747347b",
   "metadata": {
    "papermill": {
     "duration": 0.02819,
     "end_time": "2023-04-14T23:02:04.470137",
     "exception": false,
     "start_time": "2023-04-14T23:02:04.441947",
     "status": "completed"
    },
    "tags": []
   },
   "source": [
    "# Train & Test Sets"
   ]
  },
  {
   "cell_type": "code",
   "execution_count": 44,
   "id": "4cd22ac9",
   "metadata": {
    "execution": {
     "iopub.execute_input": "2023-04-14T23:02:04.528455Z",
     "iopub.status.busy": "2023-04-14T23:02:04.528035Z",
     "iopub.status.idle": "2023-04-14T23:02:04.539287Z",
     "shell.execute_reply": "2023-04-14T23:02:04.538233Z"
    },
    "papermill": {
     "duration": 0.043583,
     "end_time": "2023-04-14T23:02:04.541875",
     "exception": false,
     "start_time": "2023-04-14T23:02:04.498292",
     "status": "completed"
    },
    "tags": []
   },
   "outputs": [],
   "source": [
    "exclude = ['Survived', 'PassengerId']\n",
    "X = train_data.drop(exclude, axis='columns', inplace=False)\n",
    "y = train_data['Survived']\n",
    "\n",
    "X_train, X_test, y_train, y_test = train_test_split(X, y, test_size=0.2, random_state=42)"
   ]
  },
  {
   "cell_type": "markdown",
   "id": "da967349",
   "metadata": {
    "papermill": {
     "duration": 0.027723,
     "end_time": "2023-04-14T23:02:04.598791",
     "exception": false,
     "start_time": "2023-04-14T23:02:04.571068",
     "status": "completed"
    },
    "tags": []
   },
   "source": [
    "# Models"
   ]
  },
  {
   "cell_type": "markdown",
   "id": "dfdc8558",
   "metadata": {
    "execution": {
     "iopub.execute_input": "2022-03-03T14:21:21.646349Z",
     "iopub.status.busy": "2022-03-03T14:21:21.645526Z",
     "iopub.status.idle": "2022-03-03T14:21:21.663766Z",
     "shell.execute_reply": "2022-03-03T14:21:21.662694Z",
     "shell.execute_reply.started": "2022-03-03T14:21:21.646308Z"
    },
    "papermill": {
     "duration": 0.028047,
     "end_time": "2023-04-14T23:02:04.654563",
     "exception": false,
     "start_time": "2023-04-14T23:02:04.626516",
     "status": "completed"
    },
    "tags": []
   },
   "source": [
    "## Logistic Regression"
   ]
  },
  {
   "cell_type": "code",
   "execution_count": 45,
   "id": "41b5c872",
   "metadata": {
    "execution": {
     "iopub.execute_input": "2023-04-14T23:02:04.713066Z",
     "iopub.status.busy": "2023-04-14T23:02:04.711039Z",
     "iopub.status.idle": "2023-04-14T23:02:05.085690Z",
     "shell.execute_reply": "2023-04-14T23:02:05.084152Z"
    },
    "papermill": {
     "duration": 0.406766,
     "end_time": "2023-04-14T23:02:05.088887",
     "exception": false,
     "start_time": "2023-04-14T23:02:04.682121",
     "status": "completed"
    },
    "tags": []
   },
   "outputs": [
    {
     "data": {
      "text/plain": [
       "0.7619887955182072"
      ]
     },
     "execution_count": 45,
     "metadata": {},
     "output_type": "execute_result"
    }
   ],
   "source": [
    "from sklearn.linear_model import LogisticRegression\n",
    "\n",
    "lr = LogisticRegression()\n",
    "lr = model_pipeline(lr)\n",
    "\n",
    "lr_cv = cv_score(lr, X_train, y_train)\n",
    "lr_cv"
   ]
  },
  {
   "cell_type": "code",
   "execution_count": 46,
   "id": "4f3f4918",
   "metadata": {
    "execution": {
     "iopub.execute_input": "2023-04-14T23:02:05.156196Z",
     "iopub.status.busy": "2023-04-14T23:02:05.155757Z",
     "iopub.status.idle": "2023-04-14T23:02:05.247789Z",
     "shell.execute_reply": "2023-04-14T23:02:05.246287Z"
    },
    "papermill": {
     "duration": 0.132921,
     "end_time": "2023-04-14T23:02:05.250873",
     "exception": false,
     "start_time": "2023-04-14T23:02:05.117952",
     "status": "completed"
    },
    "tags": []
   },
   "outputs": [
    {
     "data": {
      "text/plain": [
       "0.7919463087248321"
      ]
     },
     "execution_count": 46,
     "metadata": {},
     "output_type": "execute_result"
    }
   ],
   "source": [
    "lr.fit(X_train, y_train)\n",
    "lr_score = evaluate(lr, X_test, y_test)\n",
    "lr_score"
   ]
  },
  {
   "cell_type": "markdown",
   "id": "2edfe048",
   "metadata": {
    "papermill": {
     "duration": 0.028317,
     "end_time": "2023-04-14T23:02:05.307851",
     "exception": false,
     "start_time": "2023-04-14T23:02:05.279534",
     "status": "completed"
    },
    "tags": []
   },
   "source": [
    "## SVM\n",
    "Support Vector Machine"
   ]
  },
  {
   "cell_type": "code",
   "execution_count": 47,
   "id": "8bf4cb29",
   "metadata": {
    "execution": {
     "iopub.execute_input": "2023-04-14T23:02:05.365830Z",
     "iopub.status.busy": "2023-04-14T23:02:05.365363Z",
     "iopub.status.idle": "2023-04-14T23:02:05.956978Z",
     "shell.execute_reply": "2023-04-14T23:02:05.955700Z"
    },
    "papermill": {
     "duration": 0.623916,
     "end_time": "2023-04-14T23:02:05.959869",
     "exception": false,
     "start_time": "2023-04-14T23:02:05.335953",
     "status": "completed"
    },
    "tags": []
   },
   "outputs": [
    {
     "data": {
      "text/plain": [
       "0.7666695772238622"
      ]
     },
     "execution_count": 47,
     "metadata": {},
     "output_type": "execute_result"
    }
   ],
   "source": [
    "from sklearn.svm import SVC\n",
    "\n",
    "svm = SVC(probability=True)\n",
    "svm = model_pipeline(svm)\n",
    "svm_cv = cv_score(svm, X_train, y_train)\n",
    "svm_cv"
   ]
  },
  {
   "cell_type": "code",
   "execution_count": 48,
   "id": "1398a2c8",
   "metadata": {
    "execution": {
     "iopub.execute_input": "2023-04-14T23:02:06.019460Z",
     "iopub.status.busy": "2023-04-14T23:02:06.018213Z",
     "iopub.status.idle": "2023-04-14T23:02:06.176885Z",
     "shell.execute_reply": "2023-04-14T23:02:06.175424Z"
    },
    "papermill": {
     "duration": 0.191102,
     "end_time": "2023-04-14T23:02:06.179878",
     "exception": false,
     "start_time": "2023-04-14T23:02:05.988776",
     "status": "completed"
    },
    "tags": []
   },
   "outputs": [
    {
     "data": {
      "text/plain": [
       "0.7571428571428571"
      ]
     },
     "execution_count": 48,
     "metadata": {},
     "output_type": "execute_result"
    }
   ],
   "source": [
    "svm.fit(X_train, y_train)\n",
    "svm_score = evaluate(svm, X_test, y_test)\n",
    "svm_score"
   ]
  },
  {
   "cell_type": "markdown",
   "id": "4d1c4b6f",
   "metadata": {
    "papermill": {
     "duration": 0.028259,
     "end_time": "2023-04-14T23:02:06.236327",
     "exception": false,
     "start_time": "2023-04-14T23:02:06.208068",
     "status": "completed"
    },
    "tags": []
   },
   "source": [
    "## KNN\n",
    "k Nearest Neighbors"
   ]
  },
  {
   "cell_type": "code",
   "execution_count": 49,
   "id": "56ad7664",
   "metadata": {
    "execution": {
     "iopub.execute_input": "2023-04-14T23:02:06.295704Z",
     "iopub.status.busy": "2023-04-14T23:02:06.295017Z",
     "iopub.status.idle": "2023-04-14T23:02:06.299444Z",
     "shell.execute_reply": "2023-04-14T23:02:06.298576Z"
    },
    "papermill": {
     "duration": 0.037466,
     "end_time": "2023-04-14T23:02:06.301944",
     "exception": false,
     "start_time": "2023-04-14T23:02:06.264478",
     "status": "completed"
    },
    "tags": []
   },
   "outputs": [],
   "source": [
    "from sklearn.neighbors import KNeighborsClassifier"
   ]
  },
  {
   "cell_type": "code",
   "execution_count": 50,
   "id": "99b644b9",
   "metadata": {
    "execution": {
     "iopub.execute_input": "2023-04-14T23:02:06.361789Z",
     "iopub.status.busy": "2023-04-14T23:02:06.361088Z",
     "iopub.status.idle": "2023-04-14T23:02:09.756475Z",
     "shell.execute_reply": "2023-04-14T23:02:09.754962Z"
    },
    "papermill": {
     "duration": 3.428203,
     "end_time": "2023-04-14T23:02:09.759284",
     "exception": false,
     "start_time": "2023-04-14T23:02:06.331081",
     "status": "completed"
    },
    "tags": []
   },
   "outputs": [
    {
     "name": "stdout",
     "output_type": "stream",
     "text": [
      "Best params:{'n_neighbors': 5}\n",
      "Best cross-val score: 0.7515666670717037\n"
     ]
    }
   ],
   "source": [
    "knn_param_grid = {\n",
    "    'n_neighbors': list(range(4, 11))\n",
    "}\n",
    "\n",
    "knn = KNeighborsClassifier(n_jobs=-1)\n",
    "knn = model_pipeline(knn)\n",
    "knn_search = grid_search_hyperparameters(knn_param_grid, knn, X_train, y_train)\n",
    "knn_params, knn_cv = results(knn_search)"
   ]
  },
  {
   "cell_type": "code",
   "execution_count": 51,
   "id": "10307c5b",
   "metadata": {
    "execution": {
     "iopub.execute_input": "2023-04-14T23:02:09.818416Z",
     "iopub.status.busy": "2023-04-14T23:02:09.817935Z",
     "iopub.status.idle": "2023-04-14T23:02:09.955927Z",
     "shell.execute_reply": "2023-04-14T23:02:09.954498Z"
    },
    "papermill": {
     "duration": 0.171317,
     "end_time": "2023-04-14T23:02:09.958879",
     "exception": false,
     "start_time": "2023-04-14T23:02:09.787562",
     "status": "completed"
    },
    "tags": []
   },
   "outputs": [
    {
     "data": {
      "text/plain": [
       "0.7659574468085106"
      ]
     },
     "execution_count": 51,
     "metadata": {},
     "output_type": "execute_result"
    }
   ],
   "source": [
    "# knn = KNeighborsClassifier(**knn_params, n_jobs=-1)\n",
    "# knn = model_pipeline(knn)\n",
    "# knn.fit(X_train, y_train)\n",
    "\n",
    "knn_best = knn_search.best_estimator_\n",
    "knn_score = evaluate(knn_best, X_test, y_test)\n",
    "knn_score"
   ]
  },
  {
   "cell_type": "markdown",
   "id": "421e46d1",
   "metadata": {
    "papermill": {
     "duration": 0.028087,
     "end_time": "2023-04-14T23:02:10.015268",
     "exception": false,
     "start_time": "2023-04-14T23:02:09.987181",
     "status": "completed"
    },
    "tags": []
   },
   "source": [
    "## Decision Tree"
   ]
  },
  {
   "cell_type": "code",
   "execution_count": 52,
   "id": "21ade685",
   "metadata": {
    "execution": {
     "iopub.execute_input": "2023-04-14T23:02:10.073631Z",
     "iopub.status.busy": "2023-04-14T23:02:10.073227Z",
     "iopub.status.idle": "2023-04-14T23:04:35.683570Z",
     "shell.execute_reply": "2023-04-14T23:04:35.682156Z"
    },
    "papermill": {
     "duration": 145.671538,
     "end_time": "2023-04-14T23:04:35.715084",
     "exception": false,
     "start_time": "2023-04-14T23:02:10.043546",
     "status": "completed"
    },
    "tags": []
   },
   "outputs": [
    {
     "name": "stdout",
     "output_type": "stream",
     "text": [
      "Best params:{'criterion': 'entropy', 'max_depth': 4, 'max_leaf_nodes': None, 'min_samples_leaf': 1, 'min_samples_split': 2}\n",
      "Best cross-val score: 0.7573958805915979\n"
     ]
    }
   ],
   "source": [
    "from sklearn.tree import DecisionTreeClassifier\n",
    "\n",
    "dt_param_grid = {\n",
    "    'criterion': ['gini', 'entropy'],\n",
    "    'max_depth': [None] + list(range(1, 11)),\n",
    "    'min_samples_split': list(range(2, 5)),\n",
    "    'min_samples_leaf': list(range(1,3)),\n",
    "    'max_leaf_nodes': [None] + list(range(2, 11)) \n",
    "}\n",
    "\n",
    "dt = DecisionTreeClassifier(random_state=43)\n",
    "dt = model_pipeline(dt)\n",
    "dt_search = grid_search_hyperparameters(dt_param_grid, dt, X_train, y_train)\n",
    "dt_params, dt_cv = results(dt_search)"
   ]
  },
  {
   "cell_type": "code",
   "execution_count": 53,
   "id": "0d192295",
   "metadata": {
    "execution": {
     "iopub.execute_input": "2023-04-14T23:04:35.775086Z",
     "iopub.status.busy": "2023-04-14T23:04:35.774172Z",
     "iopub.status.idle": "2023-04-14T23:04:35.799078Z",
     "shell.execute_reply": "2023-04-14T23:04:35.798037Z"
    },
    "papermill": {
     "duration": 0.058592,
     "end_time": "2023-04-14T23:04:35.802198",
     "exception": false,
     "start_time": "2023-04-14T23:04:35.743606",
     "status": "completed"
    },
    "tags": []
   },
   "outputs": [
    {
     "data": {
      "text/plain": [
       "0.7746478873239436"
      ]
     },
     "execution_count": 53,
     "metadata": {},
     "output_type": "execute_result"
    }
   ],
   "source": [
    "# dt = DecisionTreeClassifier(**dt_params, random_state=42)\n",
    "# dt = model_pipeline(dt)\n",
    "# dt.fit(X_train, y_train)\n",
    "\n",
    "dt_best = dt_search.best_estimator_\n",
    "dt_score = evaluate(dt_best, X_test, y_test)\n",
    "dt_score"
   ]
  },
  {
   "cell_type": "markdown",
   "id": "8144ab52",
   "metadata": {
    "papermill": {
     "duration": 0.028637,
     "end_time": "2023-04-14T23:04:35.860770",
     "exception": false,
     "start_time": "2023-04-14T23:04:35.832133",
     "status": "completed"
    },
    "tags": []
   },
   "source": [
    "## Random Forest"
   ]
  },
  {
   "cell_type": "code",
   "execution_count": 54,
   "id": "1db07e70",
   "metadata": {
    "execution": {
     "iopub.execute_input": "2023-04-14T23:04:35.921003Z",
     "iopub.status.busy": "2023-04-14T23:04:35.920531Z",
     "iopub.status.idle": "2023-04-14T23:06:42.144353Z",
     "shell.execute_reply": "2023-04-14T23:06:42.142327Z"
    },
    "papermill": {
     "duration": 126.286238,
     "end_time": "2023-04-14T23:06:42.176160",
     "exception": false,
     "start_time": "2023-04-14T23:04:35.889922",
     "status": "completed"
    },
    "tags": []
   },
   "outputs": [
    {
     "name": "stdout",
     "output_type": "stream",
     "text": [
      "Best params:{'criterion': 'gini', 'max_depth': None, 'min_samples_leaf': 2, 'min_samples_split': 2, 'n_estimators': 100}\n",
      "Best cross-val score: 0.7629438820062437\n"
     ]
    }
   ],
   "source": [
    "from sklearn.ensemble import RandomForestClassifier\n",
    "\n",
    "rf_param_grid = {\n",
    "#     'max_features': [],\n",
    "#     'class_weight': ['None', 'balanced', 'balanced_subsample'],\n",
    "    'n_estimators': list(range(100-50, 151, 50)),\n",
    "    'criterion': ['gini', 'entropy'],\n",
    "    'max_depth': [None] + list(range(1, 5)),\n",
    "    'min_samples_split': list(range(2, 5)),\n",
    "    'min_samples_leaf': list(range(1,3)),\n",
    "}\n",
    "\n",
    "rf = RandomForestClassifier(n_jobs=-1, random_state=42)\n",
    "rf = model_pipeline(rf)\n",
    "rf_search = grid_search_hyperparameters(rf_param_grid, rf, X_train, y_train)\n",
    "rf_params, rf_cv = results(rf_search)"
   ]
  },
  {
   "cell_type": "code",
   "execution_count": 55,
   "id": "91a73d64",
   "metadata": {
    "execution": {
     "iopub.execute_input": "2023-04-14T23:06:42.236034Z",
     "iopub.status.busy": "2023-04-14T23:06:42.235592Z",
     "iopub.status.idle": "2023-04-14T23:06:42.368401Z",
     "shell.execute_reply": "2023-04-14T23:06:42.367122Z"
    },
    "papermill": {
     "duration": 0.166556,
     "end_time": "2023-04-14T23:06:42.371305",
     "exception": false,
     "start_time": "2023-04-14T23:06:42.204749",
     "status": "completed"
    },
    "tags": []
   },
   "outputs": [
    {
     "data": {
      "text/plain": [
       "0.7916666666666666"
      ]
     },
     "execution_count": 55,
     "metadata": {},
     "output_type": "execute_result"
    }
   ],
   "source": [
    "# rf = RandomForestClassifier(**rf_params, n_jobs=-1, random_state=42)\n",
    "# rf = model_pipeline(rf)\n",
    "# rf.fit(X_train, y_train)\n",
    "\n",
    "rf_best = rf_search.best_estimator_\n",
    "rf_score = evaluate(rf_best, X_test, y_test)\n",
    "rf_score"
   ]
  },
  {
   "cell_type": "markdown",
   "id": "6c58a7ce",
   "metadata": {
    "papermill": {
     "duration": 0.02871,
     "end_time": "2023-04-14T23:06:42.428835",
     "exception": false,
     "start_time": "2023-04-14T23:06:42.400125",
     "status": "completed"
    },
    "tags": []
   },
   "source": [
    "## Gradient Boosting"
   ]
  },
  {
   "cell_type": "code",
   "execution_count": 56,
   "id": "8fe61033",
   "metadata": {
    "execution": {
     "iopub.execute_input": "2023-04-14T23:06:42.489245Z",
     "iopub.status.busy": "2023-04-14T23:06:42.488797Z",
     "iopub.status.idle": "2023-04-14T23:07:50.383403Z",
     "shell.execute_reply": "2023-04-14T23:07:50.382399Z"
    },
    "papermill": {
     "duration": 67.957347,
     "end_time": "2023-04-14T23:07:50.414991",
     "exception": false,
     "start_time": "2023-04-14T23:06:42.457644",
     "status": "completed"
    },
    "tags": []
   },
   "outputs": [
    {
     "name": "stdout",
     "output_type": "stream",
     "text": [
      "Best params:{'learning_rate': 0.1, 'max_depth': 3, 'min_samples_leaf': 3, 'min_samples_split': 2, 'n_estimators': 150}\n",
      "Best cross-val score: 0.7447804674634692\n"
     ]
    }
   ],
   "source": [
    "from sklearn.ensemble import GradientBoostingClassifier\n",
    "\n",
    "gb_param_grid = {\n",
    "    'learning_rate': [0.1],\n",
    "    'n_estimators': [50, 100, 150],\n",
    "    'max_depth': [3, 10, 20],\n",
    "    'min_samples_split': list(range(2, 4)),\n",
    "    'min_samples_leaf': list(range(1, 4)),\n",
    "}\n",
    "\n",
    "gb = GradientBoostingClassifier(random_state=42)\n",
    "gb = model_pipeline(gb)\n",
    "gb_search = grid_search_hyperparameters(gb_param_grid, gb, X_train, y_train)\n",
    "gb_params, gb_cv = results(gb_search)"
   ]
  },
  {
   "cell_type": "code",
   "execution_count": 57,
   "id": "fb0ca2e2",
   "metadata": {
    "execution": {
     "iopub.execute_input": "2023-04-14T23:07:50.475558Z",
     "iopub.status.busy": "2023-04-14T23:07:50.474379Z",
     "iopub.status.idle": "2023-04-14T23:07:50.501032Z",
     "shell.execute_reply": "2023-04-14T23:07:50.499731Z"
    },
    "papermill": {
     "duration": 0.059901,
     "end_time": "2023-04-14T23:07:50.503934",
     "exception": false,
     "start_time": "2023-04-14T23:07:50.444033",
     "status": "completed"
    },
    "tags": []
   },
   "outputs": [
    {
     "data": {
      "text/plain": [
       "0.7808219178082192"
      ]
     },
     "execution_count": 57,
     "metadata": {},
     "output_type": "execute_result"
    }
   ],
   "source": [
    "# gb = GradientBoostingClassifier(**gb_params, random_state=42)\n",
    "# gb = model_pipeline(gb)\n",
    "# gb.fit(X_train, y_train)\n",
    "\n",
    "gb_best = gb_search.best_estimator_\n",
    "gb_score = evaluate(gb_best, X_test, y_test)\n",
    "gb_score"
   ]
  },
  {
   "cell_type": "markdown",
   "id": "880503cd",
   "metadata": {
    "papermill": {
     "duration": 0.029051,
     "end_time": "2023-04-14T23:07:50.562106",
     "exception": false,
     "start_time": "2023-04-14T23:07:50.533055",
     "status": "completed"
    },
    "tags": []
   },
   "source": [
    "## Extreme Gradient Boosting"
   ]
  },
  {
   "cell_type": "code",
   "execution_count": 58,
   "id": "69258f7f",
   "metadata": {
    "execution": {
     "iopub.execute_input": "2023-04-14T23:07:50.624178Z",
     "iopub.status.busy": "2023-04-14T23:07:50.623602Z",
     "iopub.status.idle": "2023-04-14T23:11:46.394106Z",
     "shell.execute_reply": "2023-04-14T23:11:46.392525Z"
    },
    "papermill": {
     "duration": 235.914609,
     "end_time": "2023-04-14T23:11:46.506791",
     "exception": false,
     "start_time": "2023-04-14T23:07:50.592182",
     "status": "completed"
    },
    "tags": []
   },
   "outputs": [
    {
     "name": "stdout",
     "output_type": "stream",
     "text": [
      "Best params:{'colsample_bytree': 0.75, 'gamma': 2, 'learning_rate': 0.1, 'max_depth': 10, 'n_estimators': 50, 'subsample': 0.65}\n",
      "Best cross-val score: 0.7717760903481092\n"
     ]
    }
   ],
   "source": [
    "from xgboost import XGBClassifier\n",
    "\n",
    "xgb_param_grid = {\n",
    "    'learning_rate': [0.1],\n",
    "    'n_estimators': [50, 100, 150],\n",
    "    'max_depth': [5, 10, 50],\n",
    "    'subsample': [0.55, 0.6, .65],\n",
    "    'colsample_bytree': [0.75,0.8,0.85],\n",
    "    'gamma': [0.5, 1, 2]\n",
    "}\n",
    "\n",
    "xgb = XGBClassifier(random_state=42)\n",
    "xgb = model_pipeline(xgb)\n",
    "xgb_search = grid_search_hyperparameters(xgb_param_grid, xgb, X_train, y_train)\n",
    "xgb_params, xgb_cv = results(xgb_search)"
   ]
  },
  {
   "cell_type": "code",
   "execution_count": 59,
   "id": "161b3392",
   "metadata": {
    "execution": {
     "iopub.execute_input": "2023-04-14T23:11:46.575887Z",
     "iopub.status.busy": "2023-04-14T23:11:46.574685Z",
     "iopub.status.idle": "2023-04-14T23:11:46.630988Z",
     "shell.execute_reply": "2023-04-14T23:11:46.629072Z"
    },
    "papermill": {
     "duration": 0.098385,
     "end_time": "2023-04-14T23:11:46.634930",
     "exception": false,
     "start_time": "2023-04-14T23:11:46.536545",
     "status": "completed"
    },
    "tags": []
   },
   "outputs": [
    {
     "data": {
      "text/plain": [
       "0.7692307692307693"
      ]
     },
     "execution_count": 59,
     "metadata": {},
     "output_type": "execute_result"
    }
   ],
   "source": [
    "# xgb = XGBClassifier(**xgb_params, random_state=42)\n",
    "# xgb = model_pipeline(xgb)\n",
    "# xgb.fit(X_train, y_train)\n",
    "\n",
    "xgb_best = xgb_search.best_estimator_\n",
    "xgb_score = evaluate(xgb_best, X_test, y_test)\n",
    "xgb_score"
   ]
  },
  {
   "cell_type": "markdown",
   "id": "176d99fd",
   "metadata": {
    "papermill": {
     "duration": 0.029482,
     "end_time": "2023-04-14T23:11:46.709909",
     "exception": false,
     "start_time": "2023-04-14T23:11:46.680427",
     "status": "completed"
    },
    "tags": []
   },
   "source": [
    "## Voting Classifier"
   ]
  },
  {
   "cell_type": "code",
   "execution_count": 60,
   "id": "c948ae54",
   "metadata": {
    "execution": {
     "iopub.execute_input": "2023-04-14T23:11:46.770711Z",
     "iopub.status.busy": "2023-04-14T23:11:46.770298Z",
     "iopub.status.idle": "2023-04-14T23:11:54.488836Z",
     "shell.execute_reply": "2023-04-14T23:11:54.487650Z"
    },
    "papermill": {
     "duration": 7.752571,
     "end_time": "2023-04-14T23:11:54.491867",
     "exception": false,
     "start_time": "2023-04-14T23:11:46.739296",
     "status": "completed"
    },
    "tags": []
   },
   "outputs": [
    {
     "data": {
      "text/plain": [
       "0.7459282513194575"
      ]
     },
     "execution_count": 60,
     "metadata": {},
     "output_type": "execute_result"
    }
   ],
   "source": [
    "from sklearn.ensemble import VotingClassifier\n",
    "\n",
    "vclf = VotingClassifier(estimators=[\n",
    "    ('lr', lr),\n",
    "    ('svm', svm),\n",
    "    ('knn', knn),\n",
    "    ('dt', dt),\n",
    "    ('rf', rf),\n",
    "    ('gb', gb),\n",
    "    ('xgb', xgb)\n",
    "], voting='soft')\n",
    "\n",
    "vc_cv = cv_score(vclf, X_train, y_train)\n",
    "vc_cv"
   ]
  },
  {
   "cell_type": "code",
   "execution_count": 61,
   "id": "33c7f7dd",
   "metadata": {
    "execution": {
     "iopub.execute_input": "2023-04-14T23:11:54.554621Z",
     "iopub.status.busy": "2023-04-14T23:11:54.553355Z",
     "iopub.status.idle": "2023-04-14T23:11:56.167988Z",
     "shell.execute_reply": "2023-04-14T23:11:56.166891Z"
    },
    "papermill": {
     "duration": 1.649264,
     "end_time": "2023-04-14T23:11:56.171382",
     "exception": false,
     "start_time": "2023-04-14T23:11:54.522118",
     "status": "completed"
    },
    "tags": []
   },
   "outputs": [
    {
     "data": {
      "text/plain": [
       "0.7887323943661971"
      ]
     },
     "execution_count": 61,
     "metadata": {},
     "output_type": "execute_result"
    }
   ],
   "source": [
    "vclf.fit(X_train, y_train)\n",
    "vc_score = evaluate(vclf, X_test, y_test)\n",
    "vc_score"
   ]
  },
  {
   "cell_type": "markdown",
   "id": "38e15939",
   "metadata": {
    "papermill": {
     "duration": 0.029824,
     "end_time": "2023-04-14T23:11:56.232591",
     "exception": false,
     "start_time": "2023-04-14T23:11:56.202767",
     "status": "completed"
    },
    "tags": []
   },
   "source": [
    "# Model Comparison\n",
    "Comparing test set scores is what matters when selecting a model. The validation set or cross validation scores are used for hyperparameter tunning."
   ]
  },
  {
   "cell_type": "code",
   "execution_count": 62,
   "id": "49528997",
   "metadata": {
    "execution": {
     "iopub.execute_input": "2023-04-14T23:11:56.295650Z",
     "iopub.status.busy": "2023-04-14T23:11:56.295212Z",
     "iopub.status.idle": "2023-04-14T23:11:56.303918Z",
     "shell.execute_reply": "2023-04-14T23:11:56.302558Z"
    },
    "papermill": {
     "duration": 0.043916,
     "end_time": "2023-04-14T23:11:56.306450",
     "exception": false,
     "start_time": "2023-04-14T23:11:56.262534",
     "status": "completed"
    },
    "tags": []
   },
   "outputs": [
    {
     "data": {
      "text/plain": [
       "{'lr': 0.7619887955182072,\n",
       " 'svm': 0.7666695772238622,\n",
       " 'knn': 0.7515666670717037,\n",
       " 'dt': 0.7573958805915979,\n",
       " 'rf': 0.7629438820062437,\n",
       " 'gb': 0.7447804674634692,\n",
       " 'xgb': 0.7717760903481092,\n",
       " 'vc': 0.7459282513194575}"
      ]
     },
     "execution_count": 62,
     "metadata": {},
     "output_type": "execute_result"
    }
   ],
   "source": [
    "# Cross-validation accuracy scores\n",
    "scores = {\n",
    "    'lr': lr_cv,\n",
    "    'svm': svm_cv,\n",
    "    'knn': knn_cv,\n",
    "    'dt': dt_cv,\n",
    "    'rf': rf_cv,\n",
    "    'gb': gb_cv,\n",
    "    'xgb': xgb_cv,\n",
    "    'vc': vc_cv\n",
    "}\n",
    "scores"
   ]
  },
  {
   "cell_type": "code",
   "execution_count": 63,
   "id": "ba0c7442",
   "metadata": {
    "execution": {
     "iopub.execute_input": "2023-04-14T23:11:56.368815Z",
     "iopub.status.busy": "2023-04-14T23:11:56.368339Z",
     "iopub.status.idle": "2023-04-14T23:11:56.377136Z",
     "shell.execute_reply": "2023-04-14T23:11:56.375919Z"
    },
    "papermill": {
     "duration": 0.043178,
     "end_time": "2023-04-14T23:11:56.379679",
     "exception": false,
     "start_time": "2023-04-14T23:11:56.336501",
     "status": "completed"
    },
    "tags": []
   },
   "outputs": [
    {
     "data": {
      "text/plain": [
       "{'lr': 0.7919463087248321,\n",
       " 'svm': 0.7571428571428571,\n",
       " 'knn': 0.7659574468085106,\n",
       " 'dt': 0.7746478873239436,\n",
       " 'rf': 0.7916666666666666,\n",
       " 'gb': 0.7808219178082192,\n",
       " 'xgb': 0.7692307692307693,\n",
       " 'vc': 0.7887323943661971}"
      ]
     },
     "execution_count": 63,
     "metadata": {},
     "output_type": "execute_result"
    }
   ],
   "source": [
    "# Test set accuracy scores\n",
    "eval_scores = {\n",
    "    'lr': lr_score,\n",
    "    'svm': svm_score,\n",
    "    'knn': knn_score,\n",
    "    'dt': dt_score,\n",
    "    'rf': rf_score,\n",
    "    'gb': gb_score,\n",
    "    'xgb': xgb_score,\n",
    "    'vc': vc_score\n",
    "}\n",
    "eval_scores"
   ]
  },
  {
   "cell_type": "code",
   "execution_count": 64,
   "id": "ee71788e",
   "metadata": {
    "execution": {
     "iopub.execute_input": "2023-04-14T23:11:56.442569Z",
     "iopub.status.busy": "2023-04-14T23:11:56.441707Z",
     "iopub.status.idle": "2023-04-14T23:11:56.449468Z",
     "shell.execute_reply": "2023-04-14T23:11:56.448310Z"
    },
    "papermill": {
     "duration": 0.041823,
     "end_time": "2023-04-14T23:11:56.451946",
     "exception": false,
     "start_time": "2023-04-14T23:11:56.410123",
     "status": "completed"
    },
    "tags": []
   },
   "outputs": [
    {
     "data": {
      "text/plain": [
       "'lr'"
      ]
     },
     "execution_count": 64,
     "metadata": {},
     "output_type": "execute_result"
    }
   ],
   "source": [
    "max_score = max(eval_scores, key=eval_scores.get)\n",
    "max_score"
   ]
  },
  {
   "cell_type": "markdown",
   "id": "1dd54271",
   "metadata": {
    "execution": {
     "iopub.status.busy": "2023-04-07T23:15:51.617244Z",
     "iopub.status.idle": "2023-04-07T23:15:51.617555Z",
     "shell.execute_reply": "2023-04-07T23:15:51.617425Z",
     "shell.execute_reply.started": "2023-04-07T23:15:51.617410Z"
    },
    "papermill": {
     "duration": 0.029809,
     "end_time": "2023-04-14T23:11:56.511962",
     "exception": false,
     "start_time": "2023-04-14T23:11:56.482153",
     "status": "completed"
    },
    "tags": []
   },
   "source": [
    "Logistic Regression has the highest test set evaluation score. There is a minimal difference between the test set score and the cross validation score, this demonstrates that the model did not overfit the training data set."
   ]
  },
  {
   "cell_type": "markdown",
   "id": "010e59ca",
   "metadata": {
    "papermill": {
     "duration": 0.033655,
     "end_time": "2023-04-14T23:11:56.575910",
     "exception": false,
     "start_time": "2023-04-14T23:11:56.542255",
     "status": "completed"
    },
    "tags": []
   },
   "source": [
    "# Chosen Model's Performance Metrics"
   ]
  },
  {
   "cell_type": "code",
   "execution_count": 65,
   "id": "88dc0eb8",
   "metadata": {
    "execution": {
     "iopub.execute_input": "2023-04-14T23:11:56.639795Z",
     "iopub.status.busy": "2023-04-14T23:11:56.638587Z",
     "iopub.status.idle": "2023-04-14T23:11:56.643750Z",
     "shell.execute_reply": "2023-04-14T23:11:56.642856Z"
    },
    "papermill": {
     "duration": 0.039598,
     "end_time": "2023-04-14T23:11:56.646162",
     "exception": false,
     "start_time": "2023-04-14T23:11:56.606564",
     "status": "completed"
    },
    "tags": []
   },
   "outputs": [],
   "source": [
    "model = lr"
   ]
  },
  {
   "cell_type": "markdown",
   "id": "a33ffb94",
   "metadata": {
    "papermill": {
     "duration": 0.029545,
     "end_time": "2023-04-14T23:11:56.705788",
     "exception": false,
     "start_time": "2023-04-14T23:11:56.676243",
     "status": "completed"
    },
    "tags": []
   },
   "source": [
    "## Confusion Matrix"
   ]
  },
  {
   "cell_type": "code",
   "execution_count": 66,
   "id": "0ee66ac3",
   "metadata": {
    "execution": {
     "iopub.execute_input": "2023-04-14T23:11:56.767515Z",
     "iopub.status.busy": "2023-04-14T23:11:56.767070Z",
     "iopub.status.idle": "2023-04-14T23:11:57.038905Z",
     "shell.execute_reply": "2023-04-14T23:11:57.038014Z"
    },
    "papermill": {
     "duration": 0.305635,
     "end_time": "2023-04-14T23:11:57.041434",
     "exception": false,
     "start_time": "2023-04-14T23:11:56.735799",
     "status": "completed"
    },
    "tags": []
   },
   "outputs": [
    {
     "data": {
      "image/png": "[encoded data removed]",
      "text/plain": [
       "<Figure size 500x300 with 2 Axes>"
      ]
     },
     "metadata": {},
     "output_type": "display_data"
    }
   ],
   "source": [
    "from sklearn.metrics import confusion_matrix\n",
    "\n",
    "cm = confusion_matrix(y_test, model.predict(X_test))\n",
    "\n",
    "fig = plt.figure(figsize=(5, 3))\n",
    "ax = sns.heatmap(cm, annot=True, cmap=\"YlGnBu\", fmt='d')\n",
    "ax.set_title(\"Confusion Matrix\")\n",
    "ax.set_ylabel(\"Predicted\")\n",
    "ax.set_xlabel(\"True\")\n",
    "plt.show()"
   ]
  },
  {
   "cell_type": "markdown",
   "id": "37189194",
   "metadata": {
    "papermill": {
     "duration": 0.030878,
     "end_time": "2023-04-14T23:11:57.103262",
     "exception": false,
     "start_time": "2023-04-14T23:11:57.072384",
     "status": "completed"
    },
    "tags": []
   },
   "source": [
    "## Precision, Recall, F1-scores"
   ]
  },
  {
   "cell_type": "code",
   "execution_count": 67,
   "id": "54804339",
   "metadata": {
    "execution": {
     "iopub.execute_input": "2023-04-14T23:11:57.168189Z",
     "iopub.status.busy": "2023-04-14T23:11:57.167707Z",
     "iopub.status.idle": "2023-04-14T23:11:57.197187Z",
     "shell.execute_reply": "2023-04-14T23:11:57.195359Z"
    },
    "papermill": {
     "duration": 0.064655,
     "end_time": "2023-04-14T23:11:57.199841",
     "exception": false,
     "start_time": "2023-04-14T23:11:57.135186",
     "status": "completed"
    },
    "tags": []
   },
   "outputs": [
    {
     "name": "stdout",
     "output_type": "stream",
     "text": [
      "              precision    recall  f1-score   support\n",
      "\n",
      "           0       0.86      0.85      0.85       105\n",
      "           1       0.79      0.80      0.79        74\n",
      "\n",
      "    accuracy                           0.83       179\n",
      "   macro avg       0.82      0.82      0.82       179\n",
      "weighted avg       0.83      0.83      0.83       179\n",
      "\n"
     ]
    }
   ],
   "source": [
    "from sklearn.metrics import classification_report\n",
    "\n",
    "print(classification_report(y_test, model.predict(X_test)))"
   ]
  },
  {
   "cell_type": "markdown",
   "id": "23f04e5e",
   "metadata": {
    "papermill": {
     "duration": 0.030726,
     "end_time": "2023-04-14T23:11:57.262135",
     "exception": false,
     "start_time": "2023-04-14T23:11:57.231409",
     "status": "completed"
    },
    "tags": []
   },
   "source": [
    "## Area Under the Reciever Operating Characteristic Curve: AUC-ROC"
   ]
  },
  {
   "cell_type": "code",
   "execution_count": 68,
   "id": "3ca26b3c",
   "metadata": {
    "execution": {
     "iopub.execute_input": "2023-04-14T23:11:57.327286Z",
     "iopub.status.busy": "2023-04-14T23:11:57.326479Z",
     "iopub.status.idle": "2023-04-14T23:11:57.599651Z",
     "shell.execute_reply": "2023-04-14T23:11:57.598348Z"
    },
    "papermill": {
     "duration": 0.30924,
     "end_time": "2023-04-14T23:11:57.603624",
     "exception": false,
     "start_time": "2023-04-14T23:11:57.294384",
     "status": "completed"
    },
    "tags": []
   },
   "outputs": [
    {
     "data": {
      "image/png": "[encoded data removed]",
      "text/plain": [
       "<Figure size 640x480 with 1 Axes>"
      ]
     },
     "metadata": {},
     "output_type": "display_data"
    }
   ],
   "source": [
    "from sklearn.metrics import roc_auc_score, roc_curve\n",
    "\n",
    "y_pred_proba = model.predict_proba(X_test)[:, 1]\n",
    "auc_roc = roc_auc_score(y_test, y_pred_proba)\n",
    "fpr, tpr, _ = roc_curve(y_test, y_pred_proba)\n",
    "\n",
    "plt.plot(fpr, tpr, label=f'AUC-ROC={auc_roc:.2f}')\n",
    "# roc_df = pd.DataFrame({'fpr': fpr, 'tpr': tpr})\n",
    "# sns.lineplot(x='fpr', y='tpr', data=roc_df, label=f'AUC-ROC={auc_roc:.2f}')\n",
    "\n",
    "plt.plot([0, 1], [0, 1], linestyle='--')\n",
    "plt.xlabel('False Positive Rate')\n",
    "plt.ylabel('True Positive Rate')\n",
    "plt.title('Receiver Operating Characteristic (ROC) Curve')\n",
    "plt.legend()\n",
    "plt.show()"
   ]
  },
  {
   "cell_type": "markdown",
   "id": "965a16bb",
   "metadata": {
    "papermill": {
     "duration": 0.032451,
     "end_time": "2023-04-14T23:11:57.682454",
     "exception": false,
     "start_time": "2023-04-14T23:11:57.650003",
     "status": "completed"
    },
    "tags": []
   },
   "source": [
    "# Predictions"
   ]
  },
  {
   "cell_type": "code",
   "execution_count": 69,
   "id": "16794dbf",
   "metadata": {
    "execution": {
     "iopub.execute_input": "2023-04-14T23:11:57.748241Z",
     "iopub.status.busy": "2023-04-14T23:11:57.747365Z",
     "iopub.status.idle": "2023-04-14T23:11:57.874309Z",
     "shell.execute_reply": "2023-04-14T23:11:57.872971Z"
    },
    "papermill": {
     "duration": 0.16355,
     "end_time": "2023-04-14T23:11:57.877288",
     "exception": false,
     "start_time": "2023-04-14T23:11:57.713738",
     "status": "completed"
    },
    "tags": []
   },
   "outputs": [],
   "source": [
    "predictions = rf_best.predict(pred_data)"
   ]
  },
  {
   "cell_type": "markdown",
   "id": "2dc61655",
   "metadata": {
    "papermill": {
     "duration": 0.031095,
     "end_time": "2023-04-14T23:11:57.939658",
     "exception": false,
     "start_time": "2023-04-14T23:11:57.908563",
     "status": "completed"
    },
    "tags": []
   },
   "source": [
    "# Submission"
   ]
  },
  {
   "cell_type": "markdown",
   "id": "5353236f",
   "metadata": {
    "papermill": {
     "duration": 0.030945,
     "end_time": "2023-04-14T23:11:58.002604",
     "exception": false,
     "start_time": "2023-04-14T23:11:57.971659",
     "status": "completed"
    },
    "tags": []
   },
   "source": [
    "**Submission of best results:**"
   ]
  },
  {
   "cell_type": "code",
   "execution_count": 70,
   "id": "cbf51aa2",
   "metadata": {
    "execution": {
     "iopub.execute_input": "2023-04-14T23:11:58.066954Z",
     "iopub.status.busy": "2023-04-14T23:11:58.066514Z",
     "iopub.status.idle": "2023-04-14T23:11:58.081697Z",
     "shell.execute_reply": "2023-04-14T23:11:58.080106Z"
    },
    "papermill": {
     "duration": 0.050502,
     "end_time": "2023-04-14T23:11:58.084341",
     "exception": false,
     "start_time": "2023-04-14T23:11:58.033839",
     "status": "completed"
    },
    "tags": []
   },
   "outputs": [
    {
     "name": "stdout",
     "output_type": "stream",
     "text": [
      "Your submission was successfully saved!\n"
     ]
    }
   ],
   "source": [
    "output = pd.DataFrame({'PassengerId': test_data.PassengerId, 'Survived': predictions})\n",
    "output.to_csv('submission.csv', index=False)\n",
    "print(\"Your submission was successfully saved!\")"
   ]
  },
  {
   "cell_type": "markdown",
   "id": "6cf013bb",
   "metadata": {
    "papermill": {
     "duration": 0.031184,
     "end_time": "2023-04-14T23:11:58.147707",
     "exception": false,
     "start_time": "2023-04-14T23:11:58.116523",
     "status": "completed"
    },
    "tags": []
   },
   "source": [
    "# Possible ways to further improve the model: \n",
    "* Reducing the class imbalance: undersampling, oversampling or weighting.\n",
    "* Regularization, e.g. Lasso (L1), Ridge (L2), ElasticNet.\n",
    "* Try other models: \n",
    "    * Neural networks\n",
    "* Encodings:\n",
    "    * Try Label encoding with tree and ensemble models.\n",
    "    * Try Ordinal encoding with Plass, Embarked."
   ]
  }
 ],
 "metadata": {
  "kernelspec": {
   "display_name": "Python 3",
   "language": "python",
   "name": "python3"
  },
  "language_info": {
   "codemirror_mode": {
    "name": "ipython",
    "version": 3
   },
   "file_extension": ".py",
   "mimetype": "text/x-python",
   "name": "python",
   "nbconvert_exporter": "python",
   "pygments_lexer": "ipython3",
   "version": "3.7.12"
  },
  "papermill": {
   "default_parameters": {},
   "duration": 661.385744,
   "end_time": "2023-04-14T23:12:00.804535",
   "environment_variables": {},
   "exception": null,
   "input_path": "__notebook__.ipynb",
   "output_path": "__notebook__.ipynb",
   "parameters": {},
   "start_time": "2023-04-14T23:00:59.418791",
   "version": "2.4.0"
  }
 },
 "nbformat": 4,
 "nbformat_minor": 5
}
