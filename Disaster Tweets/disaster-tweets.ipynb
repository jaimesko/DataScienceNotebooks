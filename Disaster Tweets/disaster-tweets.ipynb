{
 "cells": [
  {
   "cell_type": "code",
   "execution_count": 1,
   "id": "0d0db6d5",
   "metadata": {
    "_cell_guid": "b1076dfc-b9ad-4769-8c92-a6c4dae69d19",
    "_uuid": "8f2839f25d086af736a60e9eeb907d3b93b6e0e5",
    "execution": {
     "iopub.execute_input": "2023-04-14T00:01:01.740358Z",
     "iopub.status.busy": "2023-04-14T00:01:01.739521Z",
     "iopub.status.idle": "2023-04-14T00:01:01.755384Z",
     "shell.execute_reply": "2023-04-14T00:01:01.754086Z"
    },
    "papermill": {
     "duration": 0.046106,
     "end_time": "2023-04-14T00:01:01.758167",
     "exception": false,
     "start_time": "2023-04-14T00:01:01.712061",
     "status": "completed"
    },
    "tags": []
   },
   "outputs": [
    {
     "name": "stdout",
     "output_type": "stream",
     "text": [
      "/kaggle/input/nlp-getting-started/sample_submission.csv\n",
      "/kaggle/input/nlp-getting-started/train.csv\n",
      "/kaggle/input/nlp-getting-started/test.csv\n"
     ]
    }
   ],
   "source": [
    "# This Python 3 environment comes with many helpful analytics libraries installed\n",
    "# It is defined by the kaggle/python Docker image: https://github.com/kaggle/docker-python\n",
    "# For example, here's several helpful packages to load\n",
    "\n",
    "import numpy as np # linear algebra\n",
    "import pandas as pd # data processing, CSV file I/O (e.g. pd.read_csv)\n",
    "\n",
    "# Input data files are available in the read-only \"../input/\" directory\n",
    "# For example, running this (by clicking run or pressing Shift+Enter) will list all files under the input directory\n",
    "\n",
    "import os\n",
    "for dirname, _, filenames in os.walk('/kaggle/input'):\n",
    "    for filename in filenames:\n",
    "        print(os.path.join(dirname, filename))\n",
    "\n",
    "# You can write up to 20GB to the current directory (/kaggle/working/) that gets preserved as output when you create a version using \"Save & Run All\" \n",
    "# You can also write temporary files to /kaggle/temp/, but they won't be saved outside of the current session"
   ]
  },
  {
   "cell_type": "markdown",
   "id": "7ef08368",
   "metadata": {
    "papermill": {
     "duration": 0.022877,
     "end_time": "2023-04-14T00:01:01.807082",
     "exception": false,
     "start_time": "2023-04-14T00:01:01.784205",
     "status": "completed"
    },
    "tags": []
   },
   "source": [
    "# Competition and Data\n",
    "https://www.kaggle.com/competitions/nlp-getting-started/overview\n",
    "\n",
    "Objective: <br>\n",
    "Build a machine learning model that predicts which Tweets are about real disasters and which one’s aren’t with a dataset of 10,000 tweets that were hand classified."
   ]
  },
  {
   "cell_type": "markdown",
   "id": "7bd70ac8",
   "metadata": {
    "papermill": {
     "duration": 0.023091,
     "end_time": "2023-04-14T00:01:01.853467",
     "exception": false,
     "start_time": "2023-04-14T00:01:01.830376",
     "status": "completed"
    },
    "tags": []
   },
   "source": [
    "# Setup"
   ]
  },
  {
   "cell_type": "code",
   "execution_count": 2,
   "id": "2e77e5fb",
   "metadata": {
    "execution": {
     "iopub.execute_input": "2023-04-14T00:01:01.902814Z",
     "iopub.status.busy": "2023-04-14T00:01:01.901922Z",
     "iopub.status.idle": "2023-04-14T00:01:12.415309Z",
     "shell.execute_reply": "2023-04-14T00:01:12.413840Z"
    },
    "papermill": {
     "duration": 10.541976,
     "end_time": "2023-04-14T00:01:12.418753",
     "exception": false,
     "start_time": "2023-04-14T00:01:01.876777",
     "status": "completed"
    },
    "tags": []
   },
   "outputs": [],
   "source": [
    "import numpy as np\n",
    "import pandas as pd\n",
    "\n",
    "import seaborn as sns\n",
    "import matplotlib.pyplot as plt\n",
    "%matplotlib inline\n",
    "\n",
    "import warnings\n",
    "warnings.filterwarnings('ignore')\n",
    "\n",
    "import sklearn as sk\n",
    "import tensorflow as tf"
   ]
  },
  {
   "cell_type": "code",
   "execution_count": 3,
   "id": "00d937ab",
   "metadata": {
    "execution": {
     "iopub.execute_input": "2023-04-14T00:01:12.468235Z",
     "iopub.status.busy": "2023-04-14T00:01:12.467326Z",
     "iopub.status.idle": "2023-04-14T00:01:12.475361Z",
     "shell.execute_reply": "2023-04-14T00:01:12.474041Z"
    },
    "papermill": {
     "duration": 0.035683,
     "end_time": "2023-04-14T00:01:12.477934",
     "exception": false,
     "start_time": "2023-04-14T00:01:12.442251",
     "status": "completed"
    },
    "tags": []
   },
   "outputs": [],
   "source": [
    "import os\n",
    "import random\n",
    "    \n",
    "def set_seeds(seed=42):\n",
    "    random.seed(seed)\n",
    "    np.random.seed(seed)\n",
    "    tf.random.set_seed(seed)\n",
    "    os.environ['PYTHONHASHSEED'] = str(seed)\n",
    "    os.environ['TF_DETERMINISTIC_OPS'] = '1'\n",
    "    \n",
    "set_seeds(42)"
   ]
  },
  {
   "cell_type": "code",
   "execution_count": 4,
   "id": "17c57ee4",
   "metadata": {
    "execution": {
     "iopub.execute_input": "2023-04-14T00:01:12.526796Z",
     "iopub.status.busy": "2023-04-14T00:01:12.526383Z",
     "iopub.status.idle": "2023-04-14T00:01:12.597986Z",
     "shell.execute_reply": "2023-04-14T00:01:12.596751Z"
    },
    "papermill": {
     "duration": 0.099755,
     "end_time": "2023-04-14T00:01:12.601268",
     "exception": false,
     "start_time": "2023-04-14T00:01:12.501513",
     "status": "completed"
    },
    "tags": []
   },
   "outputs": [],
   "source": [
    "train_path = \"/kaggle/input/nlp-getting-started/train.csv\"\n",
    "train_data = pd.read_csv(train_path)\n",
    "test_path = \"/kaggle/input/nlp-getting-started/test.csv\"\n",
    "test_data = pd.read_csv(test_path)"
   ]
  },
  {
   "cell_type": "code",
   "execution_count": 5,
   "id": "f08223c4",
   "metadata": {
    "execution": {
     "iopub.execute_input": "2023-04-14T00:01:12.651174Z",
     "iopub.status.busy": "2023-04-14T00:01:12.650329Z",
     "iopub.status.idle": "2023-04-14T00:01:12.659348Z",
     "shell.execute_reply": "2023-04-14T00:01:12.658105Z"
    },
    "papermill": {
     "duration": 0.037064,
     "end_time": "2023-04-14T00:01:12.662366",
     "exception": false,
     "start_time": "2023-04-14T00:01:12.625302",
     "status": "completed"
    },
    "tags": []
   },
   "outputs": [
    {
     "data": {
      "text/plain": [
       "Index(['id', 'keyword', 'location', 'text'], dtype='object')"
      ]
     },
     "execution_count": 5,
     "metadata": {},
     "output_type": "execute_result"
    }
   ],
   "source": [
    "# test_data doesn't contain labels, so it cannot actually be used as the test set.\n",
    "# It can only be used for the submission predictions.\n",
    "pred_data = test_data\n",
    "# test_data.tail()\n",
    "test_data.columns"
   ]
  },
  {
   "cell_type": "markdown",
   "id": "2f5771e3",
   "metadata": {
    "papermill": {
     "duration": 0.023174,
     "end_time": "2023-04-14T00:01:12.709520",
     "exception": false,
     "start_time": "2023-04-14T00:01:12.686346",
     "status": "completed"
    },
    "tags": []
   },
   "source": [
    "# Data Overview"
   ]
  },
  {
   "cell_type": "code",
   "execution_count": 6,
   "id": "f24238a0",
   "metadata": {
    "execution": {
     "iopub.execute_input": "2023-04-14T00:01:12.760477Z",
     "iopub.status.busy": "2023-04-14T00:01:12.759760Z",
     "iopub.status.idle": "2023-04-14T00:01:12.790702Z",
     "shell.execute_reply": "2023-04-14T00:01:12.789388Z"
    },
    "papermill": {
     "duration": 0.060295,
     "end_time": "2023-04-14T00:01:12.793467",
     "exception": false,
     "start_time": "2023-04-14T00:01:12.733172",
     "status": "completed"
    },
    "tags": []
   },
   "outputs": [
    {
     "data": {
      "text/html": [
       "<div>\n",
       "<style scoped>\n",
       "    .dataframe tbody tr th:only-of-type {\n",
       "        vertical-align: middle;\n",
       "    }\n",
       "\n",
       "    .dataframe tbody tr th {\n",
       "        vertical-align: top;\n",
       "    }\n",
       "\n",
       "    .dataframe thead th {\n",
       "        text-align: right;\n",
       "    }\n",
       "</style>\n",
       "<table border=\"1\" class=\"dataframe\">\n",
       "  <thead>\n",
       "    <tr style=\"text-align: right;\">\n",
       "      <th></th>\n",
       "      <th>id</th>\n",
       "      <th>keyword</th>\n",
       "      <th>location</th>\n",
       "      <th>text</th>\n",
       "      <th>target</th>\n",
       "    </tr>\n",
       "  </thead>\n",
       "  <tbody>\n",
       "    <tr>\n",
       "      <th>0</th>\n",
       "      <td>1</td>\n",
       "      <td>NaN</td>\n",
       "      <td>NaN</td>\n",
       "      <td>Our Deeds are the Reason of this #earthquake M...</td>\n",
       "      <td>1</td>\n",
       "    </tr>\n",
       "    <tr>\n",
       "      <th>1</th>\n",
       "      <td>4</td>\n",
       "      <td>NaN</td>\n",
       "      <td>NaN</td>\n",
       "      <td>Forest fire near La Ronge Sask. Canada</td>\n",
       "      <td>1</td>\n",
       "    </tr>\n",
       "    <tr>\n",
       "      <th>2</th>\n",
       "      <td>5</td>\n",
       "      <td>NaN</td>\n",
       "      <td>NaN</td>\n",
       "      <td>All residents asked to 'shelter in place' are ...</td>\n",
       "      <td>1</td>\n",
       "    </tr>\n",
       "    <tr>\n",
       "      <th>3</th>\n",
       "      <td>6</td>\n",
       "      <td>NaN</td>\n",
       "      <td>NaN</td>\n",
       "      <td>13,000 people receive #wildfires evacuation or...</td>\n",
       "      <td>1</td>\n",
       "    </tr>\n",
       "    <tr>\n",
       "      <th>4</th>\n",
       "      <td>7</td>\n",
       "      <td>NaN</td>\n",
       "      <td>NaN</td>\n",
       "      <td>Just got sent this photo from Ruby #Alaska as ...</td>\n",
       "      <td>1</td>\n",
       "    </tr>\n",
       "  </tbody>\n",
       "</table>\n",
       "</div>"
      ],
      "text/plain": [
       "   id keyword location                                               text  \\\n",
       "0   1     NaN      NaN  Our Deeds are the Reason of this #earthquake M...   \n",
       "1   4     NaN      NaN             Forest fire near La Ronge Sask. Canada   \n",
       "2   5     NaN      NaN  All residents asked to 'shelter in place' are ...   \n",
       "3   6     NaN      NaN  13,000 people receive #wildfires evacuation or...   \n",
       "4   7     NaN      NaN  Just got sent this photo from Ruby #Alaska as ...   \n",
       "\n",
       "   target  \n",
       "0       1  \n",
       "1       1  \n",
       "2       1  \n",
       "3       1  \n",
       "4       1  "
      ]
     },
     "execution_count": 6,
     "metadata": {},
     "output_type": "execute_result"
    }
   ],
   "source": [
    "train_data.head()"
   ]
  },
  {
   "cell_type": "code",
   "execution_count": 7,
   "id": "ca322019",
   "metadata": {
    "execution": {
     "iopub.execute_input": "2023-04-14T00:01:12.844097Z",
     "iopub.status.busy": "2023-04-14T00:01:12.843579Z",
     "iopub.status.idle": "2023-04-14T00:01:12.874195Z",
     "shell.execute_reply": "2023-04-14T00:01:12.872729Z"
    },
    "papermill": {
     "duration": 0.059867,
     "end_time": "2023-04-14T00:01:12.877353",
     "exception": false,
     "start_time": "2023-04-14T00:01:12.817486",
     "status": "completed"
    },
    "tags": []
   },
   "outputs": [
    {
     "name": "stdout",
     "output_type": "stream",
     "text": [
      "<class 'pandas.core.frame.DataFrame'>\n",
      "RangeIndex: 7613 entries, 0 to 7612\n",
      "Data columns (total 5 columns):\n",
      " #   Column    Non-Null Count  Dtype \n",
      "---  ------    --------------  ----- \n",
      " 0   id        7613 non-null   int64 \n",
      " 1   keyword   7552 non-null   object\n",
      " 2   location  5080 non-null   object\n",
      " 3   text      7613 non-null   object\n",
      " 4   target    7613 non-null   int64 \n",
      "dtypes: int64(2), object(3)\n",
      "memory usage: 297.5+ KB\n"
     ]
    }
   ],
   "source": [
    "train_data.info()"
   ]
  },
  {
   "cell_type": "code",
   "execution_count": 8,
   "id": "f53fa9dc",
   "metadata": {
    "execution": {
     "iopub.execute_input": "2023-04-14T00:01:12.929160Z",
     "iopub.status.busy": "2023-04-14T00:01:12.928677Z",
     "iopub.status.idle": "2023-04-14T00:01:12.954622Z",
     "shell.execute_reply": "2023-04-14T00:01:12.953218Z"
    },
    "papermill": {
     "duration": 0.055429,
     "end_time": "2023-04-14T00:01:12.957797",
     "exception": false,
     "start_time": "2023-04-14T00:01:12.902368",
     "status": "completed"
    },
    "tags": []
   },
   "outputs": [
    {
     "data": {
      "text/html": [
       "<div>\n",
       "<style scoped>\n",
       "    .dataframe tbody tr th:only-of-type {\n",
       "        vertical-align: middle;\n",
       "    }\n",
       "\n",
       "    .dataframe tbody tr th {\n",
       "        vertical-align: top;\n",
       "    }\n",
       "\n",
       "    .dataframe thead th {\n",
       "        text-align: right;\n",
       "    }\n",
       "</style>\n",
       "<table border=\"1\" class=\"dataframe\">\n",
       "  <thead>\n",
       "    <tr style=\"text-align: right;\">\n",
       "      <th></th>\n",
       "      <th>id</th>\n",
       "      <th>target</th>\n",
       "    </tr>\n",
       "  </thead>\n",
       "  <tbody>\n",
       "    <tr>\n",
       "      <th>count</th>\n",
       "      <td>7613.000000</td>\n",
       "      <td>7613.00000</td>\n",
       "    </tr>\n",
       "    <tr>\n",
       "      <th>mean</th>\n",
       "      <td>5441.934848</td>\n",
       "      <td>0.42966</td>\n",
       "    </tr>\n",
       "    <tr>\n",
       "      <th>std</th>\n",
       "      <td>3137.116090</td>\n",
       "      <td>0.49506</td>\n",
       "    </tr>\n",
       "    <tr>\n",
       "      <th>min</th>\n",
       "      <td>1.000000</td>\n",
       "      <td>0.00000</td>\n",
       "    </tr>\n",
       "    <tr>\n",
       "      <th>25%</th>\n",
       "      <td>2734.000000</td>\n",
       "      <td>0.00000</td>\n",
       "    </tr>\n",
       "    <tr>\n",
       "      <th>50%</th>\n",
       "      <td>5408.000000</td>\n",
       "      <td>0.00000</td>\n",
       "    </tr>\n",
       "    <tr>\n",
       "      <th>75%</th>\n",
       "      <td>8146.000000</td>\n",
       "      <td>1.00000</td>\n",
       "    </tr>\n",
       "    <tr>\n",
       "      <th>max</th>\n",
       "      <td>10873.000000</td>\n",
       "      <td>1.00000</td>\n",
       "    </tr>\n",
       "  </tbody>\n",
       "</table>\n",
       "</div>"
      ],
      "text/plain": [
       "                 id      target\n",
       "count   7613.000000  7613.00000\n",
       "mean    5441.934848     0.42966\n",
       "std     3137.116090     0.49506\n",
       "min        1.000000     0.00000\n",
       "25%     2734.000000     0.00000\n",
       "50%     5408.000000     0.00000\n",
       "75%     8146.000000     1.00000\n",
       "max    10873.000000     1.00000"
      ]
     },
     "execution_count": 8,
     "metadata": {},
     "output_type": "execute_result"
    }
   ],
   "source": [
    "train_data.describe()"
   ]
  },
  {
   "cell_type": "markdown",
   "id": "3efda2e8",
   "metadata": {
    "papermill": {
     "duration": 0.02455,
     "end_time": "2023-04-14T00:01:13.006749",
     "exception": false,
     "start_time": "2023-04-14T00:01:12.982199",
     "status": "completed"
    },
    "tags": []
   },
   "source": [
    "# Exploratory Data Analysis\n",
    "Additional EDA for the keyword and location columns would he helpful.\n",
    "\n",
    "Could add:\n",
    "* N-gram\n",
    "* Common stopwords\n",
    "* Common punctuations, e.g. exclamation marks (!) might be more prevalent in disaster tweets.\n",
    "* Word clouds\n"
   ]
  },
  {
   "cell_type": "markdown",
   "id": "0d68ecae",
   "metadata": {
    "papermill": {
     "duration": 0.024653,
     "end_time": "2023-04-14T00:01:13.056165",
     "exception": false,
     "start_time": "2023-04-14T00:01:13.031512",
     "status": "completed"
    },
    "tags": []
   },
   "source": [
    "### Vocabulary Size/Number of unique words\n",
    "This does not account for punctuation."
   ]
  },
  {
   "cell_type": "code",
   "execution_count": 9,
   "id": "8b9a67ff",
   "metadata": {
    "execution": {
     "iopub.execute_input": "2023-04-14T00:01:13.108196Z",
     "iopub.status.busy": "2023-04-14T00:01:13.106699Z",
     "iopub.status.idle": "2023-04-14T00:01:13.148608Z",
     "shell.execute_reply": "2023-04-14T00:01:13.147240Z"
    },
    "papermill": {
     "duration": 0.070608,
     "end_time": "2023-04-14T00:01:13.151568",
     "exception": false,
     "start_time": "2023-04-14T00:01:13.080960",
     "status": "completed"
    },
    "tags": []
   },
   "outputs": [
    {
     "data": {
      "text/plain": [
       "31924"
      ]
     },
     "execution_count": 9,
     "metadata": {},
     "output_type": "execute_result"
    }
   ],
   "source": [
    "def count_unique_words(series):\n",
    "    all_words = ' '.join(series.tolist())\n",
    "    unique_words = set(all_words.split())\n",
    "    return len(unique_words)\n",
    "\n",
    "word_count = count_unique_words(train_data['text'])\n",
    "word_count"
   ]
  },
  {
   "cell_type": "markdown",
   "id": "79eb635c",
   "metadata": {
    "papermill": {
     "duration": 0.025869,
     "end_time": "2023-04-14T00:01:13.204596",
     "exception": false,
     "start_time": "2023-04-14T00:01:13.178727",
     "status": "completed"
    },
    "tags": []
   },
   "source": [
    "### Class distribution"
   ]
  },
  {
   "cell_type": "markdown",
   "id": "1e084562",
   "metadata": {
    "papermill": {
     "duration": 0.024677,
     "end_time": "2023-04-14T00:01:13.256903",
     "exception": false,
     "start_time": "2023-04-14T00:01:13.232226",
     "status": "completed"
    },
    "tags": []
   },
   "source": [
    "The number of disaster tweets is significantly lower. When not addressed, this can have a negative impact on the model's results. The training data can be balanced by utilizing oversampling, undersampling, or a comibination of both."
   ]
  },
  {
   "cell_type": "code",
   "execution_count": 10,
   "id": "704503f5",
   "metadata": {
    "execution": {
     "iopub.execute_input": "2023-04-14T00:01:13.310224Z",
     "iopub.status.busy": "2023-04-14T00:01:13.308758Z",
     "iopub.status.idle": "2023-04-14T00:01:13.542177Z",
     "shell.execute_reply": "2023-04-14T00:01:13.540879Z"
    },
    "papermill": {
     "duration": 0.263635,
     "end_time": "2023-04-14T00:01:13.545489",
     "exception": false,
     "start_time": "2023-04-14T00:01:13.281854",
     "status": "completed"
    },
    "tags": []
   },
   "outputs": [
    {
     "data": {
      "text/plain": [
       "<AxesSubplot:>"
      ]
     },
     "execution_count": 10,
     "metadata": {},
     "output_type": "execute_result"
    },
    {
     "data": {
      "image/png": "[encoded data removed]",
      "text/plain": [
       "<Figure size 640x480 with 1 Axes>"
      ]
     },
     "metadata": {},
     "output_type": "display_data"
    }
   ],
   "source": [
    "# Class distribution\n",
    "class_counts = train_data['target'].value_counts()\n",
    "sns.barplot(x=class_counts.index, y=class_counts.values)"
   ]
  },
  {
   "cell_type": "markdown",
   "id": "b1024b27",
   "metadata": {
    "papermill": {
     "duration": 0.024426,
     "end_time": "2023-04-14T00:01:13.594350",
     "exception": false,
     "start_time": "2023-04-14T00:01:13.569924",
     "status": "completed"
    },
    "tags": []
   },
   "source": [
    "### Tweet Keyword"
   ]
  },
  {
   "cell_type": "markdown",
   "id": "ba170a97",
   "metadata": {
    "papermill": {
     "duration": 0.024401,
     "end_time": "2023-04-14T00:01:13.643918",
     "exception": false,
     "start_time": "2023-04-14T00:01:13.619517",
     "status": "completed"
    },
    "tags": []
   },
   "source": [
    "There is no meaningful difference in the percentage of tweets with no keyword for each class."
   ]
  },
  {
   "cell_type": "code",
   "execution_count": 11,
   "id": "3acac919",
   "metadata": {
    "execution": {
     "iopub.execute_input": "2023-04-14T00:01:13.697715Z",
     "iopub.status.busy": "2023-04-14T00:01:13.697251Z",
     "iopub.status.idle": "2023-04-14T00:01:13.938102Z",
     "shell.execute_reply": "2023-04-14T00:01:13.936821Z"
    },
    "papermill": {
     "duration": 0.272409,
     "end_time": "2023-04-14T00:01:13.941415",
     "exception": false,
     "start_time": "2023-04-14T00:01:13.669006",
     "status": "completed"
    },
    "tags": []
   },
   "outputs": [
    {
     "data": {
      "text/html": [
       "<div>\n",
       "<style scoped>\n",
       "    .dataframe tbody tr th:only-of-type {\n",
       "        vertical-align: middle;\n",
       "    }\n",
       "\n",
       "    .dataframe tbody tr th {\n",
       "        vertical-align: top;\n",
       "    }\n",
       "\n",
       "    .dataframe thead th {\n",
       "        text-align: right;\n",
       "    }\n",
       "</style>\n",
       "<table border=\"1\" class=\"dataframe\">\n",
       "  <thead>\n",
       "    <tr style=\"text-align: right;\">\n",
       "      <th></th>\n",
       "      <th>target</th>\n",
       "      <th>Null %</th>\n",
       "      <th>Non-null %</th>\n",
       "    </tr>\n",
       "  </thead>\n",
       "  <tbody>\n",
       "    <tr>\n",
       "      <th>0</th>\n",
       "      <td>0</td>\n",
       "      <td>0.437586</td>\n",
       "      <td>99.562414</td>\n",
       "    </tr>\n",
       "    <tr>\n",
       "      <th>1</th>\n",
       "      <td>1</td>\n",
       "      <td>1.284011</td>\n",
       "      <td>98.715989</td>\n",
       "    </tr>\n",
       "  </tbody>\n",
       "</table>\n",
       "</div>"
      ],
      "text/plain": [
       "   target    Null %  Non-null %\n",
       "0       0  0.437586   99.562414\n",
       "1       1  1.284011   98.715989"
      ]
     },
     "execution_count": 11,
     "metadata": {},
     "output_type": "execute_result"
    }
   ],
   "source": [
    "# Percentage of null and non-null keyword values per target.\n",
    "keyword_null = train_data.groupby('target').apply(lambda x: pd.Series({\n",
    "    'Null %': (x['keyword'].isnull().sum() / len(x['keyword'])) * 100,\n",
    "    'Non-null %': (x['keyword'].notnull().sum() / len(x['keyword'])) * 100\n",
    "})).reset_index() # reset_index? Necessary?\n",
    "keyword_null"
   ]
  },
  {
   "cell_type": "markdown",
   "id": "42eaa584",
   "metadata": {
    "papermill": {
     "duration": 0.024156,
     "end_time": "2023-04-14T00:01:13.991491",
     "exception": false,
     "start_time": "2023-04-14T00:01:13.967335",
     "status": "completed"
    },
    "tags": []
   },
   "source": [
    "### Tweet Location"
   ]
  },
  {
   "cell_type": "markdown",
   "id": "ec72f659",
   "metadata": {
    "papermill": {
     "duration": 0.024142,
     "end_time": "2023-04-14T00:01:14.040450",
     "exception": false,
     "start_time": "2023-04-14T00:01:14.016308",
     "status": "completed"
    },
    "tags": []
   },
   "source": [
    "There is no meaningful difference in the percenage of tweets with no location for each class."
   ]
  },
  {
   "cell_type": "code",
   "execution_count": 12,
   "id": "3c8a8716",
   "metadata": {
    "execution": {
     "iopub.execute_input": "2023-04-14T00:01:14.092995Z",
     "iopub.status.busy": "2023-04-14T00:01:14.092509Z",
     "iopub.status.idle": "2023-04-14T00:01:14.113245Z",
     "shell.execute_reply": "2023-04-14T00:01:14.111846Z"
    },
    "papermill": {
     "duration": 0.050733,
     "end_time": "2023-04-14T00:01:14.115888",
     "exception": false,
     "start_time": "2023-04-14T00:01:14.065155",
     "status": "completed"
    },
    "tags": []
   },
   "outputs": [
    {
     "data": {
      "text/html": [
       "<div>\n",
       "<style scoped>\n",
       "    .dataframe tbody tr th:only-of-type {\n",
       "        vertical-align: middle;\n",
       "    }\n",
       "\n",
       "    .dataframe tbody tr th {\n",
       "        vertical-align: top;\n",
       "    }\n",
       "\n",
       "    .dataframe thead th {\n",
       "        text-align: right;\n",
       "    }\n",
       "</style>\n",
       "<table border=\"1\" class=\"dataframe\">\n",
       "  <thead>\n",
       "    <tr style=\"text-align: right;\">\n",
       "      <th></th>\n",
       "      <th>target</th>\n",
       "      <th>Null %</th>\n",
       "      <th>Non-null %</th>\n",
       "    </tr>\n",
       "  </thead>\n",
       "  <tbody>\n",
       "    <tr>\n",
       "      <th>0</th>\n",
       "      <td>0</td>\n",
       "      <td>33.578996</td>\n",
       "      <td>66.421004</td>\n",
       "    </tr>\n",
       "    <tr>\n",
       "      <th>1</th>\n",
       "      <td>1</td>\n",
       "      <td>32.864567</td>\n",
       "      <td>67.135433</td>\n",
       "    </tr>\n",
       "  </tbody>\n",
       "</table>\n",
       "</div>"
      ],
      "text/plain": [
       "   target     Null %  Non-null %\n",
       "0       0  33.578996   66.421004\n",
       "1       1  32.864567   67.135433"
      ]
     },
     "execution_count": 12,
     "metadata": {},
     "output_type": "execute_result"
    }
   ],
   "source": [
    "# Percentage of null and non-null location values per target.\n",
    "location_null = train_data.groupby('target').apply(lambda df: pd.Series({\n",
    "    'Null %': (df['location'].isnull().sum() / len(df['location'])) * 100,\n",
    "    'Non-null %': (df['location'].notnull().sum() / len(df['location'])) * 100\n",
    "})).reset_index() # reset_index? Necessary?\n",
    "location_null"
   ]
  },
  {
   "cell_type": "markdown",
   "id": "6b95df3b",
   "metadata": {
    "papermill": {
     "duration": 0.024435,
     "end_time": "2023-04-14T00:01:14.165274",
     "exception": false,
     "start_time": "2023-04-14T00:01:14.140839",
     "status": "completed"
    },
    "tags": []
   },
   "source": [
    "### Tweet Length: Characters"
   ]
  },
  {
   "cell_type": "markdown",
   "id": "83b022e8",
   "metadata": {
    "papermill": {
     "duration": 0.025609,
     "end_time": "2023-04-14T00:01:14.215849",
     "exception": false,
     "start_time": "2023-04-14T00:01:14.190240",
     "status": "completed"
    },
    "tags": []
   },
   "source": [
    "Both the mean and the median of the character length of the disaster tweets are considerable higher that those of the non-disaster tweets, this can be used in the feature engineering step to contruct a new num_of_characters feature."
   ]
  },
  {
   "cell_type": "code",
   "execution_count": 13,
   "id": "3a711f7e",
   "metadata": {
    "execution": {
     "iopub.execute_input": "2023-04-14T00:01:14.269127Z",
     "iopub.status.busy": "2023-04-14T00:01:14.268272Z",
     "iopub.status.idle": "2023-04-14T00:01:14.296213Z",
     "shell.execute_reply": "2023-04-14T00:01:14.294805Z"
    },
    "papermill": {
     "duration": 0.057913,
     "end_time": "2023-04-14T00:01:14.299407",
     "exception": false,
     "start_time": "2023-04-14T00:01:14.241494",
     "status": "completed"
    },
    "tags": []
   },
   "outputs": [
    {
     "data": {
      "text/html": [
       "<div>\n",
       "<style scoped>\n",
       "    .dataframe tbody tr th:only-of-type {\n",
       "        vertical-align: middle;\n",
       "    }\n",
       "\n",
       "    .dataframe tbody tr th {\n",
       "        vertical-align: top;\n",
       "    }\n",
       "\n",
       "    .dataframe thead th {\n",
       "        text-align: right;\n",
       "    }\n",
       "</style>\n",
       "<table border=\"1\" class=\"dataframe\">\n",
       "  <thead>\n",
       "    <tr style=\"text-align: right;\">\n",
       "      <th></th>\n",
       "      <th>target</th>\n",
       "      <th>Mean</th>\n",
       "      <th>Median</th>\n",
       "    </tr>\n",
       "  </thead>\n",
       "  <tbody>\n",
       "    <tr>\n",
       "      <th>0</th>\n",
       "      <td>0</td>\n",
       "      <td>95.706817</td>\n",
       "      <td>101.0</td>\n",
       "    </tr>\n",
       "    <tr>\n",
       "      <th>1</th>\n",
       "      <td>1</td>\n",
       "      <td>108.113421</td>\n",
       "      <td>115.0</td>\n",
       "    </tr>\n",
       "  </tbody>\n",
       "</table>\n",
       "</div>"
      ],
      "text/plain": [
       "   target        Mean  Median\n",
       "0       0   95.706817   101.0\n",
       "1       1  108.113421   115.0"
      ]
     },
     "execution_count": 13,
     "metadata": {},
     "output_type": "execute_result"
    }
   ],
   "source": [
    "# Mean and median tweet character length per target.\n",
    "tweet_length = train_data.groupby('target').apply(lambda df: pd.Series({\n",
    "    'Mean': df['text'].str.len().mean(),\n",
    "    'Median': df['text'].str.len().median()})).reset_index() # reset_index?\n",
    "tweet_length"
   ]
  },
  {
   "cell_type": "code",
   "execution_count": 14,
   "id": "06b28a9e",
   "metadata": {
    "execution": {
     "iopub.execute_input": "2023-04-14T00:01:14.355358Z",
     "iopub.status.busy": "2023-04-14T00:01:14.354193Z",
     "iopub.status.idle": "2023-04-14T00:01:14.726782Z",
     "shell.execute_reply": "2023-04-14T00:01:14.725393Z"
    },
    "papermill": {
     "duration": 0.403459,
     "end_time": "2023-04-14T00:01:14.729809",
     "exception": false,
     "start_time": "2023-04-14T00:01:14.326350",
     "status": "completed"
    },
    "tags": []
   },
   "outputs": [
    {
     "data": {
      "image/png": "[encoded data removed]",
      "text/plain": [
       "<Figure size 1000x500 with 2 Axes>"
      ]
     },
     "metadata": {},
     "output_type": "display_data"
    }
   ],
   "source": [
    "# Tweet character length\n",
    "chars0 = train_data.loc[train_data['target']==0]['text'].str.len()\n",
    "chars1 = train_data.loc[train_data['target']==1]['text'].str.len()\n",
    "\n",
    "fig, (ax1, ax2) = plt.subplots(1, 2, figsize=(10, 5))\n",
    "fig.suptitle(\"Tweet length in characters\")\n",
    "\n",
    "ax1.hist(chars0, color='green')\n",
    "ax1.set_title(\"Not Disaster\")\n",
    "ax1.set_ylabel(\"Tweets\")\n",
    "ax1.set_xlabel(\"Length in chars\")\n",
    "\n",
    "ax2.hist(chars1, color='red')\n",
    "ax2.set_title(\"Disaster\")\n",
    "ax2.set_ylabel(\"Tweets\")\n",
    "ax2.set_xlabel(\"Length in chars\")\n",
    "\n",
    "plt.show()"
   ]
  },
  {
   "cell_type": "markdown",
   "id": "853696ad",
   "metadata": {
    "papermill": {
     "duration": 0.026906,
     "end_time": "2023-04-14T00:01:14.782707",
     "exception": false,
     "start_time": "2023-04-14T00:01:14.755801",
     "status": "completed"
    },
    "tags": []
   },
   "source": [
    "### Tweet Length: Words"
   ]
  },
  {
   "cell_type": "markdown",
   "id": "85d176b4",
   "metadata": {
    "papermill": {
     "duration": 0.025062,
     "end_time": "2023-04-14T00:01:14.834597",
     "exception": false,
     "start_time": "2023-04-14T00:01:14.809535",
     "status": "completed"
    },
    "tags": []
   },
   "source": [
    "There is no significant difference in the number of words per tweet."
   ]
  },
  {
   "cell_type": "code",
   "execution_count": 15,
   "id": "49baba7a",
   "metadata": {
    "execution": {
     "iopub.execute_input": "2023-04-14T00:01:14.888860Z",
     "iopub.status.busy": "2023-04-14T00:01:14.887868Z",
     "iopub.status.idle": "2023-04-14T00:01:15.294617Z",
     "shell.execute_reply": "2023-04-14T00:01:15.293304Z"
    },
    "papermill": {
     "duration": 0.438316,
     "end_time": "2023-04-14T00:01:15.298590",
     "exception": false,
     "start_time": "2023-04-14T00:01:14.860274",
     "status": "completed"
    },
    "tags": []
   },
   "outputs": [
    {
     "data": {
      "image/png": "[encoded data removed]",
      "text/plain": [
       "<Figure size 1000x500 with 2 Axes>"
      ]
     },
     "metadata": {},
     "output_type": "display_data"
    }
   ],
   "source": [
    "# Tweet word length\n",
    "words0 = train_data.loc[train_data['target']==0]['text'].str.split().map(len)\n",
    "words1 = train_data.loc[train_data['target']==1]['text'].str.split().map(len)\n",
    "\n",
    "fig, (ax1, ax2) = plt.subplots(1, 2, figsize=(10, 5))\n",
    "fig.suptitle(\"Tweet length in words\")\n",
    "\n",
    "ax1.hist(words0, color='green')\n",
    "ax1.set_title(\"Not Disaster\")\n",
    "ax1.set_ylabel(\"Tweets\")\n",
    "ax1.set_xlabel(\"Length in words\")\n",
    "\n",
    "ax2.hist(words1, color='red')\n",
    "ax2.set_title(\"Disaster\")\n",
    "ax2.set_ylabel(\"Tweets\")\n",
    "ax2.set_xlabel(\"Length in words\")\n",
    "\n",
    "plt.show()"
   ]
  },
  {
   "cell_type": "code",
   "execution_count": 16,
   "id": "d669b407",
   "metadata": {
    "execution": {
     "iopub.execute_input": "2023-04-14T00:01:15.355640Z",
     "iopub.status.busy": "2023-04-14T00:01:15.354282Z",
     "iopub.status.idle": "2023-04-14T00:01:15.370376Z",
     "shell.execute_reply": "2023-04-14T00:01:15.369112Z"
    },
    "papermill": {
     "duration": 0.047704,
     "end_time": "2023-04-14T00:01:15.373412",
     "exception": false,
     "start_time": "2023-04-14T00:01:15.325708",
     "status": "completed"
    },
    "tags": []
   },
   "outputs": [
    {
     "data": {
      "text/html": [
       "<div>\n",
       "<style scoped>\n",
       "    .dataframe tbody tr th:only-of-type {\n",
       "        vertical-align: middle;\n",
       "    }\n",
       "\n",
       "    .dataframe tbody tr th {\n",
       "        vertical-align: top;\n",
       "    }\n",
       "\n",
       "    .dataframe thead th {\n",
       "        text-align: right;\n",
       "    }\n",
       "</style>\n",
       "<table border=\"1\" class=\"dataframe\">\n",
       "  <thead>\n",
       "    <tr style=\"text-align: right;\">\n",
       "      <th></th>\n",
       "      <th>0</th>\n",
       "      <th>1</th>\n",
       "    </tr>\n",
       "  </thead>\n",
       "  <tbody>\n",
       "    <tr>\n",
       "      <th>mean</th>\n",
       "      <td>14.704744</td>\n",
       "      <td>15.167533</td>\n",
       "    </tr>\n",
       "    <tr>\n",
       "      <th>median</th>\n",
       "      <td>15.000000</td>\n",
       "      <td>15.000000</td>\n",
       "    </tr>\n",
       "  </tbody>\n",
       "</table>\n",
       "</div>"
      ],
      "text/plain": [
       "                0          1\n",
       "mean    14.704744  15.167533\n",
       "median  15.000000  15.000000"
      ]
     },
     "execution_count": 16,
     "metadata": {},
     "output_type": "execute_result"
    }
   ],
   "source": [
    "# Mean and Median\n",
    "words0_stats = words0.agg(func=[np.mean, np.median])\n",
    "words1_stats = words1.agg(func=[np.mean, np.median])\n",
    "words_stats = pd.DataFrame({'0': words0_stats, '1': words1_stats})\n",
    "words_stats"
   ]
  },
  {
   "cell_type": "markdown",
   "id": "3458f4d5",
   "metadata": {
    "papermill": {
     "duration": 0.025785,
     "end_time": "2023-04-14T00:01:15.425935",
     "exception": false,
     "start_time": "2023-04-14T00:01:15.400150",
     "status": "completed"
    },
    "tags": []
   },
   "source": [
    "### Average Word Length"
   ]
  },
  {
   "cell_type": "markdown",
   "id": "a2312502",
   "metadata": {
    "papermill": {
     "duration": 0.025606,
     "end_time": "2023-04-14T00:01:15.477787",
     "exception": false,
     "start_time": "2023-04-14T00:01:15.452181",
     "status": "completed"
    },
    "tags": []
   },
   "source": [
    "This is redundant as the character length gives us very similar information, but it confirms the results of the character length step of the analysisas because the mean and median of the number of words per tweet is almost the same."
   ]
  },
  {
   "cell_type": "code",
   "execution_count": 17,
   "id": "709f5728",
   "metadata": {
    "execution": {
     "iopub.execute_input": "2023-04-14T00:01:15.532972Z",
     "iopub.status.busy": "2023-04-14T00:01:15.532177Z",
     "iopub.status.idle": "2023-04-14T00:01:15.947638Z",
     "shell.execute_reply": "2023-04-14T00:01:15.946102Z"
    },
    "papermill": {
     "duration": 0.448146,
     "end_time": "2023-04-14T00:01:15.951958",
     "exception": false,
     "start_time": "2023-04-14T00:01:15.503812",
     "status": "completed"
    },
    "tags": []
   },
   "outputs": [
    {
     "data": {
      "image/png": "[encoded data removed]",
      "text/plain": [
       "<Figure size 1000x500 with 2 Axes>"
      ]
     },
     "metadata": {},
     "output_type": "display_data"
    }
   ],
   "source": [
    "# Word length distributions\n",
    "word_len0 = train_data.loc[train_data['target']==0]['text'].str.split().map(lambda list_: sum([len(word) for word in list_]))\n",
    "word_len1 = train_data.loc[train_data['target']==1]['text'].str.split().map(lambda list_: sum([len(word) for word in list_]))\n",
    "\n",
    "fig, (ax1, ax2) = plt.subplots(1, 2, figsize=(10, 5))\n",
    "fig.suptitle(\"Mean length of words per tweet\")\n",
    "\n",
    "ax1.hist(word_len0, color='green')\n",
    "ax1.set_title(\"Not Disaster\")\n",
    "ax1.set_ylabel(\"Tweets\")\n",
    "ax1.set_xlabel(\"Word Length\")\n",
    "\n",
    "ax2.hist(word_len1, color='red')\n",
    "ax2.set_title(\"Disaster\")\n",
    "ax2.set_ylabel(\"Tweets\")\n",
    "ax2.set_xlabel(\"Word Length\")\n",
    "\n",
    "plt.show()"
   ]
  },
  {
   "cell_type": "code",
   "execution_count": 18,
   "id": "170d0fe0",
   "metadata": {
    "execution": {
     "iopub.execute_input": "2023-04-14T00:01:16.009999Z",
     "iopub.status.busy": "2023-04-14T00:01:16.008925Z",
     "iopub.status.idle": "2023-04-14T00:01:16.024902Z",
     "shell.execute_reply": "2023-04-14T00:01:16.023368Z"
    },
    "papermill": {
     "duration": 0.047875,
     "end_time": "2023-04-14T00:01:16.027723",
     "exception": false,
     "start_time": "2023-04-14T00:01:15.979848",
     "status": "completed"
    },
    "tags": []
   },
   "outputs": [
    {
     "data": {
      "text/html": [
       "<div>\n",
       "<style scoped>\n",
       "    .dataframe tbody tr th:only-of-type {\n",
       "        vertical-align: middle;\n",
       "    }\n",
       "\n",
       "    .dataframe tbody tr th {\n",
       "        vertical-align: top;\n",
       "    }\n",
       "\n",
       "    .dataframe thead th {\n",
       "        text-align: right;\n",
       "    }\n",
       "</style>\n",
       "<table border=\"1\" class=\"dataframe\">\n",
       "  <thead>\n",
       "    <tr style=\"text-align: right;\">\n",
       "      <th></th>\n",
       "      <th>mean</th>\n",
       "      <th>median</th>\n",
       "    </tr>\n",
       "  </thead>\n",
       "  <tbody>\n",
       "    <tr>\n",
       "      <th>0</th>\n",
       "      <td>81.857669</td>\n",
       "      <td>87.0</td>\n",
       "    </tr>\n",
       "    <tr>\n",
       "      <th>1</th>\n",
       "      <td>93.789361</td>\n",
       "      <td>100.0</td>\n",
       "    </tr>\n",
       "  </tbody>\n",
       "</table>\n",
       "</div>"
      ],
      "text/plain": [
       "        mean  median\n",
       "0  81.857669    87.0\n",
       "1  93.789361   100.0"
      ]
     },
     "execution_count": 18,
     "metadata": {},
     "output_type": "execute_result"
    }
   ],
   "source": [
    "# Mean and Median\n",
    "word_len_stats0 = word_len0.agg(func=[np.mean, np.median])\n",
    "word_len_stats1 = word_len1.agg(func=[np.mean, np.median])\n",
    "word_len_stats = pd.DataFrame({'0': word_len_stats0, '1': word_len_stats1})\n",
    "word_len_stats.T"
   ]
  },
  {
   "cell_type": "markdown",
   "id": "3bf6e5e9",
   "metadata": {
    "papermill": {
     "duration": 0.027543,
     "end_time": "2023-04-14T00:01:16.082480",
     "exception": false,
     "start_time": "2023-04-14T00:01:16.054937",
     "status": "completed"
    },
    "tags": []
   },
   "source": [
    "### Vocabulary Size"
   ]
  },
  {
   "cell_type": "code",
   "execution_count": 19,
   "id": "120013d7",
   "metadata": {
    "execution": {
     "iopub.execute_input": "2023-04-14T00:01:16.141359Z",
     "iopub.status.busy": "2023-04-14T00:01:16.140568Z",
     "iopub.status.idle": "2023-04-14T00:01:16.567344Z",
     "shell.execute_reply": "2023-04-14T00:01:16.565640Z"
    },
    "papermill": {
     "duration": 0.460032,
     "end_time": "2023-04-14T00:01:16.570574",
     "exception": false,
     "start_time": "2023-04-14T00:01:16.110542",
     "status": "completed"
    },
    "tags": []
   },
   "outputs": [
    {
     "data": {
      "image/png": "[encoded data removed]",
      "text/plain": [
       "<Figure size 1000x500 with 2 Axes>"
      ]
     },
     "metadata": {},
     "output_type": "display_data"
    }
   ],
   "source": [
    "# Class vocabulary size\n",
    "vocab_size0 = train_data.loc[train_data['target']==0]['text'].apply(lambda x: len(set(x.split())))\n",
    "vocab_size1 = train_data.loc[train_data['target']==1]['text'].apply(lambda x: len(set(x.split())))\n",
    "\n",
    "fig, (ax1, ax2) = plt.subplots(1, 2, figsize=(10, 5))\n",
    "fig.suptitle(\"Histogram of Vocabulary Size for Each Category\")\n",
    "\n",
    "ax1.hist(vocab_size0, color='green')\n",
    "ax1.set_title(\"Not Disaster\")\n",
    "ax1.set_ylabel(\"Tweets\")\n",
    "ax1.set_xlabel(\"Vocabulary Size\")\n",
    "\n",
    "ax2.hist(vocab_size1, color='red')\n",
    "ax2.set_title(\"Disaster\")\n",
    "ax2.set_ylabel(\"Tweets\")\n",
    "ax2.set_xlabel(\"Vocabulary Size\")\n",
    "\n",
    "plt.show()"
   ]
  },
  {
   "cell_type": "code",
   "execution_count": 20,
   "id": "77253df9",
   "metadata": {
    "execution": {
     "iopub.execute_input": "2023-04-14T00:01:16.628913Z",
     "iopub.status.busy": "2023-04-14T00:01:16.628480Z",
     "iopub.status.idle": "2023-04-14T00:01:16.645040Z",
     "shell.execute_reply": "2023-04-14T00:01:16.643755Z"
    },
    "papermill": {
     "duration": 0.049167,
     "end_time": "2023-04-14T00:01:16.648050",
     "exception": false,
     "start_time": "2023-04-14T00:01:16.598883",
     "status": "completed"
    },
    "tags": []
   },
   "outputs": [
    {
     "data": {
      "text/html": [
       "<div>\n",
       "<style scoped>\n",
       "    .dataframe tbody tr th:only-of-type {\n",
       "        vertical-align: middle;\n",
       "    }\n",
       "\n",
       "    .dataframe tbody tr th {\n",
       "        vertical-align: top;\n",
       "    }\n",
       "\n",
       "    .dataframe thead th {\n",
       "        text-align: right;\n",
       "    }\n",
       "</style>\n",
       "<table border=\"1\" class=\"dataframe\">\n",
       "  <thead>\n",
       "    <tr style=\"text-align: right;\">\n",
       "      <th></th>\n",
       "      <th>0</th>\n",
       "      <th>1</th>\n",
       "    </tr>\n",
       "  </thead>\n",
       "  <tbody>\n",
       "    <tr>\n",
       "      <th>mean</th>\n",
       "      <td>14.096499</td>\n",
       "      <td>14.664934</td>\n",
       "    </tr>\n",
       "    <tr>\n",
       "      <th>median</th>\n",
       "      <td>14.000000</td>\n",
       "      <td>15.000000</td>\n",
       "    </tr>\n",
       "  </tbody>\n",
       "</table>\n",
       "</div>"
      ],
      "text/plain": [
       "                0          1\n",
       "mean    14.096499  14.664934\n",
       "median  14.000000  15.000000"
      ]
     },
     "execution_count": 20,
     "metadata": {},
     "output_type": "execute_result"
    }
   ],
   "source": [
    "# Mean and Median\n",
    "vocab_size0_stats = vocab_size0.agg(func=[np.mean, np.median])\n",
    "vocab_size1_stats = vocab_size1.agg(func=[np.mean, np.median])\n",
    "vocab_size_stats = pd.DataFrame({'0': vocab_size0_stats, '1': vocab_size1_stats})\n",
    "vocab_size_stats"
   ]
  },
  {
   "cell_type": "markdown",
   "id": "cd879729",
   "metadata": {
    "papermill": {
     "duration": 0.027732,
     "end_time": "2023-04-14T00:01:16.703807",
     "exception": false,
     "start_time": "2023-04-14T00:01:16.676075",
     "status": "completed"
    },
    "tags": []
   },
   "source": [
    "### Common/Frequent Words"
   ]
  },
  {
   "cell_type": "code",
   "execution_count": 21,
   "id": "761b8fb8",
   "metadata": {
    "execution": {
     "iopub.execute_input": "2023-04-14T00:01:16.762715Z",
     "iopub.status.busy": "2023-04-14T00:01:16.762257Z",
     "iopub.status.idle": "2023-04-14T00:01:17.702810Z",
     "shell.execute_reply": "2023-04-14T00:01:17.701268Z"
    },
    "papermill": {
     "duration": 0.974137,
     "end_time": "2023-04-14T00:01:17.706052",
     "exception": false,
     "start_time": "2023-04-14T00:01:16.731915",
     "status": "completed"
    },
    "tags": []
   },
   "outputs": [
    {
     "data": {
      "text/plain": [
       "'the'"
      ]
     },
     "execution_count": 21,
     "metadata": {},
     "output_type": "execute_result"
    }
   ],
   "source": [
    "# Most common/frequent words per class\n",
    "import nltk\n",
    "\n",
    "import pandas as pd\n",
    "from collections import Counter\n",
    "\n",
    "def compute_most_common_word(df, column):\n",
    "    # Concatenate all the text into a single string\n",
    "    text = ' '.join(df[column].tolist())\n",
    "\n",
    "    # Remove any punctuation marks and convert to lowercase\n",
    "    text = ''.join(c for c in text if c.isalnum() or c.isspace())\n",
    "    text = text.lower()\n",
    "\n",
    "    # Split the text into words and count their occurrences\n",
    "    words = text.split()\n",
    "    word_counts = Counter(words)\n",
    "\n",
    "    # Find the most common word\n",
    "    most_common_word = word_counts.most_common(1)[0][0]\n",
    "\n",
    "    return most_common_word\n",
    "\n",
    "compute_most_common_word(train_data, 'text')"
   ]
  },
  {
   "cell_type": "code",
   "execution_count": 22,
   "id": "e9913333",
   "metadata": {
    "execution": {
     "iopub.execute_input": "2023-04-14T00:01:17.765783Z",
     "iopub.status.busy": "2023-04-14T00:01:17.765348Z",
     "iopub.status.idle": "2023-04-14T00:01:17.772726Z",
     "shell.execute_reply": "2023-04-14T00:01:17.771332Z"
    },
    "papermill": {
     "duration": 0.041037,
     "end_time": "2023-04-14T00:01:17.776118",
     "exception": false,
     "start_time": "2023-04-14T00:01:17.735081",
     "status": "completed"
    },
    "tags": []
   },
   "outputs": [],
   "source": [
    "from collections import Counter\n",
    "\n",
    "def freq_words(df, column, target_column, target_value, top_words):\n",
    "    words = [word for list_ in df.loc[df[target_column]==target_value][column].str.split().tolist() for word in list_]\n",
    "    return pd.DataFrame(Counter(words).most_common(top_words), columns=[\"Word\", \"Count\"])"
   ]
  },
  {
   "cell_type": "code",
   "execution_count": 23,
   "id": "3ec116b6",
   "metadata": {
    "execution": {
     "iopub.execute_input": "2023-04-14T00:01:17.835395Z",
     "iopub.status.busy": "2023-04-14T00:01:17.834904Z",
     "iopub.status.idle": "2023-04-14T00:01:17.879486Z",
     "shell.execute_reply": "2023-04-14T00:01:17.878121Z"
    },
    "papermill": {
     "duration": 0.077818,
     "end_time": "2023-04-14T00:01:17.882314",
     "exception": false,
     "start_time": "2023-04-14T00:01:17.804496",
     "status": "completed"
    },
    "tags": []
   },
   "outputs": [
    {
     "data": {
      "text/html": [
       "<div>\n",
       "<style scoped>\n",
       "    .dataframe tbody tr th:only-of-type {\n",
       "        vertical-align: middle;\n",
       "    }\n",
       "\n",
       "    .dataframe tbody tr th {\n",
       "        vertical-align: top;\n",
       "    }\n",
       "\n",
       "    .dataframe thead th {\n",
       "        text-align: right;\n",
       "    }\n",
       "</style>\n",
       "<table border=\"1\" class=\"dataframe\">\n",
       "  <thead>\n",
       "    <tr style=\"text-align: right;\">\n",
       "      <th></th>\n",
       "      <th>Word</th>\n",
       "      <th>Count</th>\n",
       "    </tr>\n",
       "  </thead>\n",
       "  <tbody>\n",
       "    <tr>\n",
       "      <th>0</th>\n",
       "      <td>the</td>\n",
       "      <td>1524</td>\n",
       "    </tr>\n",
       "    <tr>\n",
       "      <th>1</th>\n",
       "      <td>a</td>\n",
       "      <td>1115</td>\n",
       "    </tr>\n",
       "    <tr>\n",
       "      <th>2</th>\n",
       "      <td>to</td>\n",
       "      <td>1099</td>\n",
       "    </tr>\n",
       "    <tr>\n",
       "      <th>3</th>\n",
       "      <td>I</td>\n",
       "      <td>938</td>\n",
       "    </tr>\n",
       "    <tr>\n",
       "      <th>4</th>\n",
       "      <td>and</td>\n",
       "      <td>840</td>\n",
       "    </tr>\n",
       "    <tr>\n",
       "      <th>5</th>\n",
       "      <td>of</td>\n",
       "      <td>834</td>\n",
       "    </tr>\n",
       "    <tr>\n",
       "      <th>6</th>\n",
       "      <td>in</td>\n",
       "      <td>720</td>\n",
       "    </tr>\n",
       "    <tr>\n",
       "      <th>7</th>\n",
       "      <td>you</td>\n",
       "      <td>529</td>\n",
       "    </tr>\n",
       "    <tr>\n",
       "      <th>8</th>\n",
       "      <td>is</td>\n",
       "      <td>512</td>\n",
       "    </tr>\n",
       "    <tr>\n",
       "      <th>9</th>\n",
       "      <td>for</td>\n",
       "      <td>452</td>\n",
       "    </tr>\n",
       "    <tr>\n",
       "      <th>10</th>\n",
       "      <td>my</td>\n",
       "      <td>442</td>\n",
       "    </tr>\n",
       "    <tr>\n",
       "      <th>11</th>\n",
       "      <td>on</td>\n",
       "      <td>387</td>\n",
       "    </tr>\n",
       "    <tr>\n",
       "      <th>12</th>\n",
       "      <td>-</td>\n",
       "      <td>374</td>\n",
       "    </tr>\n",
       "    <tr>\n",
       "      <th>13</th>\n",
       "      <td>with</td>\n",
       "      <td>349</td>\n",
       "    </tr>\n",
       "    <tr>\n",
       "      <th>14</th>\n",
       "      <td>that</td>\n",
       "      <td>326</td>\n",
       "    </tr>\n",
       "    <tr>\n",
       "      <th>15</th>\n",
       "      <td>The</td>\n",
       "      <td>295</td>\n",
       "    </tr>\n",
       "    <tr>\n",
       "      <th>16</th>\n",
       "      <td>it</td>\n",
       "      <td>290</td>\n",
       "    </tr>\n",
       "    <tr>\n",
       "      <th>17</th>\n",
       "      <td>be</td>\n",
       "      <td>268</td>\n",
       "    </tr>\n",
       "    <tr>\n",
       "      <th>18</th>\n",
       "      <td>like</td>\n",
       "      <td>233</td>\n",
       "    </tr>\n",
       "    <tr>\n",
       "      <th>19</th>\n",
       "      <td>this</td>\n",
       "      <td>225</td>\n",
       "    </tr>\n",
       "  </tbody>\n",
       "</table>\n",
       "</div>"
      ],
      "text/plain": [
       "    Word  Count\n",
       "0    the   1524\n",
       "1      a   1115\n",
       "2     to   1099\n",
       "3      I    938\n",
       "4    and    840\n",
       "5     of    834\n",
       "6     in    720\n",
       "7    you    529\n",
       "8     is    512\n",
       "9    for    452\n",
       "10    my    442\n",
       "11    on    387\n",
       "12     -    374\n",
       "13  with    349\n",
       "14  that    326\n",
       "15   The    295\n",
       "16    it    290\n",
       "17    be    268\n",
       "18  like    233\n",
       "19  this    225"
      ]
     },
     "execution_count": 23,
     "metadata": {},
     "output_type": "execute_result"
    }
   ],
   "source": [
    "freq_words(train_data, 'text', 'target', 0, 20)"
   ]
  },
  {
   "cell_type": "code",
   "execution_count": 24,
   "id": "0a1d527d",
   "metadata": {
    "execution": {
     "iopub.execute_input": "2023-04-14T00:01:17.943562Z",
     "iopub.status.busy": "2023-04-14T00:01:17.943068Z",
     "iopub.status.idle": "2023-04-14T00:01:17.976194Z",
     "shell.execute_reply": "2023-04-14T00:01:17.974808Z"
    },
    "papermill": {
     "duration": 0.067741,
     "end_time": "2023-04-14T00:01:17.979479",
     "exception": false,
     "start_time": "2023-04-14T00:01:17.911738",
     "status": "completed"
    },
    "tags": []
   },
   "outputs": [],
   "source": [
    "disaster = freq_words(train_data, 'text', 'target', 1, 20)"
   ]
  },
  {
   "cell_type": "markdown",
   "id": "657a9dfc",
   "metadata": {
    "papermill": {
     "duration": 0.028621,
     "end_time": "2023-04-14T00:01:18.036847",
     "exception": false,
     "start_time": "2023-04-14T00:01:18.008226",
     "status": "completed"
    },
    "tags": []
   },
   "source": [
    "# Data preprocessing\n",
    "Could add:\n",
    "* Stemming\n",
    "* Lemmatizing\n",
    "* Spelling Correction"
   ]
  },
  {
   "cell_type": "markdown",
   "id": "c6264ed9",
   "metadata": {
    "papermill": {
     "duration": 0.027857,
     "end_time": "2023-04-14T00:01:18.095366",
     "exception": false,
     "start_time": "2023-04-14T00:01:18.067509",
     "status": "completed"
    },
    "tags": []
   },
   "source": [
    "## Data cleaning"
   ]
  },
  {
   "cell_type": "markdown",
   "id": "cbd1783f",
   "metadata": {
    "papermill": {
     "duration": 0.027988,
     "end_time": "2023-04-14T00:01:18.152235",
     "exception": false,
     "start_time": "2023-04-14T00:01:18.124247",
     "status": "completed"
    },
    "tags": []
   },
   "source": [
    "### Remove Stopwords"
   ]
  },
  {
   "cell_type": "code",
   "execution_count": 25,
   "id": "d32c5ca9",
   "metadata": {
    "execution": {
     "iopub.execute_input": "2023-04-14T00:01:18.214329Z",
     "iopub.status.busy": "2023-04-14T00:01:18.213134Z",
     "iopub.status.idle": "2023-04-14T00:01:18.219671Z",
     "shell.execute_reply": "2023-04-14T00:01:18.218803Z"
    },
    "papermill": {
     "duration": 0.039619,
     "end_time": "2023-04-14T00:01:18.221821",
     "exception": false,
     "start_time": "2023-04-14T00:01:18.182202",
     "status": "completed"
    },
    "tags": []
   },
   "outputs": [],
   "source": [
    "from nltk.corpus import stopwords\n",
    "\n",
    "# Can alternatively use CountVectorizer's built-in remover.\n",
    "def remove_stopwords(text):\n",
    "    stop_words = stopwords.words('english')\n",
    "    tokens = text.split()\n",
    "    text = ' '.join([token for token in tokens if token.lower() not in stop_words])\n",
    "    return text"
   ]
  },
  {
   "cell_type": "markdown",
   "id": "b18499e5",
   "metadata": {
    "papermill": {
     "duration": 0.028063,
     "end_time": "2023-04-14T00:01:18.278722",
     "exception": false,
     "start_time": "2023-04-14T00:01:18.250659",
     "status": "completed"
    },
    "tags": []
   },
   "source": [
    "### Remove URLs"
   ]
  },
  {
   "cell_type": "code",
   "execution_count": 26,
   "id": "8172d449",
   "metadata": {
    "execution": {
     "iopub.execute_input": "2023-04-14T00:01:18.337864Z",
     "iopub.status.busy": "2023-04-14T00:01:18.337383Z",
     "iopub.status.idle": "2023-04-14T00:01:18.343896Z",
     "shell.execute_reply": "2023-04-14T00:01:18.342734Z"
    },
    "papermill": {
     "duration": 0.03892,
     "end_time": "2023-04-14T00:01:18.346453",
     "exception": false,
     "start_time": "2023-04-14T00:01:18.307533",
     "status": "completed"
    },
    "tags": []
   },
   "outputs": [],
   "source": [
    "# from bs4 import BeautifulSoup\n",
    "def remove_urls(text):\n",
    "#     text = BeautifulSoup(text, \"html.parser\").get_text()\n",
    "    url = re.compile(r\"https?://\\S+|www\\.\\S+\") # 'http\\S+'\n",
    "    return re.sub(url, '', text)"
   ]
  },
  {
   "cell_type": "markdown",
   "id": "5a25d447",
   "metadata": {
    "papermill": {
     "duration": 0.028867,
     "end_time": "2023-04-14T00:01:18.403928",
     "exception": false,
     "start_time": "2023-04-14T00:01:18.375061",
     "status": "completed"
    },
    "tags": []
   },
   "source": [
    "### Remove html tags"
   ]
  },
  {
   "cell_type": "code",
   "execution_count": 27,
   "id": "914112e0",
   "metadata": {
    "execution": {
     "iopub.execute_input": "2023-04-14T00:01:18.464542Z",
     "iopub.status.busy": "2023-04-14T00:01:18.463607Z",
     "iopub.status.idle": "2023-04-14T00:01:18.468992Z",
     "shell.execute_reply": "2023-04-14T00:01:18.468078Z"
    },
    "papermill": {
     "duration": 0.038016,
     "end_time": "2023-04-14T00:01:18.471490",
     "exception": false,
     "start_time": "2023-04-14T00:01:18.433474",
     "status": "completed"
    },
    "tags": []
   },
   "outputs": [],
   "source": [
    "import re\n",
    "def remove_html_tags(text):\n",
    "    tags = re.compile(r'<.*?>')\n",
    "    return re.sub(tags, '', text)"
   ]
  },
  {
   "cell_type": "markdown",
   "id": "7d29bf63",
   "metadata": {
    "papermill": {
     "duration": 0.02836,
     "end_time": "2023-04-14T00:01:18.528816",
     "exception": false,
     "start_time": "2023-04-14T00:01:18.500456",
     "status": "completed"
    },
    "tags": []
   },
   "source": [
    "### Remove emojis"
   ]
  },
  {
   "cell_type": "code",
   "execution_count": 28,
   "id": "dd8f0d2a",
   "metadata": {
    "execution": {
     "iopub.execute_input": "2023-04-14T00:01:18.590476Z",
     "iopub.status.busy": "2023-04-14T00:01:18.589590Z",
     "iopub.status.idle": "2023-04-14T00:01:18.619050Z",
     "shell.execute_reply": "2023-04-14T00:01:18.617560Z"
    },
    "papermill": {
     "duration": 0.064101,
     "end_time": "2023-04-14T00:01:18.622352",
     "exception": false,
     "start_time": "2023-04-14T00:01:18.558251",
     "status": "completed"
    },
    "tags": []
   },
   "outputs": [],
   "source": [
    "import emoji\n",
    "def remove_emojis(text):\n",
    "    return emoji.replace_emoji(text, replace=' ')"
   ]
  },
  {
   "cell_type": "markdown",
   "id": "3d068871",
   "metadata": {
    "papermill": {
     "duration": 0.028628,
     "end_time": "2023-04-14T00:01:18.680863",
     "exception": false,
     "start_time": "2023-04-14T00:01:18.652235",
     "status": "completed"
    },
    "tags": []
   },
   "source": [
    "### Remove punctuation"
   ]
  },
  {
   "cell_type": "code",
   "execution_count": 29,
   "id": "1a63dca2",
   "metadata": {
    "execution": {
     "iopub.execute_input": "2023-04-14T00:01:18.740906Z",
     "iopub.status.busy": "2023-04-14T00:01:18.740457Z",
     "iopub.status.idle": "2023-04-14T00:01:18.746769Z",
     "shell.execute_reply": "2023-04-14T00:01:18.745502Z"
    },
    "papermill": {
     "duration": 0.039687,
     "end_time": "2023-04-14T00:01:18.749525",
     "exception": false,
     "start_time": "2023-04-14T00:01:18.709838",
     "status": "completed"
    },
    "tags": []
   },
   "outputs": [],
   "source": [
    "import string\n",
    "def remove_punctuation(text):\n",
    "#     text = re.sub(r'[^\\w\\s]', '', text)\n",
    "    table = str.maketrans('', '', string.punctuation)\n",
    "    return text.translate(table)"
   ]
  },
  {
   "cell_type": "markdown",
   "id": "5dee73ac",
   "metadata": {
    "papermill": {
     "duration": 0.028584,
     "end_time": "2023-04-14T00:01:18.807459",
     "exception": false,
     "start_time": "2023-04-14T00:01:18.778875",
     "status": "completed"
    },
    "tags": []
   },
   "source": [
    "## Feature Engineering Ideas\n",
    "\n",
    "* N-grams\n",
    "* keyword based\n",
    "* location based\n",
    "* imputed, True or False\n",
    "* Exclamation marks"
   ]
  },
  {
   "cell_type": "markdown",
   "id": "cfb5646b",
   "metadata": {
    "papermill": {
     "duration": 0.028455,
     "end_time": "2023-04-14T00:01:18.864466",
     "exception": false,
     "start_time": "2023-04-14T00:01:18.836011",
     "status": "completed"
    },
    "tags": []
   },
   "source": [
    "## Pipeline"
   ]
  },
  {
   "cell_type": "code",
   "execution_count": 30,
   "id": "23f60788",
   "metadata": {
    "execution": {
     "iopub.execute_input": "2023-04-14T00:01:18.924530Z",
     "iopub.status.busy": "2023-04-14T00:01:18.923760Z",
     "iopub.status.idle": "2023-04-14T00:01:18.955636Z",
     "shell.execute_reply": "2023-04-14T00:01:18.954238Z"
    },
    "papermill": {
     "duration": 0.065283,
     "end_time": "2023-04-14T00:01:18.958932",
     "exception": false,
     "start_time": "2023-04-14T00:01:18.893649",
     "status": "completed"
    },
    "tags": []
   },
   "outputs": [],
   "source": [
    "from sklearn.pipeline import Pipeline, make_pipeline\n",
    "from sklearn.preprocessing import FunctionTransformer\n",
    "from sklearn.compose import ColumnTransformer, make_column_transformer\n",
    "from sklearn.feature_extraction.text import CountVectorizer#, TfidfVectorizer\n",
    "\n",
    "def clean_text(text):\n",
    "    text = remove_emojis(text)\n",
    "    text = remove_urls(text)\n",
    "    text = remove_html_tags(text)\n",
    "    text = remove_punctuation(text)\n",
    "    text = remove_stopwords(text)\n",
    "    return text\n",
    "\n",
    "text_transformer = make_pipeline(FunctionTransformer(lambda x: x.apply(clean_text), validate=False), \n",
    "                                 CountVectorizer(lowercase=True))#, TfidfVectorizer(binary=True))\n",
    "\n",
    "# If the column is enclosed in brackets e.g. ['text'], text_transformer input is a Dataframe.\n",
    "# If the column is not enclosed in brackets e.g. 'text', text_transformer input is a Series.\n",
    "# Preprocessor/Column Transformer input must be a dataframe.\n",
    "preprocessor = make_column_transformer((text_transformer, 'text'))\n",
    "\n",
    "# Input can be a series\n",
    "# preprocessor = text_transformer"
   ]
  },
  {
   "cell_type": "code",
   "execution_count": 31,
   "id": "d56e2bcd",
   "metadata": {
    "execution": {
     "iopub.execute_input": "2023-04-14T00:01:19.018488Z",
     "iopub.status.busy": "2023-04-14T00:01:19.017754Z",
     "iopub.status.idle": "2023-04-14T00:01:19.023740Z",
     "shell.execute_reply": "2023-04-14T00:01:19.022466Z"
    },
    "papermill": {
     "duration": 0.038727,
     "end_time": "2023-04-14T00:01:19.026341",
     "exception": false,
     "start_time": "2023-04-14T00:01:18.987614",
     "status": "completed"
    },
    "tags": []
   },
   "outputs": [],
   "source": [
    "# Build a pipeline with the model\n",
    "def model_pipeline(model, preprocessor=preprocessor):\n",
    "    pipeline = make_pipeline(preprocessor, model) \n",
    "    return pipeline"
   ]
  },
  {
   "cell_type": "markdown",
   "id": "4a1cb3cc",
   "metadata": {
    "papermill": {
     "duration": 0.027847,
     "end_time": "2023-04-14T00:01:19.082527",
     "exception": false,
     "start_time": "2023-04-14T00:01:19.054680",
     "status": "completed"
    },
    "tags": []
   },
   "source": [
    "# Train, Test Sets"
   ]
  },
  {
   "cell_type": "code",
   "execution_count": 32,
   "id": "f570fb23",
   "metadata": {
    "execution": {
     "iopub.execute_input": "2023-04-14T00:01:19.141154Z",
     "iopub.status.busy": "2023-04-14T00:01:19.140658Z",
     "iopub.status.idle": "2023-04-14T00:01:19.152294Z",
     "shell.execute_reply": "2023-04-14T00:01:19.151126Z"
    },
    "papermill": {
     "duration": 0.044884,
     "end_time": "2023-04-14T00:01:19.155545",
     "exception": false,
     "start_time": "2023-04-14T00:01:19.110661",
     "status": "completed"
    },
    "tags": []
   },
   "outputs": [],
   "source": [
    "# from sklearn.model_selection import ShuffleSplit, StratifiedShuffleSplit\n",
    "from sklearn.model_selection import train_test_split\n",
    "\n",
    "X_train, X_test, y_train, y_test = train_test_split(train_data['text'], train_data['target'], test_size=0.2, random_state=42)\n",
    "\n",
    "# If using a single column with a column transformer\n",
    "X_train = X_train.to_frame()\n",
    "X_test = X_test.to_frame()"
   ]
  },
  {
   "cell_type": "markdown",
   "id": "3948ae63",
   "metadata": {
    "papermill": {
     "duration": 0.029979,
     "end_time": "2023-04-14T00:01:19.221114",
     "exception": false,
     "start_time": "2023-04-14T00:01:19.191135",
     "status": "completed"
    },
    "tags": []
   },
   "source": [
    "# Scoring"
   ]
  },
  {
   "cell_type": "markdown",
   "id": "bc28ddb5",
   "metadata": {
    "papermill": {
     "duration": 0.028142,
     "end_time": "2023-04-14T00:01:19.277869",
     "exception": false,
     "start_time": "2023-04-14T00:01:19.249727",
     "status": "completed"
    },
    "tags": []
   },
   "source": [
    "## Cross-Validation Score"
   ]
  },
  {
   "cell_type": "code",
   "execution_count": 33,
   "id": "ac699c31",
   "metadata": {
    "execution": {
     "iopub.execute_input": "2023-04-14T00:01:19.336854Z",
     "iopub.status.busy": "2023-04-14T00:01:19.336427Z",
     "iopub.status.idle": "2023-04-14T00:01:19.343525Z",
     "shell.execute_reply": "2023-04-14T00:01:19.342161Z"
    },
    "papermill": {
     "duration": 0.04002,
     "end_time": "2023-04-14T00:01:19.346347",
     "exception": false,
     "start_time": "2023-04-14T00:01:19.306327",
     "status": "completed"
    },
    "tags": []
   },
   "outputs": [],
   "source": [
    "from sklearn.model_selection import cross_val_score\n",
    "\n",
    "def cv_score(pipeline, X=X_train, y=y_train, cv=5, scoring=['f1', 'roc_auc', 'balanced_accuracy',  'accuracy'][0]):\n",
    "    scores = 1 * cross_val_score(pipeline, X, y, cv=cv, scoring=scoring)\n",
    "    return scores.mean()"
   ]
  },
  {
   "cell_type": "markdown",
   "id": "0b0a4249",
   "metadata": {
    "papermill": {
     "duration": 0.028233,
     "end_time": "2023-04-14T00:01:19.402941",
     "exception": false,
     "start_time": "2023-04-14T00:01:19.374708",
     "status": "completed"
    },
    "tags": []
   },
   "source": [
    "## Test Set Evaluation Score"
   ]
  },
  {
   "cell_type": "code",
   "execution_count": 34,
   "id": "ae23a9b9",
   "metadata": {
    "execution": {
     "iopub.execute_input": "2023-04-14T00:01:19.462694Z",
     "iopub.status.busy": "2023-04-14T00:01:19.462262Z",
     "iopub.status.idle": "2023-04-14T00:01:19.470419Z",
     "shell.execute_reply": "2023-04-14T00:01:19.469179Z"
    },
    "papermill": {
     "duration": 0.040789,
     "end_time": "2023-04-14T00:01:19.473003",
     "exception": false,
     "start_time": "2023-04-14T00:01:19.432214",
     "status": "completed"
    },
    "tags": []
   },
   "outputs": [],
   "source": [
    "from sklearn.metrics import f1_score, roc_auc_score, balanced_accuracy_score\n",
    "\n",
    "def evaluate(model, metric='accuracy', X=X_test, y=y_test):\n",
    "    if metric == 'f1':\n",
    "        return f1_score(y, model.predict(X))\n",
    "    elif metric == 'roc_auc':\n",
    "        y_pred_proba = model.predict_proba(X_test)[:, 1]\n",
    "        return roc_auc_score(y_test, y_pred_proba)\n",
    "    elif metric =='accuracy':\n",
    "        return model.score(X, y)\n",
    "    elif metric == 'balanced_accuracy':\n",
    "        return balanced_accuracy_score(y, model.predict(X))"
   ]
  },
  {
   "cell_type": "markdown",
   "id": "ce3d8e36",
   "metadata": {
    "papermill": {
     "duration": 0.028545,
     "end_time": "2023-04-14T00:01:19.530375",
     "exception": false,
     "start_time": "2023-04-14T00:01:19.501830",
     "status": "completed"
    },
    "tags": []
   },
   "source": [
    "# Hyperparameter Tuning: Grid Search"
   ]
  },
  {
   "cell_type": "code",
   "execution_count": 35,
   "id": "e4151162",
   "metadata": {
    "execution": {
     "iopub.execute_input": "2023-04-14T00:01:19.589753Z",
     "iopub.status.busy": "2023-04-14T00:01:19.589329Z",
     "iopub.status.idle": "2023-04-14T00:01:19.596683Z",
     "shell.execute_reply": "2023-04-14T00:01:19.595502Z"
    },
    "papermill": {
     "duration": 0.039873,
     "end_time": "2023-04-14T00:01:19.599104",
     "exception": false,
     "start_time": "2023-04-14T00:01:19.559231",
     "status": "completed"
    },
    "tags": []
   },
   "outputs": [],
   "source": [
    "from sklearn.model_selection import GridSearchCV#, HalvingGridSearchCV, HalvingRandomSearchCV\n",
    "\n",
    "# When using GridSearchCV with Pipelines, use model_name__parameter_name\n",
    "\n",
    "# Add the model name to the parameters\n",
    "def grid_pipe_params(params, model_name):\n",
    "    return {model_name + '__' + key: value for key, value in params.items()}\n",
    "\n",
    "# Remove model_name__ from keys\n",
    "def remove_model_name(params):\n",
    "    return {key.split('__')[1]: value for key, value in params.items()}"
   ]
  },
  {
   "cell_type": "code",
   "execution_count": 36,
   "id": "17faaf3b",
   "metadata": {
    "execution": {
     "iopub.execute_input": "2023-04-14T00:01:19.659808Z",
     "iopub.status.busy": "2023-04-14T00:01:19.658493Z",
     "iopub.status.idle": "2023-04-14T00:01:19.665753Z",
     "shell.execute_reply": "2023-04-14T00:01:19.664373Z"
    },
    "papermill": {
     "duration": 0.040205,
     "end_time": "2023-04-14T00:01:19.668685",
     "exception": false,
     "start_time": "2023-04-14T00:01:19.628480",
     "status": "completed"
    },
    "tags": []
   },
   "outputs": [],
   "source": [
    "# Find the optimum model hyperparameters\n",
    "def grid_search(model, params, X, y):\n",
    "    search = GridSearchCV(\n",
    "        model, \n",
    "        params, \n",
    "        cv=5, \n",
    "        scoring= ['f1', 'roc_auc', 'balanced_accuracy',  'accuracy'][-1],\n",
    "        n_jobs=-1).fit(X, y)\n",
    "    return search"
   ]
  },
  {
   "cell_type": "code",
   "execution_count": 37,
   "id": "63478975",
   "metadata": {
    "execution": {
     "iopub.execute_input": "2023-04-14T00:01:19.728943Z",
     "iopub.status.busy": "2023-04-14T00:01:19.728469Z",
     "iopub.status.idle": "2023-04-14T00:01:19.735846Z",
     "shell.execute_reply": "2023-04-14T00:01:19.734277Z"
    },
    "papermill": {
     "duration": 0.041098,
     "end_time": "2023-04-14T00:01:19.738757",
     "exception": false,
     "start_time": "2023-04-14T00:01:19.697659",
     "status": "completed"
    },
    "tags": []
   },
   "outputs": [],
   "source": [
    "# Combine the grid search related functions defined above\n",
    "def grid_search_hyperparameters(params, model, X, y, model_name=False):\n",
    "    model_name = model_name if model_name else model.steps[-1][0]\n",
    "    params = grid_pipe_params(params, model_name)\n",
    "    search = grid_search(model, params, X, y)\n",
    "    return search"
   ]
  },
  {
   "cell_type": "code",
   "execution_count": 38,
   "id": "6096303c",
   "metadata": {
    "execution": {
     "iopub.execute_input": "2023-04-14T00:01:19.799321Z",
     "iopub.status.busy": "2023-04-14T00:01:19.798846Z",
     "iopub.status.idle": "2023-04-14T00:01:19.805077Z",
     "shell.execute_reply": "2023-04-14T00:01:19.803754Z"
    },
    "papermill": {
     "duration": 0.040769,
     "end_time": "2023-04-14T00:01:19.808061",
     "exception": false,
     "start_time": "2023-04-14T00:01:19.767292",
     "status": "completed"
    },
    "tags": []
   },
   "outputs": [],
   "source": [
    "def results(best_model) :\n",
    "    hp = remove_model_name(best_model.best_params_)\n",
    "    cross_val = best_model.best_score_\n",
    "    print(f'Best params:{hp}')\n",
    "    print(f'Best cross-val score: {cross_val}')\n",
    "    return hp, cross_val"
   ]
  },
  {
   "cell_type": "markdown",
   "id": "4e463d55",
   "metadata": {
    "papermill": {
     "duration": 0.028254,
     "end_time": "2023-04-14T00:01:19.866374",
     "exception": false,
     "start_time": "2023-04-14T00:01:19.838120",
     "status": "completed"
    },
    "tags": []
   },
   "source": [
    "# Models"
   ]
  },
  {
   "cell_type": "markdown",
   "id": "da3c5a11",
   "metadata": {
    "papermill": {
     "duration": 0.028156,
     "end_time": "2023-04-14T00:01:19.923866",
     "exception": false,
     "start_time": "2023-04-14T00:01:19.895710",
     "status": "completed"
    },
    "tags": []
   },
   "source": [
    "## Ridge Classifier"
   ]
  },
  {
   "cell_type": "code",
   "execution_count": 39,
   "id": "936efa21",
   "metadata": {
    "execution": {
     "iopub.execute_input": "2023-04-14T00:01:19.985047Z",
     "iopub.status.busy": "2023-04-14T00:01:19.984034Z",
     "iopub.status.idle": "2023-04-14T00:01:28.629288Z",
     "shell.execute_reply": "2023-04-14T00:01:28.628088Z"
    },
    "papermill": {
     "duration": 8.679054,
     "end_time": "2023-04-14T00:01:28.632119",
     "exception": false,
     "start_time": "2023-04-14T00:01:19.953065",
     "status": "completed"
    },
    "tags": []
   },
   "outputs": [
    {
     "data": {
      "text/plain": [
       "0.71371490338228"
      ]
     },
     "execution_count": 39,
     "metadata": {},
     "output_type": "execute_result"
    }
   ],
   "source": [
    "from sklearn.linear_model import RidgeClassifier\n",
    "ridge = RidgeClassifier()\n",
    "ridge = model_pipeline(ridge)\n",
    "ridge_cv = cv_score(ridge)\n",
    "ridge_cv"
   ]
  },
  {
   "cell_type": "code",
   "execution_count": 40,
   "id": "0e989ddf",
   "metadata": {
    "execution": {
     "iopub.execute_input": "2023-04-14T00:01:28.692824Z",
     "iopub.status.busy": "2023-04-14T00:01:28.692416Z",
     "iopub.status.idle": "2023-04-14T00:01:30.805879Z",
     "shell.execute_reply": "2023-04-14T00:01:30.804751Z"
    },
    "papermill": {
     "duration": 2.147856,
     "end_time": "2023-04-14T00:01:30.808745",
     "exception": false,
     "start_time": "2023-04-14T00:01:28.660889",
     "status": "completed"
    },
    "tags": []
   },
   "outputs": [
    {
     "data": {
      "text/plain": [
       "0.7721602101116218"
      ]
     },
     "execution_count": 40,
     "metadata": {},
     "output_type": "execute_result"
    }
   ],
   "source": [
    "ridge.fit(X_train, y_train)\n",
    "ridge_score = evaluate(ridge)\n",
    "ridge_score"
   ]
  },
  {
   "cell_type": "markdown",
   "id": "af0ad76a",
   "metadata": {
    "papermill": {
     "duration": 0.028479,
     "end_time": "2023-04-14T00:01:30.866541",
     "exception": false,
     "start_time": "2023-04-14T00:01:30.838062",
     "status": "completed"
    },
    "tags": []
   },
   "source": [
    "## Naive Bayes"
   ]
  },
  {
   "cell_type": "code",
   "execution_count": 41,
   "id": "d47c505b",
   "metadata": {
    "execution": {
     "iopub.execute_input": "2023-04-14T00:01:30.928918Z",
     "iopub.status.busy": "2023-04-14T00:01:30.927596Z",
     "iopub.status.idle": "2023-04-14T00:01:38.776191Z",
     "shell.execute_reply": "2023-04-14T00:01:38.774976Z"
    },
    "papermill": {
     "duration": 7.883404,
     "end_time": "2023-04-14T00:01:38.778961",
     "exception": false,
     "start_time": "2023-04-14T00:01:30.895557",
     "status": "completed"
    },
    "tags": []
   },
   "outputs": [
    {
     "data": {
      "text/plain": [
       "0.7506883377077378"
      ]
     },
     "execution_count": 41,
     "metadata": {},
     "output_type": "execute_result"
    }
   ],
   "source": [
    "from sklearn.naive_bayes import MultinomialNB\n",
    "mnb = MultinomialNB()\n",
    "mnb = model_pipeline(mnb)\n",
    "mnb_cv = cv_score(mnb)\n",
    "mnb_cv"
   ]
  },
  {
   "cell_type": "code",
   "execution_count": 42,
   "id": "07e4bbc4",
   "metadata": {
    "execution": {
     "iopub.execute_input": "2023-04-14T00:01:38.839640Z",
     "iopub.status.busy": "2023-04-14T00:01:38.838502Z",
     "iopub.status.idle": "2023-04-14T00:01:40.860249Z",
     "shell.execute_reply": "2023-04-14T00:01:40.858883Z"
    },
    "papermill": {
     "duration": 2.054943,
     "end_time": "2023-04-14T00:01:40.863285",
     "exception": false,
     "start_time": "2023-04-14T00:01:38.808342",
     "status": "completed"
    },
    "tags": []
   },
   "outputs": [
    {
     "data": {
      "text/plain": [
       "0.7905449770190414"
      ]
     },
     "execution_count": 42,
     "metadata": {},
     "output_type": "execute_result"
    }
   ],
   "source": [
    "mnb.fit(X_train, y_train)\n",
    "mnb_score = evaluate(mnb)\n",
    "mnb_score"
   ]
  },
  {
   "cell_type": "code",
   "execution_count": 43,
   "id": "337fcf24",
   "metadata": {
    "execution": {
     "iopub.execute_input": "2023-04-14T00:01:40.924329Z",
     "iopub.status.busy": "2023-04-14T00:01:40.922911Z",
     "iopub.status.idle": "2023-04-14T00:01:48.873589Z",
     "shell.execute_reply": "2023-04-14T00:01:48.872290Z"
    },
    "papermill": {
     "duration": 7.983576,
     "end_time": "2023-04-14T00:01:48.876295",
     "exception": false,
     "start_time": "2023-04-14T00:01:40.892719",
     "status": "completed"
    },
    "tags": []
   },
   "outputs": [
    {
     "data": {
      "text/plain": [
       "0.723353061363151"
      ]
     },
     "execution_count": 43,
     "metadata": {},
     "output_type": "execute_result"
    }
   ],
   "source": [
    "from sklearn.naive_bayes import BernoulliNB\n",
    "bnb = BernoulliNB()\n",
    "bnb = model_pipeline(bnb)\n",
    "bnb_cv = cv_score(bnb)\n",
    "bnb_cv"
   ]
  },
  {
   "cell_type": "code",
   "execution_count": 44,
   "id": "7a828ca3",
   "metadata": {
    "execution": {
     "iopub.execute_input": "2023-04-14T00:01:48.936910Z",
     "iopub.status.busy": "2023-04-14T00:01:48.936227Z",
     "iopub.status.idle": "2023-04-14T00:01:50.888403Z",
     "shell.execute_reply": "2023-04-14T00:01:50.887077Z"
    },
    "papermill": {
     "duration": 1.985849,
     "end_time": "2023-04-14T00:01:50.891529",
     "exception": false,
     "start_time": "2023-04-14T00:01:48.905680",
     "status": "completed"
    },
    "tags": []
   },
   "outputs": [
    {
     "data": {
      "text/plain": [
       "0.8003939592908733"
      ]
     },
     "execution_count": 44,
     "metadata": {},
     "output_type": "execute_result"
    }
   ],
   "source": [
    "bnb.fit(X_train, y_train)\n",
    "bnb_score = evaluate(bnb)\n",
    "bnb_score"
   ]
  },
  {
   "cell_type": "markdown",
   "id": "7ba1b7a4",
   "metadata": {
    "execution": {
     "iopub.execute_input": "2023-03-28T21:45:44.192848Z",
     "iopub.status.busy": "2023-03-28T21:45:44.192246Z",
     "iopub.status.idle": "2023-03-28T21:45:44.223113Z",
     "shell.execute_reply": "2023-03-28T21:45:44.221516Z",
     "shell.execute_reply.started": "2023-03-28T21:45:44.192737Z"
    },
    "papermill": {
     "duration": 0.029333,
     "end_time": "2023-04-14T00:01:50.949888",
     "exception": false,
     "start_time": "2023-04-14T00:01:50.920555",
     "status": "completed"
    },
    "tags": []
   },
   "source": [
    "## Logistic Regression"
   ]
  },
  {
   "cell_type": "code",
   "execution_count": 45,
   "id": "e9d1bed6",
   "metadata": {
    "execution": {
     "iopub.execute_input": "2023-04-14T00:01:51.011064Z",
     "iopub.status.busy": "2023-04-14T00:01:51.010625Z",
     "iopub.status.idle": "2023-04-14T00:02:00.602411Z",
     "shell.execute_reply": "2023-04-14T00:02:00.601140Z"
    },
    "papermill": {
     "duration": 9.62611,
     "end_time": "2023-04-14T00:02:00.605354",
     "exception": false,
     "start_time": "2023-04-14T00:01:50.979244",
     "status": "completed"
    },
    "tags": []
   },
   "outputs": [
    {
     "data": {
      "text/plain": [
       "0.7393968864228899"
      ]
     },
     "execution_count": 45,
     "metadata": {},
     "output_type": "execute_result"
    }
   ],
   "source": [
    "from sklearn.linear_model import LogisticRegression\n",
    "lr = LogisticRegression(random_state=42)\n",
    "lr = model_pipeline(lr)\n",
    "lr_cv = cv_score(lr)\n",
    "lr_cv"
   ]
  },
  {
   "cell_type": "code",
   "execution_count": 46,
   "id": "41f40377",
   "metadata": {
    "execution": {
     "iopub.execute_input": "2023-04-14T00:02:00.668642Z",
     "iopub.status.busy": "2023-04-14T00:02:00.667534Z",
     "iopub.status.idle": "2023-04-14T00:02:03.316494Z",
     "shell.execute_reply": "2023-04-14T00:02:03.315180Z"
    },
    "papermill": {
     "duration": 2.683705,
     "end_time": "2023-04-14T00:02:03.319397",
     "exception": false,
     "start_time": "2023-04-14T00:02:00.635692",
     "status": "completed"
    },
    "tags": []
   },
   "outputs": [
    {
     "data": {
      "text/plain": [
       "0.799080761654629"
      ]
     },
     "execution_count": 46,
     "metadata": {},
     "output_type": "execute_result"
    }
   ],
   "source": [
    "lr.fit(X_train, y_train)\n",
    "lr_score = evaluate(lr)\n",
    "lr_score"
   ]
  },
  {
   "cell_type": "markdown",
   "id": "718a61de",
   "metadata": {
    "papermill": {
     "duration": 0.029839,
     "end_time": "2023-04-14T00:02:03.379353",
     "exception": false,
     "start_time": "2023-04-14T00:02:03.349514",
     "status": "completed"
    },
    "tags": []
   },
   "source": [
    "## SVC"
   ]
  },
  {
   "cell_type": "code",
   "execution_count": 47,
   "id": "991c2965",
   "metadata": {
    "execution": {
     "iopub.execute_input": "2023-04-14T00:02:03.440235Z",
     "iopub.status.busy": "2023-04-14T00:02:03.439383Z",
     "iopub.status.idle": "2023-04-14T00:03:27.073281Z",
     "shell.execute_reply": "2023-04-14T00:03:27.072083Z"
    },
    "papermill": {
     "duration": 83.697212,
     "end_time": "2023-04-14T00:03:27.106096",
     "exception": false,
     "start_time": "2023-04-14T00:02:03.408884",
     "status": "completed"
    },
    "tags": []
   },
   "outputs": [
    {
     "data": {
      "text/plain": [
       "0.7221728629332849"
      ]
     },
     "execution_count": 47,
     "metadata": {},
     "output_type": "execute_result"
    }
   ],
   "source": [
    "from sklearn.svm import SVC\n",
    "svm = SVC(probability=True)\n",
    "svm = model_pipeline(svm)\n",
    "svm_cv = cv_score(svm)\n",
    "svm_cv"
   ]
  },
  {
   "cell_type": "code",
   "execution_count": 48,
   "id": "7cb0bd66",
   "metadata": {
    "execution": {
     "iopub.execute_input": "2023-04-14T00:03:27.166824Z",
     "iopub.status.busy": "2023-04-14T00:03:27.166395Z",
     "iopub.status.idle": "2023-04-14T00:03:52.918843Z",
     "shell.execute_reply": "2023-04-14T00:03:52.917467Z"
    },
    "papermill": {
     "duration": 25.786819,
     "end_time": "2023-04-14T00:03:52.922098",
     "exception": false,
     "start_time": "2023-04-14T00:03:27.135279",
     "status": "completed"
    },
    "tags": []
   },
   "outputs": [
    {
     "data": {
      "text/plain": [
       "0.8030203545633617"
      ]
     },
     "execution_count": 48,
     "metadata": {},
     "output_type": "execute_result"
    }
   ],
   "source": [
    "svm.fit(X_train, y_train)\n",
    "svm_score = evaluate(svm)\n",
    "svm_score"
   ]
  },
  {
   "cell_type": "markdown",
   "id": "26c26f6e",
   "metadata": {
    "papermill": {
     "duration": 0.029424,
     "end_time": "2023-04-14T00:03:52.982075",
     "exception": false,
     "start_time": "2023-04-14T00:03:52.952651",
     "status": "completed"
    },
    "tags": []
   },
   "source": [
    "## Decision Tree"
   ]
  },
  {
   "cell_type": "code",
   "execution_count": 49,
   "id": "6f325fac",
   "metadata": {
    "execution": {
     "iopub.execute_input": "2023-04-14T00:03:53.042747Z",
     "iopub.status.busy": "2023-04-14T00:03:53.042286Z",
     "iopub.status.idle": "2023-04-14T00:04:07.234468Z",
     "shell.execute_reply": "2023-04-14T00:04:07.233282Z"
    },
    "papermill": {
     "duration": 14.225461,
     "end_time": "2023-04-14T00:04:07.237164",
     "exception": false,
     "start_time": "2023-04-14T00:03:53.011703",
     "status": "completed"
    },
    "tags": []
   },
   "outputs": [
    {
     "data": {
      "text/plain": [
       "0.6976025537579544"
      ]
     },
     "execution_count": 49,
     "metadata": {},
     "output_type": "execute_result"
    }
   ],
   "source": [
    "from sklearn.tree import DecisionTreeClassifier\n",
    "dt = DecisionTreeClassifier(random_state=42)\n",
    "dt = model_pipeline(dt)\n",
    "dt_cv = cv_score(dt)\n",
    "dt_cv"
   ]
  },
  {
   "cell_type": "code",
   "execution_count": 50,
   "id": "b8aa6a8d",
   "metadata": {
    "execution": {
     "iopub.execute_input": "2023-04-14T00:04:07.298238Z",
     "iopub.status.busy": "2023-04-14T00:04:07.297404Z",
     "iopub.status.idle": "2023-04-14T00:04:11.047800Z",
     "shell.execute_reply": "2023-04-14T00:04:11.046437Z"
    },
    "papermill": {
     "duration": 3.784304,
     "end_time": "2023-04-14T00:04:11.051218",
     "exception": false,
     "start_time": "2023-04-14T00:04:07.266914",
     "status": "completed"
    },
    "tags": []
   },
   "outputs": [
    {
     "data": {
      "text/plain": [
       "0.7458962573867367"
      ]
     },
     "execution_count": 50,
     "metadata": {},
     "output_type": "execute_result"
    }
   ],
   "source": [
    "dt.fit(X_train, y_train)\n",
    "dt_score = evaluate(dt)\n",
    "dt_score"
   ]
  },
  {
   "cell_type": "markdown",
   "id": "bc37d177",
   "metadata": {
    "papermill": {
     "duration": 0.031521,
     "end_time": "2023-04-14T00:04:11.113011",
     "exception": false,
     "start_time": "2023-04-14T00:04:11.081490",
     "status": "completed"
    },
    "tags": []
   },
   "source": [
    "## Random Forest"
   ]
  },
  {
   "cell_type": "code",
   "execution_count": 51,
   "id": "6f2ebe13",
   "metadata": {
    "execution": {
     "iopub.execute_input": "2023-04-14T00:04:11.175688Z",
     "iopub.status.busy": "2023-04-14T00:04:11.174930Z",
     "iopub.status.idle": "2023-04-14T00:04:52.858644Z",
     "shell.execute_reply": "2023-04-14T00:04:52.857373Z"
    },
    "papermill": {
     "duration": 41.747955,
     "end_time": "2023-04-14T00:04:52.891145",
     "exception": false,
     "start_time": "2023-04-14T00:04:11.143190",
     "status": "completed"
    },
    "tags": []
   },
   "outputs": [
    {
     "data": {
      "text/plain": [
       "0.7153273513344284"
      ]
     },
     "execution_count": 51,
     "metadata": {},
     "output_type": "execute_result"
    }
   ],
   "source": [
    "from sklearn.ensemble import RandomForestClassifier\n",
    "rf = RandomForestClassifier(random_state=42)\n",
    "rf = model_pipeline(rf)\n",
    "rf_cv = cv_score(rf)\n",
    "rf_cv"
   ]
  },
  {
   "cell_type": "code",
   "execution_count": 52,
   "id": "4ad93f98",
   "metadata": {
    "execution": {
     "iopub.execute_input": "2023-04-14T00:04:52.954685Z",
     "iopub.status.busy": "2023-04-14T00:04:52.954238Z",
     "iopub.status.idle": "2023-04-14T00:05:04.756377Z",
     "shell.execute_reply": "2023-04-14T00:05:04.755079Z"
    },
    "papermill": {
     "duration": 11.836566,
     "end_time": "2023-04-14T00:05:04.759163",
     "exception": false,
     "start_time": "2023-04-14T00:04:52.922597",
     "status": "completed"
    },
    "tags": []
   },
   "outputs": [
    {
     "data": {
      "text/plain": [
       "0.7793827971109653"
      ]
     },
     "execution_count": 52,
     "metadata": {},
     "output_type": "execute_result"
    }
   ],
   "source": [
    "rf.fit(X_train, y_train)\n",
    "rf_score = evaluate(rf)\n",
    "rf_score"
   ]
  },
  {
   "cell_type": "markdown",
   "id": "3716e2a7",
   "metadata": {
    "papermill": {
     "duration": 0.029246,
     "end_time": "2023-04-14T00:05:04.818479",
     "exception": false,
     "start_time": "2023-04-14T00:05:04.789233",
     "status": "completed"
    },
    "tags": []
   },
   "source": [
    "## Gradient Boosting"
   ]
  },
  {
   "cell_type": "code",
   "execution_count": 53,
   "id": "1a6d15c6",
   "metadata": {
    "execution": {
     "iopub.execute_input": "2023-04-14T00:05:04.880968Z",
     "iopub.status.busy": "2023-04-14T00:05:04.880259Z",
     "iopub.status.idle": "2023-04-14T00:05:19.814052Z",
     "shell.execute_reply": "2023-04-14T00:05:19.812845Z"
    },
    "papermill": {
     "duration": 14.969475,
     "end_time": "2023-04-14T00:05:19.817710",
     "exception": false,
     "start_time": "2023-04-14T00:05:04.848235",
     "status": "completed"
    },
    "tags": []
   },
   "outputs": [
    {
     "data": {
      "text/plain": [
       "0.5995442130866782"
      ]
     },
     "execution_count": 53,
     "metadata": {},
     "output_type": "execute_result"
    }
   ],
   "source": [
    "from sklearn.ensemble import GradientBoostingClassifier\n",
    "gb = GradientBoostingClassifier(random_state=42)\n",
    "gb = model_pipeline(gb)\n",
    "gb_cv = cv_score(gb)\n",
    "gb_cv"
   ]
  },
  {
   "cell_type": "code",
   "execution_count": 54,
   "id": "6ace159c",
   "metadata": {
    "execution": {
     "iopub.execute_input": "2023-04-14T00:05:19.891503Z",
     "iopub.status.busy": "2023-04-14T00:05:19.891070Z",
     "iopub.status.idle": "2023-04-14T00:05:23.470681Z",
     "shell.execute_reply": "2023-04-14T00:05:23.469334Z"
    },
    "papermill": {
     "duration": 3.621912,
     "end_time": "2023-04-14T00:05:23.473809",
     "exception": false,
     "start_time": "2023-04-14T00:05:19.851897",
     "status": "completed"
    },
    "tags": []
   },
   "outputs": [
    {
     "data": {
      "text/plain": [
       "0.7340774786605384"
      ]
     },
     "execution_count": 54,
     "metadata": {},
     "output_type": "execute_result"
    }
   ],
   "source": [
    "gb.fit(X_train, y_train)\n",
    "gb_score = evaluate(gb)\n",
    "gb_score"
   ]
  },
  {
   "cell_type": "markdown",
   "id": "dc1d8f57",
   "metadata": {
    "papermill": {
     "duration": 0.030502,
     "end_time": "2023-04-14T00:05:23.536225",
     "exception": false,
     "start_time": "2023-04-14T00:05:23.505723",
     "status": "completed"
    },
    "tags": []
   },
   "source": [
    "## RNN/LSTM"
   ]
  },
  {
   "cell_type": "code",
   "execution_count": 55,
   "id": "29a45c4d",
   "metadata": {
    "execution": {
     "iopub.execute_input": "2023-04-14T00:05:23.600961Z",
     "iopub.status.busy": "2023-04-14T00:05:23.600462Z",
     "iopub.status.idle": "2023-04-14T00:05:23.611729Z",
     "shell.execute_reply": "2023-04-14T00:05:23.610493Z"
    },
    "papermill": {
     "duration": 0.046717,
     "end_time": "2023-04-14T00:05:23.614915",
     "exception": false,
     "start_time": "2023-04-14T00:05:23.568198",
     "status": "completed"
    },
    "tags": []
   },
   "outputs": [],
   "source": [
    "X_train, X_test, y_train, y_test = train_test_split(train_data['text'], train_data['target'], test_size=0.2, random_state=42)\n",
    "X_train, X_val, y_train, y_val = train_test_split(X_train, y_train, test_size=0.2, random_state=42)\n",
    "\n",
    "# If using a single column with a column transformer\n",
    "# X_train = X_train.to_frame()\n",
    "# X_val = X_val.to_frame()\n",
    "# X_test = X_test.to_frame()"
   ]
  },
  {
   "cell_type": "code",
   "execution_count": 56,
   "id": "bffce9e8",
   "metadata": {
    "execution": {
     "iopub.execute_input": "2023-04-14T00:05:23.679736Z",
     "iopub.status.busy": "2023-04-14T00:05:23.678792Z",
     "iopub.status.idle": "2023-04-14T00:05:25.578705Z",
     "shell.execute_reply": "2023-04-14T00:05:25.577565Z"
    },
    "papermill": {
     "duration": 1.936526,
     "end_time": "2023-04-14T00:05:25.581948",
     "exception": false,
     "start_time": "2023-04-14T00:05:23.645422",
     "status": "completed"
    },
    "tags": []
   },
   "outputs": [],
   "source": [
    "# If X is a Series\n",
    "X_train = X_train.apply(clean_text)\n",
    "X_val = X_val.apply(clean_text)\n",
    "X_test = X_test.apply(clean_text)\n",
    "\n",
    "# If X is a Dataframe\n",
    "# X_train = X_train.apply(lambda col: col.apply(clean_text))\n",
    "# X_val = X_val.apply(lambda col: col.apply(clean_text))\n",
    "# X_test = X_test.apply(lambda col: col.apply(clean_text))"
   ]
  },
  {
   "cell_type": "code",
   "execution_count": 57,
   "id": "a1ccd749",
   "metadata": {
    "execution": {
     "iopub.execute_input": "2023-04-14T00:05:25.646294Z",
     "iopub.status.busy": "2023-04-14T00:05:25.645184Z",
     "iopub.status.idle": "2023-04-14T00:05:26.430737Z",
     "shell.execute_reply": "2023-04-14T00:05:26.429432Z"
    },
    "papermill": {
     "duration": 0.826105,
     "end_time": "2023-04-14T00:05:26.439205",
     "exception": false,
     "start_time": "2023-04-14T00:05:25.613100",
     "status": "completed"
    },
    "tags": []
   },
   "outputs": [
    {
     "name": "stdout",
     "output_type": "stream",
     "text": [
      "Model: \"model\"\n",
      "_________________________________________________________________\n",
      " Layer (type)                Output Shape              Param #   \n",
      "=================================================================\n",
      " input_1 (InputLayer)        [(None, 1)]               0         \n",
      "                                                                 \n",
      " text_vectorization (TextVec  (None, None)             0         \n",
      " torization)                                                     \n",
      "                                                                 \n",
      " embedding (Embedding)       (None, None, 64)          1041856   \n",
      "                                                                 \n",
      " spatial_dropout1d (SpatialD  (None, None, 64)         0         \n",
      " ropout1D)                                                       \n",
      "                                                                 \n",
      " lstm (LSTM)                 (None, 128)               98816     \n",
      "                                                                 \n",
      " layer_normalization (LayerN  (None, 128)              256       \n",
      " ormalization)                                                   \n",
      "                                                                 \n",
      " dropout (Dropout)           (None, 128)               0         \n",
      "                                                                 \n",
      " dense (Dense)               (None, 1)                 129       \n",
      "                                                                 \n",
      "=================================================================\n",
      "Total params: 1,141,057\n",
      "Trainable params: 1,141,057\n",
      "Non-trainable params: 0\n",
      "_________________________________________________________________\n"
     ]
    }
   ],
   "source": [
    "import tensorflow as tf\n",
    "from tensorflow.keras.layers import Input, Embedding, LSTM, Dense, Dropout, SpatialDropout1D, LayerNormalization\n",
    "from tensorflow.keras.models import Model\n",
    "\n",
    "# Parameters\n",
    "MAX_NUM_WORDS = 10000\n",
    "EMBEDDING_DIM = 50\n",
    "\n",
    "# Unique word count with cleaned data\n",
    "unique_words = count_unique_words(X_train)\n",
    "\n",
    "# Layer definitions\n",
    "inputs = Input(shape=(1,), dtype=tf.string) # Shape of single string/tweet\n",
    "vectorizer = tf.keras.layers.TextVectorization(max_tokens=unique_words, output_mode='int')\n",
    "\n",
    "# Model layers\n",
    "x = vectorizer(inputs)\n",
    "x = Embedding(input_dim=unique_words, output_dim=64)(x)\n",
    "x = SpatialDropout1D(0.3)(x)\n",
    "x = LSTM(units=128)(x)\n",
    "x = LayerNormalization()(x)\n",
    "x = Dropout(0.1)(x)\n",
    "outputs = Dense(units=1, activation='sigmoid')(x)\n",
    "\n",
    "# Model\n",
    "model = Model(inputs=inputs, outputs=outputs)\n",
    "model.compile(optimizer=tf.keras.optimizers.Adam(learning_rate=0.0001), loss='binary_crossentropy', metrics=['accuracy']) #'adam'\n",
    "model.summary()"
   ]
  },
  {
   "cell_type": "code",
   "execution_count": 58,
   "id": "7401a968",
   "metadata": {
    "execution": {
     "iopub.execute_input": "2023-04-14T00:05:26.507962Z",
     "iopub.status.busy": "2023-04-14T00:05:26.506563Z",
     "iopub.status.idle": "2023-04-14T00:06:54.474216Z",
     "shell.execute_reply": "2023-04-14T00:06:54.472799Z"
    },
    "papermill": {
     "duration": 88.01871,
     "end_time": "2023-04-14T00:06:54.490112",
     "exception": false,
     "start_time": "2023-04-14T00:05:26.471402",
     "status": "completed"
    },
    "tags": []
   },
   "outputs": [
    {
     "name": "stdout",
     "output_type": "stream",
     "text": [
      "Epoch 1/25\n",
      "153/153 [==============================] - 16s 82ms/step - loss: 0.6954 - accuracy: 0.5486 - val_loss: 0.6621 - val_accuracy: 0.5903\n",
      "Epoch 2/25\n",
      "153/153 [==============================] - 11s 72ms/step - loss: 0.6254 - accuracy: 0.6544 - val_loss: 0.5279 - val_accuracy: 0.7496\n",
      "Epoch 3/25\n",
      "153/153 [==============================] - 12s 76ms/step - loss: 0.4200 - accuracy: 0.8194 - val_loss: 0.4739 - val_accuracy: 0.7874\n",
      "Epoch 4/25\n",
      "153/153 [==============================] - 6s 37ms/step - loss: 0.3125 - accuracy: 0.8738 - val_loss: 0.5281 - val_accuracy: 0.7635\n",
      "Epoch 5/25\n",
      "153/153 [==============================] - 5s 35ms/step - loss: 0.2398 - accuracy: 0.9050 - val_loss: 0.5596 - val_accuracy: 0.7660\n",
      "Epoch 6/25\n",
      "153/153 [==============================] - 5s 34ms/step - loss: 0.1903 - accuracy: 0.9280 - val_loss: 0.6691 - val_accuracy: 0.7332\n",
      "Epoch 7/25\n",
      "153/153 [==============================] - 5s 35ms/step - loss: 0.1483 - accuracy: 0.9456 - val_loss: 0.7286 - val_accuracy: 0.7307\n",
      "Epoch 8/25\n",
      "153/153 [==============================] - 6s 36ms/step - loss: 0.1207 - accuracy: 0.9555 - val_loss: 0.7344 - val_accuracy: 0.7323\n"
     ]
    }
   ],
   "source": [
    "X_train = X_train.to_numpy()\n",
    "vectorizer.adapt(X_train)\n",
    "\n",
    "callbacks = [\n",
    "    tf.keras.callbacks.EarlyStopping(monitor='val_loss', patience=5),\n",
    "    tf.keras.callbacks.ModelCheckpoint(filepath='best_model', monitor='val_loss', mode='min', save_best_only=True)\n",
    "]\n",
    "\n",
    "history = model.fit(X_train, y_train, validation_data=(X_val, y_val), batch_size=32, epochs=25, callbacks=callbacks)\n",
    "\n",
    "loaded_model = tf.keras.models.load_model('best_model')"
   ]
  },
  {
   "cell_type": "code",
   "execution_count": 59,
   "id": "9b566a24",
   "metadata": {
    "execution": {
     "iopub.execute_input": "2023-04-14T00:06:54.646060Z",
     "iopub.status.busy": "2023-04-14T00:06:54.645130Z",
     "iopub.status.idle": "2023-04-14T00:06:54.894942Z",
     "shell.execute_reply": "2023-04-14T00:06:54.893622Z"
    },
    "papermill": {
     "duration": 0.333207,
     "end_time": "2023-04-14T00:06:54.898586",
     "exception": false,
     "start_time": "2023-04-14T00:06:54.565379",
     "status": "completed"
    },
    "tags": []
   },
   "outputs": [
    {
     "data": {
      "image/png": "[encoded data removed]",
      "text/plain": [
       "<Figure size 640x480 with 1 Axes>"
      ]
     },
     "metadata": {},
     "output_type": "display_data"
    }
   ],
   "source": [
    "def plot_loss(history):\n",
    "    \n",
    "    train_loss = history.history['loss']\n",
    "    val_loss = history.history['val_loss']\n",
    "\n",
    "    plt.plot(train_loss, label='Training Loss')\n",
    "    plt.plot(val_loss, label='Validation Loss')\n",
    "    plt.xlabel('Epoch')\n",
    "    plt.ylabel('Loss')\n",
    "    plt.legend()\n",
    "    plt.show()\n",
    "    \n",
    "plot_loss(history=history)"
   ]
  },
  {
   "cell_type": "code",
   "execution_count": 60,
   "id": "eefd3611",
   "metadata": {
    "execution": {
     "iopub.execute_input": "2023-04-14T00:06:55.045599Z",
     "iopub.status.busy": "2023-04-14T00:06:55.044870Z",
     "iopub.status.idle": "2023-04-14T00:06:56.236196Z",
     "shell.execute_reply": "2023-04-14T00:06:56.234895Z"
    },
    "papermill": {
     "duration": 1.268293,
     "end_time": "2023-04-14T00:06:56.239072",
     "exception": false,
     "start_time": "2023-04-14T00:06:54.970779",
     "status": "completed"
    },
    "tags": []
   },
   "outputs": [
    {
     "name": "stdout",
     "output_type": "stream",
     "text": [
      "48/48 [==============================] - 1s 10ms/step - loss: 0.5014 - accuracy: 0.7584\n"
     ]
    }
   ],
   "source": [
    "rnn_score = loaded_model.evaluate(X_test, y_test)[1]"
   ]
  },
  {
   "cell_type": "markdown",
   "id": "433e6e8e",
   "metadata": {
    "papermill": {
     "duration": 0.072499,
     "end_time": "2023-04-14T00:06:56.384744",
     "exception": false,
     "start_time": "2023-04-14T00:06:56.312245",
     "status": "completed"
    },
    "tags": []
   },
   "source": [
    "# Model Comparison\n",
    "Comparing test set scores is what matters when selecting a model. The validation set or cross validation scores are used for hyperparameter tunning."
   ]
  },
  {
   "cell_type": "code",
   "execution_count": 61,
   "id": "67f49ec7",
   "metadata": {
    "execution": {
     "iopub.execute_input": "2023-04-14T00:06:56.534427Z",
     "iopub.status.busy": "2023-04-14T00:06:56.533357Z",
     "iopub.status.idle": "2023-04-14T00:06:56.543267Z",
     "shell.execute_reply": "2023-04-14T00:06:56.541839Z"
    },
    "papermill": {
     "duration": 0.087364,
     "end_time": "2023-04-14T00:06:56.546459",
     "exception": false,
     "start_time": "2023-04-14T00:06:56.459095",
     "status": "completed"
    },
    "tags": []
   },
   "outputs": [
    {
     "data": {
      "text/plain": [
       "{'ridge': 0.7721602101116218,\n",
       " 'mnb': 0.7905449770190414,\n",
       " 'bnb': 0.8003939592908733,\n",
       " 'lr': 0.799080761654629,\n",
       " 'svm': 0.8030203545633617,\n",
       " 'dt': 0.7458962573867367,\n",
       " 'rf': 0.7793827971109653,\n",
       " 'gb': 0.7340774786605384,\n",
       " 'rnn': 0.7583716511726379}"
      ]
     },
     "execution_count": 61,
     "metadata": {},
     "output_type": "execute_result"
    }
   ],
   "source": [
    "# Test set accuracy scores\n",
    "eval_scores = {\n",
    "    'ridge': ridge_score,\n",
    "    'mnb': mnb_score,\n",
    "    'bnb': bnb_score,\n",
    "    'lr': lr_score,\n",
    "    'svm': svm_score,\n",
    "    'dt': dt_score,\n",
    "    'rf': rf_score,\n",
    "    'gb': gb_score,\n",
    "    'rnn': rnn_score\n",
    "}\n",
    "eval_scores"
   ]
  },
  {
   "cell_type": "markdown",
   "id": "6de8d78e",
   "metadata": {
    "papermill": {
     "duration": 0.072806,
     "end_time": "2023-04-14T00:06:56.692666",
     "exception": false,
     "start_time": "2023-04-14T00:06:56.619860",
     "status": "completed"
    },
    "tags": []
   },
   "source": [
    "Support Vector Classifier has the highest test set evaluation score followed by Bernoulli Naive Bayes. There is a minimal difference between the test set score and the cross validation score, this demonstrates that the model did not overfit the training data set."
   ]
  },
  {
   "cell_type": "code",
   "execution_count": 62,
   "id": "57d443a5",
   "metadata": {
    "execution": {
     "iopub.execute_input": "2023-04-14T00:06:56.843263Z",
     "iopub.status.busy": "2023-04-14T00:06:56.841923Z",
     "iopub.status.idle": "2023-04-14T00:06:56.849978Z",
     "shell.execute_reply": "2023-04-14T00:06:56.848830Z"
    },
    "papermill": {
     "duration": 0.085801,
     "end_time": "2023-04-14T00:06:56.852795",
     "exception": false,
     "start_time": "2023-04-14T00:06:56.766994",
     "status": "completed"
    },
    "tags": []
   },
   "outputs": [
    {
     "data": {
      "text/plain": [
       "'svm'"
      ]
     },
     "execution_count": 62,
     "metadata": {},
     "output_type": "execute_result"
    }
   ],
   "source": [
    "max_score = max(eval_scores, key=eval_scores.get)\n",
    "max_score"
   ]
  },
  {
   "cell_type": "markdown",
   "id": "2cb3e0db",
   "metadata": {
    "papermill": {
     "duration": 0.073831,
     "end_time": "2023-04-14T00:06:57.000037",
     "exception": false,
     "start_time": "2023-04-14T00:06:56.926206",
     "status": "completed"
    },
    "tags": []
   },
   "source": [
    "# Chosen Model's Performance Metrics\n",
    "\n",
    "Accuracy (accuracy_score) is not a good metric with imbalanced datasets. <br>\n",
    "\n",
    "Model Evaluation:\n",
    "* accuracy_score (balanced classes)\n",
    "* classification_report (imbalanced classes): precision, recall, F1-score \n",
    "* confusion_matrix\n",
    "* roc_auc_score"
   ]
  },
  {
   "cell_type": "code",
   "execution_count": 63,
   "id": "d024b731",
   "metadata": {
    "execution": {
     "iopub.execute_input": "2023-04-14T00:06:57.150385Z",
     "iopub.status.busy": "2023-04-14T00:06:57.149912Z",
     "iopub.status.idle": "2023-04-14T00:06:57.154204Z",
     "shell.execute_reply": "2023-04-14T00:06:57.153288Z"
    },
    "papermill": {
     "duration": 0.082244,
     "end_time": "2023-04-14T00:06:57.156405",
     "exception": false,
     "start_time": "2023-04-14T00:06:57.074161",
     "status": "completed"
    },
    "tags": []
   },
   "outputs": [],
   "source": [
    "# For the neural network\n",
    "# pred_test_prob = loaded_model.predict(X_test)\n",
    "# pred_test = np.where(pred_test_prob > 0.5, 1, 0)"
   ]
  },
  {
   "cell_type": "code",
   "execution_count": 64,
   "id": "f3c465af",
   "metadata": {
    "execution": {
     "iopub.execute_input": "2023-04-14T00:06:57.306695Z",
     "iopub.status.busy": "2023-04-14T00:06:57.305874Z",
     "iopub.status.idle": "2023-04-14T00:06:58.580717Z",
     "shell.execute_reply": "2023-04-14T00:06:58.579411Z"
    },
    "papermill": {
     "duration": 1.352843,
     "end_time": "2023-04-14T00:06:58.583820",
     "exception": false,
     "start_time": "2023-04-14T00:06:57.230977",
     "status": "completed"
    },
    "tags": []
   },
   "outputs": [
    {
     "data": {
      "text/plain": [
       "array([0, 0, 0, ..., 1, 1, 0])"
      ]
     },
     "execution_count": 64,
     "metadata": {},
     "output_type": "execute_result"
    }
   ],
   "source": [
    "X_train, X_test, y_train, y_test = train_test_split(train_data['text'], train_data['target'], test_size=0.2, random_state=42)\n",
    "\n",
    "# If using a single column with a column transformer\n",
    "X_train = X_train.to_frame()\n",
    "X_test = X_test.to_frame()\n",
    "\n",
    "pred_test = svm.predict(X_test)\n",
    "pred_test"
   ]
  },
  {
   "cell_type": "markdown",
   "id": "b5736a1b",
   "metadata": {
    "papermill": {
     "duration": 0.073735,
     "end_time": "2023-04-14T00:06:58.731273",
     "exception": false,
     "start_time": "2023-04-14T00:06:58.657538",
     "status": "completed"
    },
    "tags": []
   },
   "source": [
    "## Confusion Matrix"
   ]
  },
  {
   "cell_type": "code",
   "execution_count": 65,
   "id": "dacca5a7",
   "metadata": {
    "execution": {
     "iopub.execute_input": "2023-04-14T00:06:58.881636Z",
     "iopub.status.busy": "2023-04-14T00:06:58.881170Z",
     "iopub.status.idle": "2023-04-14T00:06:59.180207Z",
     "shell.execute_reply": "2023-04-14T00:06:59.177447Z"
    },
    "papermill": {
     "duration": 0.380528,
     "end_time": "2023-04-14T00:06:59.186033",
     "exception": false,
     "start_time": "2023-04-14T00:06:58.805505",
     "status": "completed"
    },
    "tags": []
   },
   "outputs": [
    {
     "data": {
      "image/png": "[encoded data removed]",
      "text/plain": [
       "<Figure size 1000x700 with 2 Axes>"
      ]
     },
     "metadata": {},
     "output_type": "display_data"
    }
   ],
   "source": [
    "from sklearn.metrics import confusion_matrix\n",
    "\n",
    "cm = confusion_matrix(pred_test, y_test)\n",
    "\n",
    "fig = plt.figure(figsize=(10, 7))\n",
    "ax = sns.heatmap(cm, annot=True, cmap=\"YlGnBu\", fmt='d')\n",
    "ax.set_title(\"Confusion Matrix\")\n",
    "ax.set_ylabel(\"Predicted\")\n",
    "ax.set_xlabel(\"True\")\n",
    "plt.show()"
   ]
  },
  {
   "cell_type": "markdown",
   "id": "392eade3",
   "metadata": {
    "papermill": {
     "duration": 0.07586,
     "end_time": "2023-04-14T00:06:59.337228",
     "exception": false,
     "start_time": "2023-04-14T00:06:59.261368",
     "status": "completed"
    },
    "tags": []
   },
   "source": [
    "## Precision, Recall, F1-scores"
   ]
  },
  {
   "cell_type": "code",
   "execution_count": 66,
   "id": "d7465f60",
   "metadata": {
    "execution": {
     "iopub.execute_input": "2023-04-14T00:06:59.486653Z",
     "iopub.status.busy": "2023-04-14T00:06:59.486243Z",
     "iopub.status.idle": "2023-04-14T00:06:59.498908Z",
     "shell.execute_reply": "2023-04-14T00:06:59.497538Z"
    },
    "papermill": {
     "duration": 0.091497,
     "end_time": "2023-04-14T00:06:59.502414",
     "exception": false,
     "start_time": "2023-04-14T00:06:59.410917",
     "status": "completed"
    },
    "tags": []
   },
   "outputs": [
    {
     "name": "stdout",
     "output_type": "stream",
     "text": [
      "              precision    recall  f1-score   support\n",
      "\n",
      "           0       0.91      0.78      0.84      1024\n",
      "           1       0.65      0.85      0.74       499\n",
      "\n",
      "    accuracy                           0.80      1523\n",
      "   macro avg       0.78      0.81      0.79      1523\n",
      "weighted avg       0.83      0.80      0.81      1523\n",
      "\n"
     ]
    }
   ],
   "source": [
    "from sklearn.metrics import classification_report\n",
    "\n",
    "print(classification_report(pred_test, y_test))"
   ]
  },
  {
   "cell_type": "markdown",
   "id": "aa0889c1",
   "metadata": {
    "papermill": {
     "duration": 0.073449,
     "end_time": "2023-04-14T00:06:59.649741",
     "exception": false,
     "start_time": "2023-04-14T00:06:59.576292",
     "status": "completed"
    },
    "tags": []
   },
   "source": [
    "## Area Under the Reciever Operating Characteristic Curve: AUC-ROC"
   ]
  },
  {
   "cell_type": "code",
   "execution_count": 67,
   "id": "f2c6799f",
   "metadata": {
    "execution": {
     "iopub.execute_input": "2023-04-14T00:06:59.801151Z",
     "iopub.status.busy": "2023-04-14T00:06:59.800430Z",
     "iopub.status.idle": "2023-04-14T00:07:01.403607Z",
     "shell.execute_reply": "2023-04-14T00:07:01.402135Z"
    },
    "papermill": {
     "duration": 1.682146,
     "end_time": "2023-04-14T00:07:01.406650",
     "exception": false,
     "start_time": "2023-04-14T00:06:59.724504",
     "status": "completed"
    },
    "tags": []
   },
   "outputs": [
    {
     "data": {
      "image/png": "[encoded data removed]",
      "text/plain": [
       "<Figure size 640x480 with 1 Axes>"
      ]
     },
     "metadata": {},
     "output_type": "display_data"
    }
   ],
   "source": [
    "from sklearn.metrics import roc_auc_score, roc_curve\n",
    "\n",
    "pred_test_prob = svm.predict_proba(X_test)[:, 1]\n",
    "auc_roc = roc_auc_score(y_test, pred_test_prob)\n",
    "fpr, tpr, _ = roc_curve(y_test, pred_test_prob)\n",
    "\n",
    "plt.plot(fpr, tpr, label=f'AUC-ROC={auc_roc:.2f}')\n",
    "# roc_df = pd.DataFrame({'fpr': fpr, 'tpr': tpr})\n",
    "# sns.lineplot(x='fpr', y='tpr', data=roc_df, label=f'AUC-ROC={auc_roc:.2f}')\n",
    "\n",
    "plt.plot([0, 1], [0, 1], linestyle='--')\n",
    "plt.xlabel('False Positive Rate')\n",
    "plt.ylabel('True Positive Rate')\n",
    "plt.title('Receiver Operating Characteristic (ROC) Curve')\n",
    "plt.legend()\n",
    "plt.show()"
   ]
  },
  {
   "cell_type": "markdown",
   "id": "25b8eae3",
   "metadata": {
    "papermill": {
     "duration": 0.075498,
     "end_time": "2023-04-14T00:07:01.557424",
     "exception": false,
     "start_time": "2023-04-14T00:07:01.481926",
     "status": "completed"
    },
    "tags": []
   },
   "source": [
    "# Predictions"
   ]
  },
  {
   "cell_type": "code",
   "execution_count": 68,
   "id": "14dd1378",
   "metadata": {
    "execution": {
     "iopub.execute_input": "2023-04-14T00:07:01.813820Z",
     "iopub.status.busy": "2023-04-14T00:07:01.812607Z",
     "iopub.status.idle": "2023-04-14T00:07:04.697803Z",
     "shell.execute_reply": "2023-04-14T00:07:04.696532Z"
    },
    "papermill": {
     "duration": 2.96635,
     "end_time": "2023-04-14T00:07:04.701141",
     "exception": false,
     "start_time": "2023-04-14T00:07:01.734791",
     "status": "completed"
    },
    "tags": []
   },
   "outputs": [],
   "source": [
    "predictions = svm.predict(test_data['text'].to_frame())"
   ]
  },
  {
   "cell_type": "markdown",
   "id": "cca565b8",
   "metadata": {
    "papermill": {
     "duration": 0.075348,
     "end_time": "2023-04-14T00:07:04.853865",
     "exception": false,
     "start_time": "2023-04-14T00:07:04.778517",
     "status": "completed"
    },
    "tags": []
   },
   "source": [
    "# Submission"
   ]
  },
  {
   "cell_type": "code",
   "execution_count": 69,
   "id": "64a68788",
   "metadata": {
    "execution": {
     "iopub.execute_input": "2023-04-14T00:07:05.009972Z",
     "iopub.status.busy": "2023-04-14T00:07:05.009545Z",
     "iopub.status.idle": "2023-04-14T00:07:05.045712Z",
     "shell.execute_reply": "2023-04-14T00:07:05.044361Z"
    },
    "papermill": {
     "duration": 0.117943,
     "end_time": "2023-04-14T00:07:05.048748",
     "exception": false,
     "start_time": "2023-04-14T00:07:04.930805",
     "status": "completed"
    },
    "tags": []
   },
   "outputs": [],
   "source": [
    "submission = pd.read_csv(\"/kaggle/input/nlp-getting-started/sample_submission.csv\")\n",
    "submission[\"target\"] = predictions\n",
    "submission.to_csv(\"submission.csv\", index=False)"
   ]
  },
  {
   "cell_type": "markdown",
   "id": "d373c741",
   "metadata": {
    "papermill": {
     "duration": 0.07582,
     "end_time": "2023-04-14T00:07:05.203846",
     "exception": false,
     "start_time": "2023-04-14T00:07:05.128026",
     "status": "completed"
    },
    "tags": []
   },
   "source": [
    "# Other methods to improve: \n",
    "* BERT"
   ]
  }
 ],
 "metadata": {
  "kernelspec": {
   "display_name": "Python 3",
   "language": "python",
   "name": "python3"
  },
  "language_info": {
   "codemirror_mode": {
    "name": "ipython",
    "version": 3
   },
   "file_extension": ".py",
   "mimetype": "text/x-python",
   "name": "python",
   "nbconvert_exporter": "python",
   "pygments_lexer": "ipython3",
   "version": "3.7.12"
  },
  "papermill": {
   "default_parameters": {},
   "duration": 377.313928,
   "end_time": "2023-04-14T00:07:08.092971",
   "environment_variables": {},
   "exception": null,
   "input_path": "__notebook__.ipynb",
   "output_path": "__notebook__.ipynb",
   "parameters": {},
   "start_time": "2023-04-14T00:00:50.779043",
   "version": "2.4.0"
  }
 },
 "nbformat": 4,
 "nbformat_minor": 5
}
